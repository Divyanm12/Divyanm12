{
 "cells": [
  {
   "cell_type": "code",
   "execution_count": 1,
   "id": "3215dbb5",
   "metadata": {
    "ExecuteTime": {
     "end_time": "2021-11-24T09:45:39.589604Z",
     "start_time": "2021-11-24T09:40:32.376807Z"
    },
    "colab": {
     "base_uri": "https://localhost:8080/"
    },
    "id": "3215dbb5",
    "outputId": "5470294c-cfa3-40ad-d834-b9c2a3f286f0"
   },
   "outputs": [
    {
     "name": "stdout",
     "output_type": "stream",
     "text": [
      "Collecting tensorflow==1.12.0\n",
      "  Downloading https://storage.googleapis.com/tensorflow/mac/cpu/tensorflow-1.12.0-py3-none-any.whl (62.0 MB)\n",
      "\u001b[K     |████████████████████████████████| 62.0 MB 1.3 MB/s \n",
      "\u001b[?25hRequirement already satisfied: wheel>=0.26 in /usr/local/lib/python3.7/dist-packages (from tensorflow==1.12.0) (0.37.0)\n",
      "Collecting keras-applications>=1.0.6\n",
      "  Downloading Keras_Applications-1.0.8-py3-none-any.whl (50 kB)\n",
      "\u001b[K     |████████████████████████████████| 50 kB 3.0 MB/s \n",
      "\u001b[?25hRequirement already satisfied: gast>=0.2.0 in /usr/local/lib/python3.7/dist-packages (from tensorflow==1.12.0) (0.4.0)\n",
      "Collecting tensorboard<1.13.0,>=1.12.0\n",
      "  Downloading tensorboard-1.12.2-py3-none-any.whl (3.0 MB)\n",
      "\u001b[K     |████████████████████████████████| 3.0 MB 10.3 MB/s \n",
      "\u001b[?25hRequirement already satisfied: numpy>=1.13.3 in /usr/local/lib/python3.7/dist-packages (from tensorflow==1.12.0) (1.19.5)\n",
      "Requirement already satisfied: absl-py>=0.1.6 in /usr/local/lib/python3.7/dist-packages (from tensorflow==1.12.0) (0.12.0)\n",
      "Requirement already satisfied: keras-preprocessing>=1.0.5 in /usr/local/lib/python3.7/dist-packages (from tensorflow==1.12.0) (1.1.2)\n",
      "Requirement already satisfied: termcolor>=1.1.0 in /usr/local/lib/python3.7/dist-packages (from tensorflow==1.12.0) (1.1.0)\n",
      "Requirement already satisfied: grpcio>=1.8.6 in /usr/local/lib/python3.7/dist-packages (from tensorflow==1.12.0) (1.42.0)\n",
      "Requirement already satisfied: six>=1.10.0 in /usr/local/lib/python3.7/dist-packages (from tensorflow==1.12.0) (1.15.0)\n",
      "Requirement already satisfied: protobuf>=3.6.1 in /usr/local/lib/python3.7/dist-packages (from tensorflow==1.12.0) (3.17.3)\n",
      "Requirement already satisfied: astor>=0.6.0 in /usr/local/lib/python3.7/dist-packages (from tensorflow==1.12.0) (0.8.1)\n",
      "Requirement already satisfied: h5py in /usr/local/lib/python3.7/dist-packages (from keras-applications>=1.0.6->tensorflow==1.12.0) (3.1.0)\n",
      "Requirement already satisfied: markdown>=2.6.8 in /usr/local/lib/python3.7/dist-packages (from tensorboard<1.13.0,>=1.12.0->tensorflow==1.12.0) (3.3.6)\n",
      "Requirement already satisfied: werkzeug>=0.11.10 in /usr/local/lib/python3.7/dist-packages (from tensorboard<1.13.0,>=1.12.0->tensorflow==1.12.0) (1.0.1)\n",
      "Requirement already satisfied: importlib-metadata>=4.4 in /usr/local/lib/python3.7/dist-packages (from markdown>=2.6.8->tensorboard<1.13.0,>=1.12.0->tensorflow==1.12.0) (4.8.2)\n",
      "Requirement already satisfied: typing-extensions>=3.6.4 in /usr/local/lib/python3.7/dist-packages (from importlib-metadata>=4.4->markdown>=2.6.8->tensorboard<1.13.0,>=1.12.0->tensorflow==1.12.0) (3.10.0.2)\n",
      "Requirement already satisfied: zipp>=0.5 in /usr/local/lib/python3.7/dist-packages (from importlib-metadata>=4.4->markdown>=2.6.8->tensorboard<1.13.0,>=1.12.0->tensorflow==1.12.0) (3.6.0)\n",
      "Requirement already satisfied: cached-property in /usr/local/lib/python3.7/dist-packages (from h5py->keras-applications>=1.0.6->tensorflow==1.12.0) (1.5.2)\n",
      "Installing collected packages: tensorboard, keras-applications, tensorflow\n",
      "  Attempting uninstall: tensorboard\n",
      "    Found existing installation: tensorboard 2.7.0\n",
      "    Uninstalling tensorboard-2.7.0:\n",
      "      Successfully uninstalled tensorboard-2.7.0\n",
      "  Attempting uninstall: tensorflow\n",
      "    Found existing installation: tensorflow 2.7.0\n",
      "    Uninstalling tensorflow-2.7.0:\n",
      "      Successfully uninstalled tensorflow-2.7.0\n",
      "\u001b[31mERROR: pip's dependency resolver does not currently take into account all the packages that are installed. This behaviour is the source of the following dependency conflicts.\n",
      "kapre 0.3.6 requires tensorflow>=2.0.0, but you have tensorflow 1.12.0 which is incompatible.\u001b[0m\n",
      "Successfully installed keras-applications-1.0.8 tensorboard-1.12.2 tensorflow-1.12.0\n"
     ]
    }
   ],
   "source": [
    "pip install --upgrade https://storage.googleapis.com/tensorflow/mac/cpu/tensorflow-1.12.0-py3-none-any.whl"
   ]
  },
  {
   "cell_type": "code",
   "execution_count": 2,
   "id": "e1551bd1",
   "metadata": {
    "ExecuteTime": {
     "start_time": "2021-11-24T10:00:31.755Z"
    },
    "colab": {
     "base_uri": "https://localhost:8080/"
    },
    "id": "e1551bd1",
    "outputId": "f1c0f056-bb65-4af6-c9fb-e173fd008c46"
   },
   "outputs": [
    {
     "name": "stdout",
     "output_type": "stream",
     "text": [
      "Requirement already satisfied: tensorflow in /usr/local/lib/python3.7/dist-packages (1.12.0)\n",
      "Collecting tensorflow\n",
      "  Downloading tensorflow-2.7.0-cp37-cp37m-manylinux2010_x86_64.whl (489.6 MB)\n",
      "\u001b[K     |████████████████████████████████| 489.6 MB 25 kB/s \n",
      "\u001b[?25hRequirement already satisfied: termcolor>=1.1.0 in /usr/local/lib/python3.7/dist-packages (from tensorflow) (1.1.0)\n",
      "Requirement already satisfied: grpcio<2.0,>=1.24.3 in /usr/local/lib/python3.7/dist-packages (from tensorflow) (1.42.0)\n",
      "Requirement already satisfied: wheel<1.0,>=0.32.0 in /usr/local/lib/python3.7/dist-packages (from tensorflow) (0.37.0)\n",
      "Requirement already satisfied: h5py>=2.9.0 in /usr/local/lib/python3.7/dist-packages (from tensorflow) (3.1.0)\n",
      "Requirement already satisfied: absl-py>=0.4.0 in /usr/local/lib/python3.7/dist-packages (from tensorflow) (0.12.0)\n",
      "Requirement already satisfied: astunparse>=1.6.0 in /usr/local/lib/python3.7/dist-packages (from tensorflow) (1.6.3)\n",
      "Requirement already satisfied: tensorflow-io-gcs-filesystem>=0.21.0 in /usr/local/lib/python3.7/dist-packages (from tensorflow) (0.22.0)\n",
      "Requirement already satisfied: libclang>=9.0.1 in /usr/local/lib/python3.7/dist-packages (from tensorflow) (12.0.0)\n",
      "Requirement already satisfied: keras<2.8,>=2.7.0rc0 in /usr/local/lib/python3.7/dist-packages (from tensorflow) (2.7.0)\n",
      "Requirement already satisfied: wrapt>=1.11.0 in /usr/local/lib/python3.7/dist-packages (from tensorflow) (1.13.3)\n",
      "Requirement already satisfied: google-pasta>=0.1.1 in /usr/local/lib/python3.7/dist-packages (from tensorflow) (0.2.0)\n",
      "Requirement already satisfied: typing-extensions>=3.6.6 in /usr/local/lib/python3.7/dist-packages (from tensorflow) (3.10.0.2)\n",
      "Requirement already satisfied: six>=1.12.0 in /usr/local/lib/python3.7/dist-packages (from tensorflow) (1.15.0)\n",
      "Requirement already satisfied: flatbuffers<3.0,>=1.12 in /usr/local/lib/python3.7/dist-packages (from tensorflow) (2.0)\n",
      "Requirement already satisfied: opt-einsum>=2.3.2 in /usr/local/lib/python3.7/dist-packages (from tensorflow) (3.3.0)\n",
      "Requirement already satisfied: keras-preprocessing>=1.1.1 in /usr/local/lib/python3.7/dist-packages (from tensorflow) (1.1.2)\n",
      "Requirement already satisfied: protobuf>=3.9.2 in /usr/local/lib/python3.7/dist-packages (from tensorflow) (3.17.3)\n",
      "Requirement already satisfied: tensorflow-estimator<2.8,~=2.7.0rc0 in /usr/local/lib/python3.7/dist-packages (from tensorflow) (2.7.0)\n",
      "Requirement already satisfied: gast<0.5.0,>=0.2.1 in /usr/local/lib/python3.7/dist-packages (from tensorflow) (0.4.0)\n",
      "Requirement already satisfied: numpy>=1.14.5 in /usr/local/lib/python3.7/dist-packages (from tensorflow) (1.19.5)\n",
      "Collecting tensorboard~=2.6\n",
      "  Downloading tensorboard-2.7.0-py3-none-any.whl (5.8 MB)\n",
      "\u001b[K     |████████████████████████████████| 5.8 MB 20.7 MB/s \n",
      "\u001b[?25hRequirement already satisfied: cached-property in /usr/local/lib/python3.7/dist-packages (from h5py>=2.9.0->tensorflow) (1.5.2)\n",
      "Requirement already satisfied: tensorboard-plugin-wit>=1.6.0 in /usr/local/lib/python3.7/dist-packages (from tensorboard~=2.6->tensorflow) (1.8.0)\n",
      "Requirement already satisfied: markdown>=2.6.8 in /usr/local/lib/python3.7/dist-packages (from tensorboard~=2.6->tensorflow) (3.3.6)\n",
      "Requirement already satisfied: requests<3,>=2.21.0 in /usr/local/lib/python3.7/dist-packages (from tensorboard~=2.6->tensorflow) (2.23.0)\n",
      "Requirement already satisfied: google-auth<3,>=1.6.3 in /usr/local/lib/python3.7/dist-packages (from tensorboard~=2.6->tensorflow) (1.35.0)\n",
      "Requirement already satisfied: setuptools>=41.0.0 in /usr/local/lib/python3.7/dist-packages (from tensorboard~=2.6->tensorflow) (57.4.0)\n",
      "Requirement already satisfied: google-auth-oauthlib<0.5,>=0.4.1 in /usr/local/lib/python3.7/dist-packages (from tensorboard~=2.6->tensorflow) (0.4.6)\n",
      "Requirement already satisfied: werkzeug>=0.11.15 in /usr/local/lib/python3.7/dist-packages (from tensorboard~=2.6->tensorflow) (1.0.1)\n",
      "Requirement already satisfied: tensorboard-data-server<0.7.0,>=0.6.0 in /usr/local/lib/python3.7/dist-packages (from tensorboard~=2.6->tensorflow) (0.6.1)\n",
      "Requirement already satisfied: pyasn1-modules>=0.2.1 in /usr/local/lib/python3.7/dist-packages (from google-auth<3,>=1.6.3->tensorboard~=2.6->tensorflow) (0.2.8)\n",
      "Requirement already satisfied: cachetools<5.0,>=2.0.0 in /usr/local/lib/python3.7/dist-packages (from google-auth<3,>=1.6.3->tensorboard~=2.6->tensorflow) (4.2.4)\n",
      "Requirement already satisfied: rsa<5,>=3.1.4 in /usr/local/lib/python3.7/dist-packages (from google-auth<3,>=1.6.3->tensorboard~=2.6->tensorflow) (4.7.2)\n",
      "Requirement already satisfied: requests-oauthlib>=0.7.0 in /usr/local/lib/python3.7/dist-packages (from google-auth-oauthlib<0.5,>=0.4.1->tensorboard~=2.6->tensorflow) (1.3.0)\n",
      "Requirement already satisfied: importlib-metadata>=4.4 in /usr/local/lib/python3.7/dist-packages (from markdown>=2.6.8->tensorboard~=2.6->tensorflow) (4.8.2)\n",
      "Requirement already satisfied: zipp>=0.5 in /usr/local/lib/python3.7/dist-packages (from importlib-metadata>=4.4->markdown>=2.6.8->tensorboard~=2.6->tensorflow) (3.6.0)\n",
      "Requirement already satisfied: pyasn1<0.5.0,>=0.4.6 in /usr/local/lib/python3.7/dist-packages (from pyasn1-modules>=0.2.1->google-auth<3,>=1.6.3->tensorboard~=2.6->tensorflow) (0.4.8)\n",
      "Requirement already satisfied: chardet<4,>=3.0.2 in /usr/local/lib/python3.7/dist-packages (from requests<3,>=2.21.0->tensorboard~=2.6->tensorflow) (3.0.4)\n",
      "Requirement already satisfied: certifi>=2017.4.17 in /usr/local/lib/python3.7/dist-packages (from requests<3,>=2.21.0->tensorboard~=2.6->tensorflow) (2021.10.8)\n",
      "Requirement already satisfied: idna<3,>=2.5 in /usr/local/lib/python3.7/dist-packages (from requests<3,>=2.21.0->tensorboard~=2.6->tensorflow) (2.10)\n",
      "Requirement already satisfied: urllib3!=1.25.0,!=1.25.1,<1.26,>=1.21.1 in /usr/local/lib/python3.7/dist-packages (from requests<3,>=2.21.0->tensorboard~=2.6->tensorflow) (1.24.3)\n",
      "Requirement already satisfied: oauthlib>=3.0.0 in /usr/local/lib/python3.7/dist-packages (from requests-oauthlib>=0.7.0->google-auth-oauthlib<0.5,>=0.4.1->tensorboard~=2.6->tensorflow) (3.1.1)\n",
      "Installing collected packages: tensorboard, tensorflow\n",
      "  Attempting uninstall: tensorboard\n",
      "    Found existing installation: tensorboard 1.12.2\n",
      "    Uninstalling tensorboard-1.12.2:\n",
      "      Successfully uninstalled tensorboard-1.12.2\n",
      "  Attempting uninstall: tensorflow\n",
      "    Found existing installation: tensorflow 1.12.0\n",
      "    Uninstalling tensorflow-1.12.0:\n",
      "      Successfully uninstalled tensorflow-1.12.0\n",
      "Successfully installed tensorboard-2.7.0 tensorflow-2.7.0\n"
     ]
    }
   ],
   "source": [
    "pip install --upgrade tensorflow"
   ]
  },
  {
   "cell_type": "code",
   "execution_count": 3,
   "id": "df4774ae",
   "metadata": {
    "id": "df4774ae"
   },
   "outputs": [],
   "source": [
    "import keras\n",
    "import pandas as pd\n",
    "import numpy as np\n",
    "import seaborn as sns"
   ]
  },
  {
   "cell_type": "code",
   "execution_count": 6,
   "id": "ee65b0e9",
   "metadata": {
    "colab": {
     "base_uri": "https://localhost:8080/",
     "height": 320
    },
    "id": "ee65b0e9",
    "outputId": "d19ebd86-7237-4538-d225-54a1434c7e22"
   },
   "outputs": [
    {
     "data": {
      "text/html": [
       "<div>\n",
       "<style scoped>\n",
       "    .dataframe tbody tr th:only-of-type {\n",
       "        vertical-align: middle;\n",
       "    }\n",
       "\n",
       "    .dataframe tbody tr th {\n",
       "        vertical-align: top;\n",
       "    }\n",
       "\n",
       "    .dataframe thead th {\n",
       "        text-align: right;\n",
       "    }\n",
       "</style>\n",
       "<table border=\"1\" class=\"dataframe\">\n",
       "  <thead>\n",
       "    <tr style=\"text-align: right;\">\n",
       "      <th></th>\n",
       "      <th>FFMC</th>\n",
       "      <th>DMC</th>\n",
       "      <th>DC</th>\n",
       "      <th>ISI</th>\n",
       "      <th>temp</th>\n",
       "      <th>RH</th>\n",
       "      <th>wind</th>\n",
       "      <th>rain</th>\n",
       "      <th>area</th>\n",
       "      <th>dayfri</th>\n",
       "      <th>daymon</th>\n",
       "      <th>daysat</th>\n",
       "      <th>daysun</th>\n",
       "      <th>daythu</th>\n",
       "      <th>daytue</th>\n",
       "      <th>daywed</th>\n",
       "      <th>monthapr</th>\n",
       "      <th>monthaug</th>\n",
       "      <th>monthdec</th>\n",
       "      <th>monthfeb</th>\n",
       "      <th>monthjan</th>\n",
       "      <th>monthjul</th>\n",
       "      <th>monthjun</th>\n",
       "      <th>monthmar</th>\n",
       "      <th>monthmay</th>\n",
       "      <th>monthnov</th>\n",
       "      <th>monthoct</th>\n",
       "      <th>monthsep</th>\n",
       "    </tr>\n",
       "  </thead>\n",
       "  <tbody>\n",
       "    <tr>\n",
       "      <th>count</th>\n",
       "      <td>517.000000</td>\n",
       "      <td>517.000000</td>\n",
       "      <td>517.000000</td>\n",
       "      <td>517.000000</td>\n",
       "      <td>517.000000</td>\n",
       "      <td>517.000000</td>\n",
       "      <td>517.000000</td>\n",
       "      <td>517.000000</td>\n",
       "      <td>517.000000</td>\n",
       "      <td>517.000000</td>\n",
       "      <td>517.000000</td>\n",
       "      <td>517.000000</td>\n",
       "      <td>517.000000</td>\n",
       "      <td>517.000000</td>\n",
       "      <td>517.000000</td>\n",
       "      <td>517.000000</td>\n",
       "      <td>517.000000</td>\n",
       "      <td>517.000000</td>\n",
       "      <td>517.000000</td>\n",
       "      <td>517.000000</td>\n",
       "      <td>517.000000</td>\n",
       "      <td>517.000000</td>\n",
       "      <td>517.000000</td>\n",
       "      <td>517.000000</td>\n",
       "      <td>517.000000</td>\n",
       "      <td>517.000000</td>\n",
       "      <td>517.000000</td>\n",
       "      <td>517.000000</td>\n",
       "    </tr>\n",
       "    <tr>\n",
       "      <th>mean</th>\n",
       "      <td>90.644681</td>\n",
       "      <td>110.872340</td>\n",
       "      <td>547.940039</td>\n",
       "      <td>9.021663</td>\n",
       "      <td>18.889168</td>\n",
       "      <td>44.288201</td>\n",
       "      <td>4.017602</td>\n",
       "      <td>0.021663</td>\n",
       "      <td>12.847292</td>\n",
       "      <td>0.164410</td>\n",
       "      <td>0.143133</td>\n",
       "      <td>0.162476</td>\n",
       "      <td>0.183752</td>\n",
       "      <td>0.117988</td>\n",
       "      <td>0.123791</td>\n",
       "      <td>0.104449</td>\n",
       "      <td>0.017408</td>\n",
       "      <td>0.355899</td>\n",
       "      <td>0.017408</td>\n",
       "      <td>0.038685</td>\n",
       "      <td>0.003868</td>\n",
       "      <td>0.061896</td>\n",
       "      <td>0.032882</td>\n",
       "      <td>0.104449</td>\n",
       "      <td>0.003868</td>\n",
       "      <td>0.001934</td>\n",
       "      <td>0.029014</td>\n",
       "      <td>0.332689</td>\n",
       "    </tr>\n",
       "    <tr>\n",
       "      <th>std</th>\n",
       "      <td>5.520111</td>\n",
       "      <td>64.046482</td>\n",
       "      <td>248.066192</td>\n",
       "      <td>4.559477</td>\n",
       "      <td>5.806625</td>\n",
       "      <td>16.317469</td>\n",
       "      <td>1.791653</td>\n",
       "      <td>0.295959</td>\n",
       "      <td>63.655818</td>\n",
       "      <td>0.371006</td>\n",
       "      <td>0.350548</td>\n",
       "      <td>0.369244</td>\n",
       "      <td>0.387657</td>\n",
       "      <td>0.322907</td>\n",
       "      <td>0.329662</td>\n",
       "      <td>0.306138</td>\n",
       "      <td>0.130913</td>\n",
       "      <td>0.479249</td>\n",
       "      <td>0.130913</td>\n",
       "      <td>0.193029</td>\n",
       "      <td>0.062137</td>\n",
       "      <td>0.241199</td>\n",
       "      <td>0.178500</td>\n",
       "      <td>0.306138</td>\n",
       "      <td>0.062137</td>\n",
       "      <td>0.043980</td>\n",
       "      <td>0.168007</td>\n",
       "      <td>0.471632</td>\n",
       "    </tr>\n",
       "    <tr>\n",
       "      <th>min</th>\n",
       "      <td>18.700000</td>\n",
       "      <td>1.100000</td>\n",
       "      <td>7.900000</td>\n",
       "      <td>0.000000</td>\n",
       "      <td>2.200000</td>\n",
       "      <td>15.000000</td>\n",
       "      <td>0.400000</td>\n",
       "      <td>0.000000</td>\n",
       "      <td>0.000000</td>\n",
       "      <td>0.000000</td>\n",
       "      <td>0.000000</td>\n",
       "      <td>0.000000</td>\n",
       "      <td>0.000000</td>\n",
       "      <td>0.000000</td>\n",
       "      <td>0.000000</td>\n",
       "      <td>0.000000</td>\n",
       "      <td>0.000000</td>\n",
       "      <td>0.000000</td>\n",
       "      <td>0.000000</td>\n",
       "      <td>0.000000</td>\n",
       "      <td>0.000000</td>\n",
       "      <td>0.000000</td>\n",
       "      <td>0.000000</td>\n",
       "      <td>0.000000</td>\n",
       "      <td>0.000000</td>\n",
       "      <td>0.000000</td>\n",
       "      <td>0.000000</td>\n",
       "      <td>0.000000</td>\n",
       "    </tr>\n",
       "    <tr>\n",
       "      <th>25%</th>\n",
       "      <td>90.200000</td>\n",
       "      <td>68.600000</td>\n",
       "      <td>437.700000</td>\n",
       "      <td>6.500000</td>\n",
       "      <td>15.500000</td>\n",
       "      <td>33.000000</td>\n",
       "      <td>2.700000</td>\n",
       "      <td>0.000000</td>\n",
       "      <td>0.000000</td>\n",
       "      <td>0.000000</td>\n",
       "      <td>0.000000</td>\n",
       "      <td>0.000000</td>\n",
       "      <td>0.000000</td>\n",
       "      <td>0.000000</td>\n",
       "      <td>0.000000</td>\n",
       "      <td>0.000000</td>\n",
       "      <td>0.000000</td>\n",
       "      <td>0.000000</td>\n",
       "      <td>0.000000</td>\n",
       "      <td>0.000000</td>\n",
       "      <td>0.000000</td>\n",
       "      <td>0.000000</td>\n",
       "      <td>0.000000</td>\n",
       "      <td>0.000000</td>\n",
       "      <td>0.000000</td>\n",
       "      <td>0.000000</td>\n",
       "      <td>0.000000</td>\n",
       "      <td>0.000000</td>\n",
       "    </tr>\n",
       "    <tr>\n",
       "      <th>50%</th>\n",
       "      <td>91.600000</td>\n",
       "      <td>108.300000</td>\n",
       "      <td>664.200000</td>\n",
       "      <td>8.400000</td>\n",
       "      <td>19.300000</td>\n",
       "      <td>42.000000</td>\n",
       "      <td>4.000000</td>\n",
       "      <td>0.000000</td>\n",
       "      <td>0.520000</td>\n",
       "      <td>0.000000</td>\n",
       "      <td>0.000000</td>\n",
       "      <td>0.000000</td>\n",
       "      <td>0.000000</td>\n",
       "      <td>0.000000</td>\n",
       "      <td>0.000000</td>\n",
       "      <td>0.000000</td>\n",
       "      <td>0.000000</td>\n",
       "      <td>0.000000</td>\n",
       "      <td>0.000000</td>\n",
       "      <td>0.000000</td>\n",
       "      <td>0.000000</td>\n",
       "      <td>0.000000</td>\n",
       "      <td>0.000000</td>\n",
       "      <td>0.000000</td>\n",
       "      <td>0.000000</td>\n",
       "      <td>0.000000</td>\n",
       "      <td>0.000000</td>\n",
       "      <td>0.000000</td>\n",
       "    </tr>\n",
       "    <tr>\n",
       "      <th>75%</th>\n",
       "      <td>92.900000</td>\n",
       "      <td>142.400000</td>\n",
       "      <td>713.900000</td>\n",
       "      <td>10.800000</td>\n",
       "      <td>22.800000</td>\n",
       "      <td>53.000000</td>\n",
       "      <td>4.900000</td>\n",
       "      <td>0.000000</td>\n",
       "      <td>6.570000</td>\n",
       "      <td>0.000000</td>\n",
       "      <td>0.000000</td>\n",
       "      <td>0.000000</td>\n",
       "      <td>0.000000</td>\n",
       "      <td>0.000000</td>\n",
       "      <td>0.000000</td>\n",
       "      <td>0.000000</td>\n",
       "      <td>0.000000</td>\n",
       "      <td>1.000000</td>\n",
       "      <td>0.000000</td>\n",
       "      <td>0.000000</td>\n",
       "      <td>0.000000</td>\n",
       "      <td>0.000000</td>\n",
       "      <td>0.000000</td>\n",
       "      <td>0.000000</td>\n",
       "      <td>0.000000</td>\n",
       "      <td>0.000000</td>\n",
       "      <td>0.000000</td>\n",
       "      <td>1.000000</td>\n",
       "    </tr>\n",
       "    <tr>\n",
       "      <th>max</th>\n",
       "      <td>96.200000</td>\n",
       "      <td>291.300000</td>\n",
       "      <td>860.600000</td>\n",
       "      <td>56.100000</td>\n",
       "      <td>33.300000</td>\n",
       "      <td>100.000000</td>\n",
       "      <td>9.400000</td>\n",
       "      <td>6.400000</td>\n",
       "      <td>1090.840000</td>\n",
       "      <td>1.000000</td>\n",
       "      <td>1.000000</td>\n",
       "      <td>1.000000</td>\n",
       "      <td>1.000000</td>\n",
       "      <td>1.000000</td>\n",
       "      <td>1.000000</td>\n",
       "      <td>1.000000</td>\n",
       "      <td>1.000000</td>\n",
       "      <td>1.000000</td>\n",
       "      <td>1.000000</td>\n",
       "      <td>1.000000</td>\n",
       "      <td>1.000000</td>\n",
       "      <td>1.000000</td>\n",
       "      <td>1.000000</td>\n",
       "      <td>1.000000</td>\n",
       "      <td>1.000000</td>\n",
       "      <td>1.000000</td>\n",
       "      <td>1.000000</td>\n",
       "      <td>1.000000</td>\n",
       "    </tr>\n",
       "  </tbody>\n",
       "</table>\n",
       "</div>"
      ],
      "text/plain": [
       "             FFMC         DMC          DC  ...    monthnov    monthoct    monthsep\n",
       "count  517.000000  517.000000  517.000000  ...  517.000000  517.000000  517.000000\n",
       "mean    90.644681  110.872340  547.940039  ...    0.001934    0.029014    0.332689\n",
       "std      5.520111   64.046482  248.066192  ...    0.043980    0.168007    0.471632\n",
       "min     18.700000    1.100000    7.900000  ...    0.000000    0.000000    0.000000\n",
       "25%     90.200000   68.600000  437.700000  ...    0.000000    0.000000    0.000000\n",
       "50%     91.600000  108.300000  664.200000  ...    0.000000    0.000000    0.000000\n",
       "75%     92.900000  142.400000  713.900000  ...    0.000000    0.000000    1.000000\n",
       "max     96.200000  291.300000  860.600000  ...    1.000000    1.000000    1.000000\n",
       "\n",
       "[8 rows x 28 columns]"
      ]
     },
     "execution_count": 6,
     "metadata": {},
     "output_type": "execute_result"
    }
   ],
   "source": [
    "forest=pd.read_csv(\"forestfires.csv\")\n",
    "forest.describe()"
   ]
  },
  {
   "cell_type": "code",
   "execution_count": 8,
   "id": "26d8996f",
   "metadata": {
    "colab": {
     "base_uri": "https://localhost:8080/",
     "height": 282
    },
    "id": "26d8996f",
    "outputId": "6fadb3c2-40c9-4c52-80a8-a4fd65f96bba"
   },
   "outputs": [
    {
     "data": {
      "text/plain": [
       "<matplotlib.axes._subplots.AxesSubplot at 0x7fc26cb08750>"
      ]
     },
     "execution_count": 8,
     "metadata": {},
     "output_type": "execute_result"
    },
    {
     "data": {
      "image/png": "[encoded data removed]",
      "text/plain": [
       "<Figure size 432x288 with 1 Axes>"
      ]
     },
     "metadata": {
      "needs_background": "light"
     },
     "output_type": "display_data"
    }
   ],
   "source": [
    "pd.crosstab(forest.FFMC,forest.size_category).plot(kind='hist')\n"
   ]
  },
  {
   "cell_type": "code",
   "execution_count": 9,
   "id": "a0d178a4",
   "metadata": {
    "colab": {
     "base_uri": "https://localhost:8080/",
     "height": 282
    },
    "id": "a0d178a4",
    "outputId": "fd546665-ead0-4839-a183-2f8dcf604890"
   },
   "outputs": [
    {
     "data": {
      "text/plain": [
       "<matplotlib.axes._subplots.AxesSubplot at 0x7fc26ae6bcd0>"
      ]
     },
     "execution_count": 9,
     "metadata": {},
     "output_type": "execute_result"
    },
    {
     "data": {
      "image/png": "[encoded data removed]",
      "text/plain": [
       "<Figure size 432x288 with 1 Axes>"
      ]
     },
     "metadata": {
      "needs_background": "light"
     },
     "output_type": "display_data"
    }
   ],
   "source": [
    "pd.crosstab(forest.DMC,forest.size_category).plot(kind='hist',width=.2)"
   ]
  },
  {
   "cell_type": "code",
   "execution_count": 10,
   "id": "115eef07",
   "metadata": {
    "colab": {
     "base_uri": "https://localhost:8080/",
     "height": 297
    },
    "id": "115eef07",
    "outputId": "0c7119d1-9543-46d0-df73-69556ef4d200"
   },
   "outputs": [
    {
     "data": {
      "text/plain": [
       "<matplotlib.axes._subplots.AxesSubplot at 0x7fc26a933dd0>"
      ]
     },
     "execution_count": 10,
     "metadata": {},
     "output_type": "execute_result"
    },
    {
     "data": {
      "image/png": "[encoded data removed]",
      "text/plain": [
       "<Figure size 432x288 with 1 Axes>"
      ]
     },
     "metadata": {
      "needs_background": "light"
     },
     "output_type": "display_data"
    }
   ],
   "source": [
    "sns.countplot(x='size_category',data=forest)"
   ]
  },
  {
   "cell_type": "code",
   "execution_count": 11,
   "id": "0c72b445",
   "metadata": {
    "colab": {
     "base_uri": "https://localhost:8080/",
     "height": 302
    },
    "id": "0c72b445",
    "outputId": "6a1323f6-95da-47e6-8214-79f22170e99e"
   },
   "outputs": [
    {
     "data": {
      "text/plain": [
       "<matplotlib.axes._subplots.AxesSubplot at 0x7fc26a8257d0>"
      ]
     },
     "execution_count": 11,
     "metadata": {},
     "output_type": "execute_result"
    },
    {
     "data": {
      "image/png": "[encoded data removed]",
      "text/plain": [
       "<Figure size 432x288 with 1 Axes>"
      ]
     },
     "metadata": {
      "needs_background": "light"
     },
     "output_type": "display_data"
    }
   ],
   "source": [
    "pd.crosstab(forest.wind,forest.size_category).plot(kind='bar')"
   ]
  },
  {
   "cell_type": "code",
   "execution_count": 12,
   "id": "2fe256b6",
   "metadata": {
    "colab": {
     "base_uri": "https://localhost:8080/"
    },
    "id": "2fe256b6",
    "outputId": "c56ba004-7070-4cbb-d500-a20e0f4e7faa"
   },
   "outputs": [
    {
     "data": {
      "text/plain": [
       "month            0\n",
       "day              0\n",
       "FFMC             0\n",
       "DMC              0\n",
       "DC               0\n",
       "ISI              0\n",
       "temp             0\n",
       "RH               0\n",
       "wind             0\n",
       "rain             0\n",
       "area             0\n",
       "dayfri           0\n",
       "daymon           0\n",
       "daysat           0\n",
       "daysun           0\n",
       "daythu           0\n",
       "daytue           0\n",
       "daywed           0\n",
       "monthapr         0\n",
       "monthaug         0\n",
       "monthdec         0\n",
       "monthfeb         0\n",
       "monthjan         0\n",
       "monthjul         0\n",
       "monthjun         0\n",
       "monthmar         0\n",
       "monthmay         0\n",
       "monthnov         0\n",
       "monthoct         0\n",
       "monthsep         0\n",
       "size_category    0\n",
       "dtype: int64"
      ]
     },
     "execution_count": 12,
     "metadata": {},
     "output_type": "execute_result"
    }
   ],
   "source": [
    "forest.isnull().sum()"
   ]
  },
  {
   "cell_type": "code",
   "execution_count": 13,
   "id": "b935f611",
   "metadata": {
    "colab": {
     "base_uri": "https://localhost:8080/",
     "height": 226
    },
    "id": "b935f611",
    "outputId": "36a2cadb-098c-4fe8-f502-fe569a8bec1a"
   },
   "outputs": [
    {
     "data": {
      "text/html": [
       "<div>\n",
       "<style scoped>\n",
       "    .dataframe tbody tr th:only-of-type {\n",
       "        vertical-align: middle;\n",
       "    }\n",
       "\n",
       "    .dataframe tbody tr th {\n",
       "        vertical-align: top;\n",
       "    }\n",
       "\n",
       "    .dataframe thead th {\n",
       "        text-align: right;\n",
       "    }\n",
       "</style>\n",
       "<table border=\"1\" class=\"dataframe\">\n",
       "  <thead>\n",
       "    <tr style=\"text-align: right;\">\n",
       "      <th></th>\n",
       "      <th>month</th>\n",
       "      <th>day</th>\n",
       "      <th>FFMC</th>\n",
       "      <th>DMC</th>\n",
       "      <th>DC</th>\n",
       "      <th>ISI</th>\n",
       "      <th>temp</th>\n",
       "      <th>RH</th>\n",
       "      <th>wind</th>\n",
       "      <th>rain</th>\n",
       "      <th>area</th>\n",
       "      <th>dayfri</th>\n",
       "      <th>daymon</th>\n",
       "      <th>daysat</th>\n",
       "      <th>daysun</th>\n",
       "      <th>daythu</th>\n",
       "      <th>daytue</th>\n",
       "      <th>daywed</th>\n",
       "      <th>monthapr</th>\n",
       "      <th>monthaug</th>\n",
       "      <th>monthdec</th>\n",
       "      <th>monthfeb</th>\n",
       "      <th>monthjan</th>\n",
       "      <th>monthjul</th>\n",
       "      <th>monthjun</th>\n",
       "      <th>monthmar</th>\n",
       "      <th>monthmay</th>\n",
       "      <th>monthnov</th>\n",
       "      <th>monthoct</th>\n",
       "      <th>monthsep</th>\n",
       "      <th>size_category</th>\n",
       "    </tr>\n",
       "  </thead>\n",
       "  <tbody>\n",
       "    <tr>\n",
       "      <th>0</th>\n",
       "      <td>mar</td>\n",
       "      <td>fri</td>\n",
       "      <td>86.2</td>\n",
       "      <td>26.2</td>\n",
       "      <td>94.3</td>\n",
       "      <td>5.1</td>\n",
       "      <td>8.2</td>\n",
       "      <td>51</td>\n",
       "      <td>6.7</td>\n",
       "      <td>0.0</td>\n",
       "      <td>0.0</td>\n",
       "      <td>1</td>\n",
       "      <td>0</td>\n",
       "      <td>0</td>\n",
       "      <td>0</td>\n",
       "      <td>0</td>\n",
       "      <td>0</td>\n",
       "      <td>0</td>\n",
       "      <td>0</td>\n",
       "      <td>0</td>\n",
       "      <td>0</td>\n",
       "      <td>0</td>\n",
       "      <td>0</td>\n",
       "      <td>0</td>\n",
       "      <td>0</td>\n",
       "      <td>1</td>\n",
       "      <td>0</td>\n",
       "      <td>0</td>\n",
       "      <td>0</td>\n",
       "      <td>0</td>\n",
       "      <td>1</td>\n",
       "    </tr>\n",
       "    <tr>\n",
       "      <th>1</th>\n",
       "      <td>oct</td>\n",
       "      <td>tue</td>\n",
       "      <td>90.6</td>\n",
       "      <td>35.4</td>\n",
       "      <td>669.1</td>\n",
       "      <td>6.7</td>\n",
       "      <td>18.0</td>\n",
       "      <td>33</td>\n",
       "      <td>0.9</td>\n",
       "      <td>0.0</td>\n",
       "      <td>0.0</td>\n",
       "      <td>0</td>\n",
       "      <td>0</td>\n",
       "      <td>0</td>\n",
       "      <td>0</td>\n",
       "      <td>0</td>\n",
       "      <td>1</td>\n",
       "      <td>0</td>\n",
       "      <td>0</td>\n",
       "      <td>0</td>\n",
       "      <td>0</td>\n",
       "      <td>0</td>\n",
       "      <td>0</td>\n",
       "      <td>0</td>\n",
       "      <td>0</td>\n",
       "      <td>0</td>\n",
       "      <td>0</td>\n",
       "      <td>0</td>\n",
       "      <td>1</td>\n",
       "      <td>0</td>\n",
       "      <td>1</td>\n",
       "    </tr>\n",
       "    <tr>\n",
       "      <th>2</th>\n",
       "      <td>oct</td>\n",
       "      <td>sat</td>\n",
       "      <td>90.6</td>\n",
       "      <td>43.7</td>\n",
       "      <td>686.9</td>\n",
       "      <td>6.7</td>\n",
       "      <td>14.6</td>\n",
       "      <td>33</td>\n",
       "      <td>1.3</td>\n",
       "      <td>0.0</td>\n",
       "      <td>0.0</td>\n",
       "      <td>0</td>\n",
       "      <td>0</td>\n",
       "      <td>1</td>\n",
       "      <td>0</td>\n",
       "      <td>0</td>\n",
       "      <td>0</td>\n",
       "      <td>0</td>\n",
       "      <td>0</td>\n",
       "      <td>0</td>\n",
       "      <td>0</td>\n",
       "      <td>0</td>\n",
       "      <td>0</td>\n",
       "      <td>0</td>\n",
       "      <td>0</td>\n",
       "      <td>0</td>\n",
       "      <td>0</td>\n",
       "      <td>0</td>\n",
       "      <td>1</td>\n",
       "      <td>0</td>\n",
       "      <td>1</td>\n",
       "    </tr>\n",
       "    <tr>\n",
       "      <th>3</th>\n",
       "      <td>mar</td>\n",
       "      <td>fri</td>\n",
       "      <td>91.7</td>\n",
       "      <td>33.3</td>\n",
       "      <td>77.5</td>\n",
       "      <td>9.0</td>\n",
       "      <td>8.3</td>\n",
       "      <td>97</td>\n",
       "      <td>4.0</td>\n",
       "      <td>0.2</td>\n",
       "      <td>0.0</td>\n",
       "      <td>1</td>\n",
       "      <td>0</td>\n",
       "      <td>0</td>\n",
       "      <td>0</td>\n",
       "      <td>0</td>\n",
       "      <td>0</td>\n",
       "      <td>0</td>\n",
       "      <td>0</td>\n",
       "      <td>0</td>\n",
       "      <td>0</td>\n",
       "      <td>0</td>\n",
       "      <td>0</td>\n",
       "      <td>0</td>\n",
       "      <td>0</td>\n",
       "      <td>1</td>\n",
       "      <td>0</td>\n",
       "      <td>0</td>\n",
       "      <td>0</td>\n",
       "      <td>0</td>\n",
       "      <td>1</td>\n",
       "    </tr>\n",
       "    <tr>\n",
       "      <th>4</th>\n",
       "      <td>mar</td>\n",
       "      <td>sun</td>\n",
       "      <td>89.3</td>\n",
       "      <td>51.3</td>\n",
       "      <td>102.2</td>\n",
       "      <td>9.6</td>\n",
       "      <td>11.4</td>\n",
       "      <td>99</td>\n",
       "      <td>1.8</td>\n",
       "      <td>0.0</td>\n",
       "      <td>0.0</td>\n",
       "      <td>0</td>\n",
       "      <td>0</td>\n",
       "      <td>0</td>\n",
       "      <td>1</td>\n",
       "      <td>0</td>\n",
       "      <td>0</td>\n",
       "      <td>0</td>\n",
       "      <td>0</td>\n",
       "      <td>0</td>\n",
       "      <td>0</td>\n",
       "      <td>0</td>\n",
       "      <td>0</td>\n",
       "      <td>0</td>\n",
       "      <td>0</td>\n",
       "      <td>1</td>\n",
       "      <td>0</td>\n",
       "      <td>0</td>\n",
       "      <td>0</td>\n",
       "      <td>0</td>\n",
       "      <td>1</td>\n",
       "    </tr>\n",
       "  </tbody>\n",
       "</table>\n",
       "</div>"
      ],
      "text/plain": [
       "  month  day  FFMC   DMC  ...  monthnov  monthoct  monthsep  size_category\n",
       "0   mar  fri  86.2  26.2  ...         0         0         0              1\n",
       "1   oct  tue  90.6  35.4  ...         0         1         0              1\n",
       "2   oct  sat  90.6  43.7  ...         0         1         0              1\n",
       "3   mar  fri  91.7  33.3  ...         0         0         0              1\n",
       "4   mar  sun  89.3  51.3  ...         0         0         0              1\n",
       "\n",
       "[5 rows x 31 columns]"
      ]
     },
     "execution_count": 13,
     "metadata": {},
     "output_type": "execute_result"
    }
   ],
   "source": [
    "from sklearn import preprocessing\n",
    "label=preprocessing.LabelEncoder()\n",
    "forest['size_category']=label.fit_transform(forest['size_category'])\n",
    "forest.head()"
   ]
  },
  {
   "cell_type": "code",
   "execution_count": 14,
   "id": "bb79d4ff",
   "metadata": {
    "id": "bb79d4ff"
   },
   "outputs": [],
   "source": [
    "forest1=forest.iloc[:,2:]   #Drop the repeated columes\n",
    "from sklearn.preprocessing import StandardScaler "
   ]
  },
  {
   "cell_type": "code",
   "execution_count": 15,
   "id": "68c569b3",
   "metadata": {
    "colab": {
     "base_uri": "https://localhost:8080/"
    },
    "id": "68c569b3",
    "outputId": "ed5f6b80-0f48-4cf8-81da-352ccf717c7a"
   },
   "outputs": [
    {
     "data": {
      "text/plain": [
       "((517,), (517, 28))"
      ]
     },
     "execution_count": 15,
     "metadata": {},
     "output_type": "execute_result"
    }
   ],
   "source": [
    "X=forest1.iloc[:,0:28]\n",
    "Y=forest1.iloc[:,28]\n",
    "Y.shape,X.shape"
   ]
  },
  {
   "cell_type": "code",
   "execution_count": 16,
   "id": "eb5a75e7",
   "metadata": {
    "id": "eb5a75e7"
   },
   "outputs": [],
   "source": [
    "from keras.models import Sequential\n",
    "from keras.layers import Dense"
   ]
  },
  {
   "cell_type": "code",
   "execution_count": 17,
   "id": "9704bdda",
   "metadata": {
    "id": "9704bdda"
   },
   "outputs": [],
   "source": [
    "model = Sequential()\n",
    "model.add(Dense(12, input_dim=28, kernel_initializer='random_uniform', activation='relu'))\n",
    "model.add(Dense(8, kernel_initializer='random_uniform', activation='relu'))\n",
    "model.add(Dense(1, kernel_initializer='random_uniform', activation='sigmoid'))"
   ]
  },
  {
   "cell_type": "code",
   "execution_count": 18,
   "id": "109164b1",
   "metadata": {
    "id": "109164b1"
   },
   "outputs": [],
   "source": [
    "model.compile(loss='binary_crossentropy',optimizer='adam',metrics=['accuracy'])"
   ]
  },
  {
   "cell_type": "code",
   "execution_count": 19,
   "id": "6ada8a37",
   "metadata": {
    "colab": {
     "base_uri": "https://localhost:8080/"
    },
    "id": "6ada8a37",
    "outputId": "dd833620-253b-459f-9cce-4811d654bf58"
   },
   "outputs": [
    {
     "name": "stdout",
     "output_type": "stream",
     "text": [
      "Epoch 1/100\n",
      "73/73 [==============================] - 1s 5ms/step - loss: 0.6068 - accuracy: 0.7424 - val_loss: 0.6301 - val_accuracy: 0.6731\n",
      "Epoch 2/100\n",
      "73/73 [==============================] - 0s 3ms/step - loss: 0.5638 - accuracy: 0.7590 - val_loss: 0.6707 - val_accuracy: 0.6795\n",
      "Epoch 3/100\n",
      "73/73 [==============================] - 0s 2ms/step - loss: 0.5332 - accuracy: 0.7645 - val_loss: 0.5798 - val_accuracy: 0.7179\n",
      "Epoch 4/100\n",
      "73/73 [==============================] - 0s 3ms/step - loss: 0.4665 - accuracy: 0.8061 - val_loss: 0.4558 - val_accuracy: 0.8013\n",
      "Epoch 5/100\n",
      "73/73 [==============================] - 0s 2ms/step - loss: 0.4063 - accuracy: 0.8338 - val_loss: 0.4288 - val_accuracy: 0.8013\n",
      "Epoch 6/100\n",
      "73/73 [==============================] - 0s 3ms/step - loss: 0.3187 - accuracy: 0.8781 - val_loss: 0.4119 - val_accuracy: 0.8077\n",
      "Epoch 7/100\n",
      "73/73 [==============================] - 0s 2ms/step - loss: 0.2587 - accuracy: 0.9003 - val_loss: 0.2537 - val_accuracy: 0.8718\n",
      "Epoch 8/100\n",
      "73/73 [==============================] - 0s 3ms/step - loss: 0.1781 - accuracy: 0.9391 - val_loss: 0.3490 - val_accuracy: 0.8462\n",
      "Epoch 9/100\n",
      "73/73 [==============================] - 0s 3ms/step - loss: 0.1970 - accuracy: 0.9307 - val_loss: 0.3396 - val_accuracy: 0.8526\n",
      "Epoch 10/100\n",
      "73/73 [==============================] - 0s 3ms/step - loss: 0.1134 - accuracy: 0.9723 - val_loss: 0.1433 - val_accuracy: 0.9359\n",
      "Epoch 11/100\n",
      "73/73 [==============================] - 0s 3ms/step - loss: 0.0968 - accuracy: 0.9668 - val_loss: 0.1649 - val_accuracy: 0.9551\n",
      "Epoch 12/100\n",
      "73/73 [==============================] - 0s 3ms/step - loss: 0.0877 - accuracy: 0.9695 - val_loss: 0.3501 - val_accuracy: 0.8782\n",
      "Epoch 13/100\n",
      "73/73 [==============================] - 0s 2ms/step - loss: 0.1045 - accuracy: 0.9584 - val_loss: 0.1172 - val_accuracy: 0.9551\n",
      "Epoch 14/100\n",
      "73/73 [==============================] - 0s 3ms/step - loss: 0.0706 - accuracy: 0.9751 - val_loss: 0.0963 - val_accuracy: 0.9679\n",
      "Epoch 15/100\n",
      "73/73 [==============================] - 0s 3ms/step - loss: 0.0620 - accuracy: 0.9751 - val_loss: 0.0930 - val_accuracy: 0.9487\n",
      "Epoch 16/100\n",
      "73/73 [==============================] - 0s 3ms/step - loss: 0.0590 - accuracy: 0.9834 - val_loss: 0.0821 - val_accuracy: 0.9744\n",
      "Epoch 17/100\n",
      "73/73 [==============================] - 0s 2ms/step - loss: 0.0548 - accuracy: 0.9778 - val_loss: 0.0866 - val_accuracy: 0.9551\n",
      "Epoch 18/100\n",
      "73/73 [==============================] - 0s 3ms/step - loss: 0.0434 - accuracy: 0.9834 - val_loss: 0.1106 - val_accuracy: 0.9487\n",
      "Epoch 19/100\n",
      "73/73 [==============================] - 0s 2ms/step - loss: 0.1064 - accuracy: 0.9529 - val_loss: 0.1080 - val_accuracy: 0.9487\n",
      "Epoch 20/100\n",
      "73/73 [==============================] - 0s 2ms/step - loss: 0.0564 - accuracy: 0.9751 - val_loss: 0.0730 - val_accuracy: 0.9679\n",
      "Epoch 21/100\n",
      "73/73 [==============================] - 0s 3ms/step - loss: 0.0393 - accuracy: 0.9917 - val_loss: 0.0720 - val_accuracy: 0.9744\n",
      "Epoch 22/100\n",
      "73/73 [==============================] - 0s 3ms/step - loss: 0.0602 - accuracy: 0.9778 - val_loss: 0.1125 - val_accuracy: 0.9423\n",
      "Epoch 23/100\n",
      "73/73 [==============================] - 0s 3ms/step - loss: 0.0551 - accuracy: 0.9806 - val_loss: 0.0705 - val_accuracy: 0.9744\n",
      "Epoch 24/100\n",
      "73/73 [==============================] - 0s 2ms/step - loss: 0.0711 - accuracy: 0.9723 - val_loss: 0.1242 - val_accuracy: 0.9487\n",
      "Epoch 25/100\n",
      "73/73 [==============================] - 0s 2ms/step - loss: 0.0805 - accuracy: 0.9695 - val_loss: 0.0846 - val_accuracy: 0.9487\n",
      "Epoch 26/100\n",
      "73/73 [==============================] - 0s 2ms/step - loss: 0.0799 - accuracy: 0.9668 - val_loss: 0.0678 - val_accuracy: 0.9679\n",
      "Epoch 27/100\n",
      "73/73 [==============================] - 0s 3ms/step - loss: 0.0339 - accuracy: 0.9889 - val_loss: 0.0665 - val_accuracy: 0.9679\n",
      "Epoch 28/100\n",
      "73/73 [==============================] - 0s 2ms/step - loss: 0.0348 - accuracy: 0.9889 - val_loss: 0.0633 - val_accuracy: 0.9744\n",
      "Epoch 29/100\n",
      "73/73 [==============================] - 0s 3ms/step - loss: 0.0325 - accuracy: 0.9945 - val_loss: 0.0731 - val_accuracy: 0.9487\n",
      "Epoch 30/100\n",
      "73/73 [==============================] - 0s 2ms/step - loss: 0.0257 - accuracy: 0.9945 - val_loss: 0.1790 - val_accuracy: 0.9359\n",
      "Epoch 31/100\n",
      "73/73 [==============================] - 0s 2ms/step - loss: 0.0591 - accuracy: 0.9723 - val_loss: 0.2800 - val_accuracy: 0.8910\n",
      "Epoch 32/100\n",
      "73/73 [==============================] - 0s 2ms/step - loss: 0.0420 - accuracy: 0.9834 - val_loss: 0.1266 - val_accuracy: 0.9551\n",
      "Epoch 33/100\n",
      "73/73 [==============================] - 0s 2ms/step - loss: 0.0255 - accuracy: 0.9917 - val_loss: 0.0622 - val_accuracy: 0.9679\n",
      "Epoch 34/100\n",
      "73/73 [==============================] - 0s 2ms/step - loss: 0.0303 - accuracy: 0.9917 - val_loss: 0.0628 - val_accuracy: 0.9744\n",
      "Epoch 35/100\n",
      "73/73 [==============================] - 0s 2ms/step - loss: 0.0418 - accuracy: 0.9778 - val_loss: 0.0684 - val_accuracy: 0.9744\n",
      "Epoch 36/100\n",
      "73/73 [==============================] - 0s 2ms/step - loss: 0.0625 - accuracy: 0.9778 - val_loss: 0.0899 - val_accuracy: 0.9487\n",
      "Epoch 37/100\n",
      "73/73 [==============================] - 0s 2ms/step - loss: 0.0274 - accuracy: 0.9861 - val_loss: 0.0697 - val_accuracy: 0.9744\n",
      "Epoch 38/100\n",
      "73/73 [==============================] - 0s 3ms/step - loss: 0.0301 - accuracy: 0.9889 - val_loss: 0.0830 - val_accuracy: 0.9487\n",
      "Epoch 39/100\n",
      "73/73 [==============================] - 0s 3ms/step - loss: 0.0288 - accuracy: 0.9861 - val_loss: 0.0717 - val_accuracy: 0.9744\n",
      "Epoch 40/100\n",
      "73/73 [==============================] - 0s 2ms/step - loss: 0.0263 - accuracy: 0.9917 - val_loss: 0.0724 - val_accuracy: 0.9744\n",
      "Epoch 41/100\n",
      "73/73 [==============================] - 0s 2ms/step - loss: 0.0330 - accuracy: 0.9889 - val_loss: 0.0672 - val_accuracy: 0.9744\n",
      "Epoch 42/100\n",
      "73/73 [==============================] - 0s 3ms/step - loss: 0.0523 - accuracy: 0.9751 - val_loss: 0.2502 - val_accuracy: 0.9167\n",
      "Epoch 43/100\n",
      "73/73 [==============================] - 0s 3ms/step - loss: 0.0860 - accuracy: 0.9778 - val_loss: 0.2246 - val_accuracy: 0.9167\n",
      "Epoch 44/100\n",
      "73/73 [==============================] - 0s 3ms/step - loss: 0.0550 - accuracy: 0.9778 - val_loss: 0.1314 - val_accuracy: 0.9423\n",
      "Epoch 45/100\n",
      "73/73 [==============================] - 0s 3ms/step - loss: 0.0355 - accuracy: 0.9806 - val_loss: 0.0763 - val_accuracy: 0.9615\n",
      "Epoch 46/100\n",
      "73/73 [==============================] - 0s 2ms/step - loss: 0.0283 - accuracy: 0.9889 - val_loss: 0.1125 - val_accuracy: 0.9615\n",
      "Epoch 47/100\n",
      "73/73 [==============================] - 0s 2ms/step - loss: 0.0426 - accuracy: 0.9806 - val_loss: 0.0799 - val_accuracy: 0.9487\n",
      "Epoch 48/100\n",
      "73/73 [==============================] - 0s 2ms/step - loss: 0.0555 - accuracy: 0.9778 - val_loss: 0.1383 - val_accuracy: 0.9423\n",
      "Epoch 49/100\n",
      "73/73 [==============================] - 0s 3ms/step - loss: 0.1189 - accuracy: 0.9557 - val_loss: 0.1158 - val_accuracy: 0.9423\n",
      "Epoch 50/100\n",
      "73/73 [==============================] - 0s 3ms/step - loss: 0.1304 - accuracy: 0.9668 - val_loss: 0.0951 - val_accuracy: 0.9487\n",
      "Epoch 51/100\n",
      "73/73 [==============================] - 0s 3ms/step - loss: 0.0301 - accuracy: 0.9945 - val_loss: 0.0990 - val_accuracy: 0.9423\n",
      "Epoch 52/100\n",
      "73/73 [==============================] - 0s 3ms/step - loss: 0.0221 - accuracy: 0.9917 - val_loss: 0.0785 - val_accuracy: 0.9615\n",
      "Epoch 53/100\n",
      "73/73 [==============================] - 0s 2ms/step - loss: 0.0330 - accuracy: 0.9917 - val_loss: 0.0769 - val_accuracy: 0.9615\n",
      "Epoch 54/100\n",
      "73/73 [==============================] - 0s 2ms/step - loss: 0.0346 - accuracy: 0.9889 - val_loss: 0.1127 - val_accuracy: 0.9423\n",
      "Epoch 55/100\n",
      "73/73 [==============================] - 0s 2ms/step - loss: 0.0410 - accuracy: 0.9806 - val_loss: 0.0677 - val_accuracy: 0.9615\n",
      "Epoch 56/100\n",
      "73/73 [==============================] - 0s 3ms/step - loss: 0.0518 - accuracy: 0.9778 - val_loss: 0.0638 - val_accuracy: 0.9744\n",
      "Epoch 57/100\n",
      "73/73 [==============================] - 0s 2ms/step - loss: 0.0403 - accuracy: 0.9834 - val_loss: 0.1856 - val_accuracy: 0.9359\n",
      "Epoch 58/100\n",
      "73/73 [==============================] - 0s 2ms/step - loss: 0.0700 - accuracy: 0.9806 - val_loss: 0.0832 - val_accuracy: 0.9679\n",
      "Epoch 59/100\n",
      "73/73 [==============================] - 0s 3ms/step - loss: 0.0310 - accuracy: 0.9806 - val_loss: 0.0838 - val_accuracy: 0.9551\n",
      "Epoch 60/100\n",
      "73/73 [==============================] - 0s 2ms/step - loss: 0.0307 - accuracy: 0.9834 - val_loss: 0.1839 - val_accuracy: 0.9359\n",
      "Epoch 61/100\n",
      "73/73 [==============================] - 0s 3ms/step - loss: 0.0381 - accuracy: 0.9834 - val_loss: 0.0868 - val_accuracy: 0.9615\n",
      "Epoch 62/100\n",
      "73/73 [==============================] - 0s 3ms/step - loss: 0.0347 - accuracy: 0.9917 - val_loss: 0.0853 - val_accuracy: 0.9615\n",
      "Epoch 63/100\n",
      "73/73 [==============================] - 0s 2ms/step - loss: 0.0178 - accuracy: 0.9972 - val_loss: 0.1159 - val_accuracy: 0.9551\n",
      "Epoch 64/100\n",
      "73/73 [==============================] - 0s 3ms/step - loss: 0.0270 - accuracy: 0.9972 - val_loss: 0.1043 - val_accuracy: 0.9423\n",
      "Epoch 65/100\n",
      "73/73 [==============================] - 0s 3ms/step - loss: 0.0199 - accuracy: 0.9972 - val_loss: 0.0775 - val_accuracy: 0.9615\n",
      "Epoch 66/100\n",
      "73/73 [==============================] - 0s 3ms/step - loss: 0.0179 - accuracy: 0.9889 - val_loss: 0.1133 - val_accuracy: 0.9551\n",
      "Epoch 67/100\n",
      "73/73 [==============================] - 0s 2ms/step - loss: 0.0505 - accuracy: 0.9806 - val_loss: 0.0773 - val_accuracy: 0.9744\n",
      "Epoch 68/100\n",
      "73/73 [==============================] - 0s 2ms/step - loss: 0.0150 - accuracy: 0.9945 - val_loss: 0.0899 - val_accuracy: 0.9487\n",
      "Epoch 69/100\n",
      "73/73 [==============================] - 0s 3ms/step - loss: 0.0407 - accuracy: 0.9861 - val_loss: 0.0808 - val_accuracy: 0.9551\n",
      "Epoch 70/100\n",
      "73/73 [==============================] - 0s 2ms/step - loss: 0.0237 - accuracy: 0.9917 - val_loss: 0.0740 - val_accuracy: 0.9487\n",
      "Epoch 71/100\n",
      "73/73 [==============================] - 0s 3ms/step - loss: 0.0210 - accuracy: 0.9917 - val_loss: 0.0857 - val_accuracy: 0.9551\n",
      "Epoch 72/100\n",
      "73/73 [==============================] - 0s 3ms/step - loss: 0.0290 - accuracy: 0.9889 - val_loss: 0.0812 - val_accuracy: 0.9679\n",
      "Epoch 73/100\n",
      "73/73 [==============================] - 0s 3ms/step - loss: 0.0187 - accuracy: 0.9917 - val_loss: 0.2855 - val_accuracy: 0.9167\n",
      "Epoch 74/100\n",
      "73/73 [==============================] - 0s 2ms/step - loss: 0.0480 - accuracy: 0.9834 - val_loss: 0.0766 - val_accuracy: 0.9679\n",
      "Epoch 75/100\n",
      "73/73 [==============================] - 0s 3ms/step - loss: 0.0562 - accuracy: 0.9778 - val_loss: 0.0886 - val_accuracy: 0.9615\n",
      "Epoch 76/100\n",
      "73/73 [==============================] - 0s 2ms/step - loss: 0.0171 - accuracy: 0.9917 - val_loss: 0.0769 - val_accuracy: 0.9487\n",
      "Epoch 77/100\n",
      "73/73 [==============================] - 0s 3ms/step - loss: 0.0230 - accuracy: 0.9945 - val_loss: 0.0838 - val_accuracy: 0.9679\n",
      "Epoch 78/100\n",
      "73/73 [==============================] - 0s 3ms/step - loss: 0.0247 - accuracy: 0.9861 - val_loss: 0.0762 - val_accuracy: 0.9487\n",
      "Epoch 79/100\n",
      "73/73 [==============================] - 0s 3ms/step - loss: 0.0162 - accuracy: 0.9945 - val_loss: 0.0755 - val_accuracy: 0.9679\n",
      "Epoch 80/100\n",
      "73/73 [==============================] - 0s 3ms/step - loss: 0.0159 - accuracy: 0.9917 - val_loss: 0.1567 - val_accuracy: 0.9551\n",
      "Epoch 81/100\n",
      "73/73 [==============================] - 0s 3ms/step - loss: 0.0306 - accuracy: 0.9917 - val_loss: 0.1200 - val_accuracy: 0.9551\n",
      "Epoch 82/100\n",
      "73/73 [==============================] - 0s 2ms/step - loss: 0.0143 - accuracy: 0.9972 - val_loss: 0.0688 - val_accuracy: 0.9679\n",
      "Epoch 83/100\n",
      "73/73 [==============================] - 0s 3ms/step - loss: 0.0216 - accuracy: 0.9945 - val_loss: 0.1043 - val_accuracy: 0.9487\n",
      "Epoch 84/100\n",
      "73/73 [==============================] - 0s 3ms/step - loss: 0.0199 - accuracy: 0.9945 - val_loss: 0.0998 - val_accuracy: 0.9551\n",
      "Epoch 85/100\n",
      "73/73 [==============================] - 0s 3ms/step - loss: 0.0523 - accuracy: 0.9834 - val_loss: 0.0598 - val_accuracy: 0.9551\n",
      "Epoch 86/100\n",
      "73/73 [==============================] - 0s 3ms/step - loss: 0.0274 - accuracy: 0.9889 - val_loss: 0.1647 - val_accuracy: 0.9551\n",
      "Epoch 87/100\n",
      "73/73 [==============================] - 0s 3ms/step - loss: 0.0277 - accuracy: 0.9889 - val_loss: 0.2385 - val_accuracy: 0.9295\n",
      "Epoch 88/100\n",
      "73/73 [==============================] - 0s 3ms/step - loss: 0.0452 - accuracy: 0.9834 - val_loss: 0.0699 - val_accuracy: 0.9679\n",
      "Epoch 89/100\n",
      "73/73 [==============================] - 0s 3ms/step - loss: 0.0692 - accuracy: 0.9751 - val_loss: 0.0726 - val_accuracy: 0.9679\n",
      "Epoch 90/100\n",
      "73/73 [==============================] - 0s 3ms/step - loss: 0.0258 - accuracy: 0.9889 - val_loss: 0.0779 - val_accuracy: 0.9551\n",
      "Epoch 91/100\n",
      "73/73 [==============================] - 0s 3ms/step - loss: 0.0258 - accuracy: 0.9861 - val_loss: 0.0719 - val_accuracy: 0.9679\n",
      "Epoch 92/100\n",
      "73/73 [==============================] - 0s 3ms/step - loss: 0.0408 - accuracy: 0.9861 - val_loss: 0.0813 - val_accuracy: 0.9615\n",
      "Epoch 93/100\n",
      "73/73 [==============================] - 0s 3ms/step - loss: 0.0256 - accuracy: 0.9889 - val_loss: 0.0879 - val_accuracy: 0.9615\n",
      "Epoch 94/100\n",
      "73/73 [==============================] - 0s 3ms/step - loss: 0.0210 - accuracy: 0.9917 - val_loss: 0.0919 - val_accuracy: 0.9615\n",
      "Epoch 95/100\n",
      "73/73 [==============================] - 0s 2ms/step - loss: 0.0195 - accuracy: 0.9972 - val_loss: 0.0815 - val_accuracy: 0.9679\n",
      "Epoch 96/100\n",
      "73/73 [==============================] - 0s 3ms/step - loss: 0.0208 - accuracy: 0.9972 - val_loss: 0.0877 - val_accuracy: 0.9615\n",
      "Epoch 97/100\n",
      "73/73 [==============================] - 0s 3ms/step - loss: 0.0451 - accuracy: 0.9861 - val_loss: 0.0860 - val_accuracy: 0.9679\n",
      "Epoch 98/100\n",
      "73/73 [==============================] - 0s 2ms/step - loss: 0.0214 - accuracy: 0.9889 - val_loss: 0.0857 - val_accuracy: 0.9615\n",
      "Epoch 99/100\n",
      "73/73 [==============================] - 0s 2ms/step - loss: 0.0132 - accuracy: 0.9972 - val_loss: 0.0812 - val_accuracy: 0.9679\n",
      "Epoch 100/100\n",
      "73/73 [==============================] - 0s 3ms/step - loss: 0.0238 - accuracy: 0.9889 - val_loss: 0.0878 - val_accuracy: 0.9679\n"
     ]
    },
    {
     "data": {
      "text/plain": [
       "<keras.callbacks.History at 0x7fc2652a4590>"
      ]
     },
     "execution_count": 19,
     "metadata": {},
     "output_type": "execute_result"
    }
   ],
   "source": [
    "model.fit(X,Y,validation_split=0.3,epochs=100,batch_size=5)"
   ]
  },
  {
   "cell_type": "code",
   "execution_count": 20,
   "id": "5bb6dcba",
   "metadata": {
    "colab": {
     "base_uri": "https://localhost:8080/"
    },
    "id": "5bb6dcba",
    "outputId": "3fa06f8e-0f09-4512-9e4a-4aac0c16a398"
   },
   "outputs": [
    {
     "name": "stdout",
     "output_type": "stream",
     "text": [
      "17/17 [==============================] - 0s 1ms/step - loss: 0.0389 - accuracy: 0.9845\n"
     ]
    }
   ],
   "source": [
    "score=model.evaluate(X,Y)"
   ]
  },
  {
   "cell_type": "code",
   "execution_count": 21,
   "id": "05051c22",
   "metadata": {
    "colab": {
     "base_uri": "https://localhost:8080/"
    },
    "id": "05051c22",
    "outputId": "4e557d7d-f75f-4d51-d8f8-eb3744ea01e3"
   },
   "outputs": [
    {
     "name": "stdout",
     "output_type": "stream",
     "text": [
      "accuracy: 98.45%\n"
     ]
    }
   ],
   "source": [
    "print(\"%s: %.2f%%\" % (model.metrics_names[1], score[1]*100))"
   ]
  },
  {
   "cell_type": "code",
   "execution_count": 22,
   "id": "5b36c592",
   "metadata": {
    "colab": {
     "base_uri": "https://localhost:8080/"
    },
    "id": "5b36c592",
    "outputId": "a54a3778-23c3-4cc4-ec6b-949c151438c0"
   },
   "outputs": [
    {
     "data": {
      "text/plain": [
       "dict_keys([])"
      ]
     },
     "execution_count": 22,
     "metadata": {},
     "output_type": "execute_result"
    }
   ],
   "source": [
    "model.history.history.keys()"
   ]
  },
  {
   "cell_type": "code",
   "execution_count": 23,
   "id": "cc1b4ded",
   "metadata": {
    "colab": {
     "base_uri": "https://localhost:8080/"
    },
    "id": "cc1b4ded",
    "outputId": "184487ae-06da-467e-a19b-5efc6d016ef0"
   },
   "outputs": [
    {
     "name": "stdout",
     "output_type": "stream",
     "text": [
      "Epoch 1/100\n",
      "73/73 [==============================] - 0s 4ms/step - loss: 0.0216 - accuracy: 0.9889 - val_loss: 0.0850 - val_accuracy: 0.9615\n",
      "Epoch 2/100\n",
      "73/73 [==============================] - 0s 2ms/step - loss: 0.0116 - accuracy: 0.9972 - val_loss: 0.0989 - val_accuracy: 0.9615\n",
      "Epoch 3/100\n",
      "73/73 [==============================] - 0s 2ms/step - loss: 0.0113 - accuracy: 0.9945 - val_loss: 0.1292 - val_accuracy: 0.9423\n",
      "Epoch 4/100\n",
      "73/73 [==============================] - 0s 2ms/step - loss: 0.0154 - accuracy: 0.9889 - val_loss: 0.1020 - val_accuracy: 0.9615\n",
      "Epoch 5/100\n",
      "73/73 [==============================] - 0s 2ms/step - loss: 0.0742 - accuracy: 0.9723 - val_loss: 0.1008 - val_accuracy: 0.9551\n",
      "Epoch 6/100\n",
      "73/73 [==============================] - 0s 3ms/step - loss: 0.0307 - accuracy: 0.9889 - val_loss: 0.1400 - val_accuracy: 0.9487\n",
      "Epoch 7/100\n",
      "73/73 [==============================] - 0s 2ms/step - loss: 0.0311 - accuracy: 0.9861 - val_loss: 0.0877 - val_accuracy: 0.9679\n",
      "Epoch 8/100\n",
      "73/73 [==============================] - 0s 3ms/step - loss: 0.0156 - accuracy: 0.9945 - val_loss: 0.0868 - val_accuracy: 0.9679\n",
      "Epoch 9/100\n",
      "73/73 [==============================] - 0s 3ms/step - loss: 0.0325 - accuracy: 0.9889 - val_loss: 0.1483 - val_accuracy: 0.9423\n",
      "Epoch 10/100\n",
      "73/73 [==============================] - 0s 2ms/step - loss: 0.0401 - accuracy: 0.9834 - val_loss: 0.0899 - val_accuracy: 0.9679\n",
      "Epoch 11/100\n",
      "73/73 [==============================] - 0s 2ms/step - loss: 0.0149 - accuracy: 0.9945 - val_loss: 0.0855 - val_accuracy: 0.9679\n",
      "Epoch 12/100\n",
      "73/73 [==============================] - 0s 2ms/step - loss: 0.0287 - accuracy: 0.9889 - val_loss: 0.0954 - val_accuracy: 0.9615\n",
      "Epoch 13/100\n",
      "73/73 [==============================] - 0s 3ms/step - loss: 0.0184 - accuracy: 0.9945 - val_loss: 0.0828 - val_accuracy: 0.9679\n",
      "Epoch 14/100\n",
      "73/73 [==============================] - 0s 2ms/step - loss: 0.0308 - accuracy: 0.9889 - val_loss: 0.1438 - val_accuracy: 0.9487\n",
      "Epoch 15/100\n",
      "73/73 [==============================] - 0s 2ms/step - loss: 0.0647 - accuracy: 0.9695 - val_loss: 0.1063 - val_accuracy: 0.9551\n",
      "Epoch 16/100\n",
      "73/73 [==============================] - 0s 3ms/step - loss: 0.0388 - accuracy: 0.9861 - val_loss: 0.0951 - val_accuracy: 0.9551\n",
      "Epoch 17/100\n",
      "73/73 [==============================] - 0s 3ms/step - loss: 0.0293 - accuracy: 0.9861 - val_loss: 0.0944 - val_accuracy: 0.9679\n",
      "Epoch 18/100\n",
      "73/73 [==============================] - 0s 3ms/step - loss: 0.0175 - accuracy: 0.9945 - val_loss: 0.1065 - val_accuracy: 0.9551\n",
      "Epoch 19/100\n",
      "73/73 [==============================] - 0s 3ms/step - loss: 0.0311 - accuracy: 0.9889 - val_loss: 0.0972 - val_accuracy: 0.9679\n",
      "Epoch 20/100\n",
      "73/73 [==============================] - 0s 2ms/step - loss: 0.0247 - accuracy: 0.9889 - val_loss: 0.2743 - val_accuracy: 0.9231\n",
      "Epoch 21/100\n",
      "73/73 [==============================] - 0s 3ms/step - loss: 0.0392 - accuracy: 0.9834 - val_loss: 0.0976 - val_accuracy: 0.9423\n",
      "Epoch 22/100\n",
      "73/73 [==============================] - 0s 3ms/step - loss: 0.0173 - accuracy: 0.9945 - val_loss: 0.2378 - val_accuracy: 0.9231\n",
      "Epoch 23/100\n",
      "73/73 [==============================] - 0s 3ms/step - loss: 0.0504 - accuracy: 0.9806 - val_loss: 0.1185 - val_accuracy: 0.9487\n",
      "Epoch 24/100\n",
      "73/73 [==============================] - 0s 3ms/step - loss: 0.0224 - accuracy: 0.9917 - val_loss: 0.4561 - val_accuracy: 0.8718\n",
      "Epoch 25/100\n",
      "73/73 [==============================] - 0s 3ms/step - loss: 0.0430 - accuracy: 0.9806 - val_loss: 0.0828 - val_accuracy: 0.9679\n",
      "Epoch 26/100\n",
      "73/73 [==============================] - 0s 2ms/step - loss: 0.0299 - accuracy: 0.9917 - val_loss: 0.1174 - val_accuracy: 0.9423\n",
      "Epoch 27/100\n",
      "73/73 [==============================] - 0s 3ms/step - loss: 0.0290 - accuracy: 0.9861 - val_loss: 0.1282 - val_accuracy: 0.9423\n",
      "Epoch 28/100\n",
      "73/73 [==============================] - 0s 3ms/step - loss: 0.0201 - accuracy: 0.9917 - val_loss: 0.1163 - val_accuracy: 0.9423\n",
      "Epoch 29/100\n",
      "73/73 [==============================] - 0s 3ms/step - loss: 0.0191 - accuracy: 0.9945 - val_loss: 0.0904 - val_accuracy: 0.9679\n",
      "Epoch 30/100\n",
      "73/73 [==============================] - 0s 2ms/step - loss: 0.0137 - accuracy: 0.9972 - val_loss: 0.0936 - val_accuracy: 0.9744\n",
      "Epoch 31/100\n",
      "73/73 [==============================] - 0s 3ms/step - loss: 0.1125 - accuracy: 0.9723 - val_loss: 0.1604 - val_accuracy: 0.9423\n",
      "Epoch 32/100\n",
      "73/73 [==============================] - 0s 3ms/step - loss: 0.0323 - accuracy: 0.9917 - val_loss: 0.0939 - val_accuracy: 0.9679\n",
      "Epoch 33/100\n",
      "73/73 [==============================] - 0s 3ms/step - loss: 0.0162 - accuracy: 0.9917 - val_loss: 0.1327 - val_accuracy: 0.9487\n",
      "Epoch 34/100\n",
      "73/73 [==============================] - 0s 2ms/step - loss: 0.0730 - accuracy: 0.9806 - val_loss: 0.1231 - val_accuracy: 0.9487\n",
      "Epoch 35/100\n",
      "73/73 [==============================] - 0s 3ms/step - loss: 0.0242 - accuracy: 0.9889 - val_loss: 0.0795 - val_accuracy: 0.9744\n",
      "Epoch 36/100\n",
      "73/73 [==============================] - 0s 3ms/step - loss: 0.0192 - accuracy: 0.9945 - val_loss: 0.0764 - val_accuracy: 0.9679\n",
      "Epoch 37/100\n",
      "73/73 [==============================] - 0s 3ms/step - loss: 0.0241 - accuracy: 0.9861 - val_loss: 0.0886 - val_accuracy: 0.9679\n",
      "Epoch 38/100\n",
      "73/73 [==============================] - 0s 2ms/step - loss: 0.0198 - accuracy: 0.9945 - val_loss: 0.0888 - val_accuracy: 0.9679\n",
      "Epoch 39/100\n",
      "73/73 [==============================] - 0s 3ms/step - loss: 0.0359 - accuracy: 0.9834 - val_loss: 0.2049 - val_accuracy: 0.9423\n",
      "Epoch 40/100\n",
      "73/73 [==============================] - 0s 3ms/step - loss: 0.0382 - accuracy: 0.9861 - val_loss: 0.0872 - val_accuracy: 0.9615\n",
      "Epoch 41/100\n",
      "73/73 [==============================] - 0s 2ms/step - loss: 0.0207 - accuracy: 0.9889 - val_loss: 0.0993 - val_accuracy: 0.9487\n",
      "Epoch 42/100\n",
      "73/73 [==============================] - 0s 2ms/step - loss: 0.0192 - accuracy: 0.9945 - val_loss: 0.0846 - val_accuracy: 0.9679\n",
      "Epoch 43/100\n",
      "73/73 [==============================] - 0s 3ms/step - loss: 0.0354 - accuracy: 0.9806 - val_loss: 0.0918 - val_accuracy: 0.9615\n",
      "Epoch 44/100\n",
      "73/73 [==============================] - 0s 2ms/step - loss: 0.0313 - accuracy: 0.9889 - val_loss: 0.1172 - val_accuracy: 0.9487\n",
      "Epoch 45/100\n",
      "73/73 [==============================] - 0s 3ms/step - loss: 0.0226 - accuracy: 0.9889 - val_loss: 0.1109 - val_accuracy: 0.9487\n",
      "Epoch 46/100\n",
      "73/73 [==============================] - 0s 3ms/step - loss: 0.0175 - accuracy: 0.9945 - val_loss: 0.0804 - val_accuracy: 0.9679\n",
      "Epoch 47/100\n",
      "73/73 [==============================] - 0s 2ms/step - loss: 0.0195 - accuracy: 0.9861 - val_loss: 0.1138 - val_accuracy: 0.9551\n",
      "Epoch 48/100\n",
      "73/73 [==============================] - 0s 2ms/step - loss: 0.0181 - accuracy: 0.9889 - val_loss: 0.0810 - val_accuracy: 0.9679\n",
      "Epoch 49/100\n",
      "73/73 [==============================] - 0s 2ms/step - loss: 0.0311 - accuracy: 0.9889 - val_loss: 0.0851 - val_accuracy: 0.9679\n",
      "Epoch 50/100\n",
      "73/73 [==============================] - 0s 3ms/step - loss: 0.0154 - accuracy: 0.9917 - val_loss: 0.1639 - val_accuracy: 0.9359\n",
      "Epoch 51/100\n",
      "73/73 [==============================] - 0s 3ms/step - loss: 0.0200 - accuracy: 0.9917 - val_loss: 0.1603 - val_accuracy: 0.9359\n",
      "Epoch 52/100\n",
      "73/73 [==============================] - 0s 2ms/step - loss: 0.0250 - accuracy: 0.9917 - val_loss: 0.0885 - val_accuracy: 0.9744\n",
      "Epoch 53/100\n",
      "73/73 [==============================] - 0s 2ms/step - loss: 0.0374 - accuracy: 0.9806 - val_loss: 0.1041 - val_accuracy: 0.9615\n",
      "Epoch 54/100\n",
      "73/73 [==============================] - 0s 3ms/step - loss: 0.0367 - accuracy: 0.9861 - val_loss: 0.1420 - val_accuracy: 0.9487\n",
      "Epoch 55/100\n",
      "73/73 [==============================] - 0s 3ms/step - loss: 0.0163 - accuracy: 0.9972 - val_loss: 0.1292 - val_accuracy: 0.9487\n",
      "Epoch 56/100\n",
      "73/73 [==============================] - 0s 2ms/step - loss: 0.0291 - accuracy: 0.9889 - val_loss: 0.0859 - val_accuracy: 0.9679\n",
      "Epoch 57/100\n",
      "73/73 [==============================] - 0s 2ms/step - loss: 0.0128 - accuracy: 0.9972 - val_loss: 0.1307 - val_accuracy: 0.9423\n",
      "Epoch 58/100\n",
      "73/73 [==============================] - 0s 3ms/step - loss: 0.0562 - accuracy: 0.9806 - val_loss: 0.2222 - val_accuracy: 0.9295\n",
      "Epoch 59/100\n",
      "73/73 [==============================] - 0s 2ms/step - loss: 0.0115 - accuracy: 0.9972 - val_loss: 0.0900 - val_accuracy: 0.9744\n",
      "Epoch 60/100\n",
      "73/73 [==============================] - 0s 3ms/step - loss: 0.0505 - accuracy: 0.9889 - val_loss: 0.1046 - val_accuracy: 0.9487\n",
      "Epoch 61/100\n",
      "73/73 [==============================] - 0s 3ms/step - loss: 0.0209 - accuracy: 0.9917 - val_loss: 0.0903 - val_accuracy: 0.9551\n",
      "Epoch 62/100\n",
      "73/73 [==============================] - 0s 2ms/step - loss: 0.0145 - accuracy: 0.9945 - val_loss: 0.1125 - val_accuracy: 0.9423\n",
      "Epoch 63/100\n",
      "73/73 [==============================] - 0s 3ms/step - loss: 0.0278 - accuracy: 0.9861 - val_loss: 0.1009 - val_accuracy: 0.9551\n",
      "Epoch 64/100\n",
      "73/73 [==============================] - 0s 3ms/step - loss: 0.0195 - accuracy: 0.9945 - val_loss: 0.1377 - val_accuracy: 0.9423\n",
      "Epoch 65/100\n",
      "73/73 [==============================] - 0s 3ms/step - loss: 0.0150 - accuracy: 0.9945 - val_loss: 0.0796 - val_accuracy: 0.9744\n",
      "Epoch 66/100\n",
      "73/73 [==============================] - 0s 3ms/step - loss: 0.0241 - accuracy: 0.9889 - val_loss: 0.1073 - val_accuracy: 0.9487\n",
      "Epoch 67/100\n",
      "73/73 [==============================] - 0s 2ms/step - loss: 0.0117 - accuracy: 0.9945 - val_loss: 0.1487 - val_accuracy: 0.9487\n",
      "Epoch 68/100\n",
      "73/73 [==============================] - 0s 2ms/step - loss: 0.0413 - accuracy: 0.9861 - val_loss: 0.0898 - val_accuracy: 0.9615\n",
      "Epoch 69/100\n",
      "73/73 [==============================] - 0s 3ms/step - loss: 0.0147 - accuracy: 0.9972 - val_loss: 0.0976 - val_accuracy: 0.9615\n",
      "Epoch 70/100\n",
      "73/73 [==============================] - 0s 2ms/step - loss: 0.0308 - accuracy: 0.9834 - val_loss: 0.0932 - val_accuracy: 0.9615\n",
      "Epoch 71/100\n",
      "73/73 [==============================] - 0s 3ms/step - loss: 0.0348 - accuracy: 0.9861 - val_loss: 0.1799 - val_accuracy: 0.9423\n",
      "Epoch 72/100\n",
      "73/73 [==============================] - 0s 3ms/step - loss: 0.0350 - accuracy: 0.9889 - val_loss: 0.1235 - val_accuracy: 0.9551\n",
      "Epoch 73/100\n",
      "73/73 [==============================] - 0s 3ms/step - loss: 0.0143 - accuracy: 0.9972 - val_loss: 0.1236 - val_accuracy: 0.9551\n",
      "Epoch 74/100\n",
      "73/73 [==============================] - 0s 2ms/step - loss: 0.0209 - accuracy: 0.9917 - val_loss: 0.1506 - val_accuracy: 0.9423\n",
      "Epoch 75/100\n",
      "73/73 [==============================] - 0s 2ms/step - loss: 0.0196 - accuracy: 0.9945 - val_loss: 0.0967 - val_accuracy: 0.9679\n",
      "Epoch 76/100\n",
      "73/73 [==============================] - 0s 3ms/step - loss: 0.0167 - accuracy: 0.9889 - val_loss: 0.1120 - val_accuracy: 0.9615\n",
      "Epoch 77/100\n",
      "73/73 [==============================] - 0s 2ms/step - loss: 0.0286 - accuracy: 0.9861 - val_loss: 0.0978 - val_accuracy: 0.9615\n",
      "Epoch 78/100\n",
      "73/73 [==============================] - 0s 3ms/step - loss: 0.0146 - accuracy: 0.9945 - val_loss: 0.0862 - val_accuracy: 0.9679\n",
      "Epoch 79/100\n",
      "73/73 [==============================] - 0s 3ms/step - loss: 0.0482 - accuracy: 0.9889 - val_loss: 0.0816 - val_accuracy: 0.9679\n",
      "Epoch 80/100\n",
      "73/73 [==============================] - 0s 3ms/step - loss: 0.0179 - accuracy: 0.9945 - val_loss: 0.0862 - val_accuracy: 0.9679\n",
      "Epoch 81/100\n",
      "73/73 [==============================] - 0s 2ms/step - loss: 0.0203 - accuracy: 0.9917 - val_loss: 0.1715 - val_accuracy: 0.9487\n",
      "Epoch 82/100\n",
      "73/73 [==============================] - 0s 2ms/step - loss: 0.0228 - accuracy: 0.9917 - val_loss: 0.0919 - val_accuracy: 0.9615\n",
      "Epoch 83/100\n",
      "73/73 [==============================] - 0s 3ms/step - loss: 0.0130 - accuracy: 0.9972 - val_loss: 0.2543 - val_accuracy: 0.9423\n",
      "Epoch 84/100\n",
      "73/73 [==============================] - 0s 2ms/step - loss: 0.0610 - accuracy: 0.9834 - val_loss: 0.0772 - val_accuracy: 0.9615\n",
      "Epoch 85/100\n",
      "73/73 [==============================] - 0s 2ms/step - loss: 0.0114 - accuracy: 0.9972 - val_loss: 0.0853 - val_accuracy: 0.9744\n",
      "Epoch 86/100\n",
      "73/73 [==============================] - 0s 2ms/step - loss: 0.0636 - accuracy: 0.9751 - val_loss: 0.1587 - val_accuracy: 0.9551\n",
      "Epoch 87/100\n",
      "73/73 [==============================] - 0s 3ms/step - loss: 0.0439 - accuracy: 0.9834 - val_loss: 0.1026 - val_accuracy: 0.9615\n",
      "Epoch 88/100\n",
      "73/73 [==============================] - 0s 2ms/step - loss: 0.0438 - accuracy: 0.9861 - val_loss: 0.0802 - val_accuracy: 0.9744\n",
      "Epoch 89/100\n",
      "73/73 [==============================] - 0s 2ms/step - loss: 0.0171 - accuracy: 0.9945 - val_loss: 0.1115 - val_accuracy: 0.9551\n",
      "Epoch 90/100\n",
      "73/73 [==============================] - 0s 3ms/step - loss: 0.0218 - accuracy: 0.9889 - val_loss: 0.1078 - val_accuracy: 0.9679\n",
      "Epoch 91/100\n",
      "73/73 [==============================] - 0s 2ms/step - loss: 0.0372 - accuracy: 0.9834 - val_loss: 0.1182 - val_accuracy: 0.9615\n",
      "Epoch 92/100\n",
      "73/73 [==============================] - 0s 3ms/step - loss: 0.0181 - accuracy: 0.9917 - val_loss: 0.1078 - val_accuracy: 0.9679\n",
      "Epoch 93/100\n",
      "73/73 [==============================] - 0s 3ms/step - loss: 0.0302 - accuracy: 0.9806 - val_loss: 0.1178 - val_accuracy: 0.9615\n",
      "Epoch 94/100\n",
      "73/73 [==============================] - 0s 3ms/step - loss: 0.0158 - accuracy: 0.9917 - val_loss: 0.1331 - val_accuracy: 0.9487\n",
      "Epoch 95/100\n",
      "73/73 [==============================] - 0s 3ms/step - loss: 0.0233 - accuracy: 0.9917 - val_loss: 0.1005 - val_accuracy: 0.9679\n",
      "Epoch 96/100\n",
      "73/73 [==============================] - 0s 3ms/step - loss: 0.0158 - accuracy: 0.9945 - val_loss: 0.1127 - val_accuracy: 0.9615\n",
      "Epoch 97/100\n",
      "73/73 [==============================] - 0s 3ms/step - loss: 0.0152 - accuracy: 0.9945 - val_loss: 0.1126 - val_accuracy: 0.9679\n",
      "Epoch 98/100\n",
      "73/73 [==============================] - 0s 3ms/step - loss: 0.0492 - accuracy: 0.9861 - val_loss: 0.0969 - val_accuracy: 0.9615\n",
      "Epoch 99/100\n",
      "73/73 [==============================] - 0s 2ms/step - loss: 0.0274 - accuracy: 0.9834 - val_loss: 0.2559 - val_accuracy: 0.9167\n",
      "Epoch 100/100\n",
      "73/73 [==============================] - 0s 3ms/step - loss: 0.0158 - accuracy: 0.9972 - val_loss: 0.1164 - val_accuracy: 0.9615\n"
     ]
    }
   ],
   "source": [
    "history=model.fit(X,Y,validation_split=0.3,epochs=100,batch_size=5)"
   ]
  },
  {
   "cell_type": "code",
   "execution_count": 24,
   "id": "8af61a37",
   "metadata": {
    "colab": {
     "base_uri": "https://localhost:8080/"
    },
    "id": "8af61a37",
    "outputId": "d6a79ece-4b29-4ed0-96b8-a393980b8472"
   },
   "outputs": [
    {
     "data": {
      "text/plain": [
       "dict_keys(['loss', 'accuracy', 'val_loss', 'val_accuracy'])"
      ]
     },
     "execution_count": 24,
     "metadata": {},
     "output_type": "execute_result"
    }
   ],
   "source": [
    "model.history.history.keys()"
   ]
  },
  {
   "cell_type": "code",
   "execution_count": 26,
   "id": "9OC5v5y4cDJO",
   "metadata": {
    "id": "9OC5v5y4cDJO"
   },
   "outputs": [],
   "source": [
    "import matplotlib.pyplot as plt\n"
   ]
  },
  {
   "cell_type": "code",
   "execution_count": 27,
   "id": "9b145366",
   "metadata": {
    "colab": {
     "base_uri": "https://localhost:8080/",
     "height": 573
    },
    "id": "9b145366",
    "outputId": "ceb69be7-5b28-4b52-a71f-c9d8ee563926"
   },
   "outputs": [
    {
     "data": {
      "image/png": "[encoded data removed]",
      "text/plain": [
       "<Figure size 432x288 with 1 Axes>"
      ]
     },
     "metadata": {
      "needs_background": "light"
     },
     "output_type": "display_data"
    },
    {
     "data": {
      "image/png": "[encoded data removed]",
      "text/plain": [
       "<Figure size 432x288 with 1 Axes>"
      ]
     },
     "metadata": {
      "needs_background": "light"
     },
     "output_type": "display_data"
    }
   ],
   "source": [
    "# summarize history for accuracy\n",
    "plt.plot(model.history.history['accuracy'])\n",
    "plt.plot(model.history.history['val_accuracy'])\n",
    "plt.title('model accuracy')\n",
    "plt.ylabel('accuracy')\n",
    "plt.xlabel('epoch')\n",
    "plt.legend(['train', 'test'], loc='upper left')\n",
    "plt.show()\n",
    "# summarize history for loss\n",
    "plt.plot(model.history.history['loss'])\n",
    "plt.plot(model.history.history['val_loss'])\n",
    "plt.title('model loss') \n",
    "plt.ylabel('loss')\n",
    "plt.xlabel('epoch')\n",
    "plt.legend(['train', 'test'], loc='upper left')\n",
    "plt.show()"
   ]
  },
  {
   "cell_type": "code",
   "execution_count": 30,
   "id": "kEI-XBRgcOPp",
   "metadata": {
    "colab": {
     "base_uri": "https://localhost:8080/"
    },
    "id": "kEI-XBRgcOPp",
    "outputId": "887b8bf5-a7c5-41ba-dc01-1f8c8c64c1c1"
   },
   "outputs": [
    {
     "name": "stdout",
     "output_type": "stream",
     "text": [
      "Collecting adam\n",
      "  Downloading adam-0.0.0.dev0-py2.py3-none-any.whl (2.6 kB)\n",
      "Installing collected packages: adam\n",
      "Successfully installed adam-0.0.0.dev0\n"
     ]
    }
   ],
   "source": [
    "!pip install adam"
   ]
  },
  {
   "cell_type": "code",
   "execution_count": 32,
   "id": "dUuMaZYDcXfY",
   "metadata": {
    "id": "dUuMaZYDcXfY"
   },
   "outputs": [],
   "source": [
    "import adam"
   ]
  },
  {
   "cell_type": "code",
   "execution_count": 35,
   "id": "98y8h2b9ckoX",
   "metadata": {
    "colab": {
     "base_uri": "https://localhost:8080/"
    },
    "id": "98y8h2b9ckoX",
    "outputId": "5008977f-03e6-420a-b0b3-3bbdfdcbd81b"
   },
   "outputs": [
    {
     "name": "stdout",
     "output_type": "stream",
     "text": [
      "Requirement already satisfied: keras in /usr/local/lib/python3.7/dist-packages (2.7.0)\n"
     ]
    }
   ],
   "source": [
    "!pip install keras"
   ]
  },
  {
   "cell_type": "code",
   "execution_count": 42,
   "id": "DjCabXcncuIA",
   "metadata": {
    "colab": {
     "base_uri": "https://localhost:8080/"
    },
    "id": "DjCabXcncuIA",
    "outputId": "190c549a-c376-4737-f8fd-bc364beb3396"
   },
   "outputs": [
    {
     "name": "stdout",
     "output_type": "stream",
     "text": [
      "Requirement already satisfied: Adam in /usr/local/lib/python3.7/dist-packages (0.0.0.dev0)\n"
     ]
    }
   ],
   "source": [
    "!pip install Adam"
   ]
  },
  {
   "cell_type": "code",
   "execution_count": 45,
   "id": "Tx_abRPoc947",
   "metadata": {
    "colab": {
     "base_uri": "https://localhost:8080/"
    },
    "id": "Tx_abRPoc947",
    "outputId": "26f8e78c-b334-4935-eebc-b50f6971c472"
   },
   "outputs": [
    {
     "name": "stdout",
     "output_type": "stream",
     "text": [
      "Requirement already satisfied: tensorflow in /usr/local/lib/python3.7/dist-packages (2.7.0)\n",
      "Requirement already satisfied: protobuf>=3.9.2 in /usr/local/lib/python3.7/dist-packages (from tensorflow) (3.17.3)\n",
      "Requirement already satisfied: six>=1.12.0 in /usr/local/lib/python3.7/dist-packages (from tensorflow) (1.15.0)\n",
      "Requirement already satisfied: google-pasta>=0.1.1 in /usr/local/lib/python3.7/dist-packages (from tensorflow) (0.2.0)\n",
      "Requirement already satisfied: tensorflow-estimator<2.8,~=2.7.0rc0 in /usr/local/lib/python3.7/dist-packages (from tensorflow) (2.7.0)\n",
      "Requirement already satisfied: astunparse>=1.6.0 in /usr/local/lib/python3.7/dist-packages (from tensorflow) (1.6.3)\n",
      "Requirement already satisfied: opt-einsum>=2.3.2 in /usr/local/lib/python3.7/dist-packages (from tensorflow) (3.3.0)\n",
      "Requirement already satisfied: grpcio<2.0,>=1.24.3 in /usr/local/lib/python3.7/dist-packages (from tensorflow) (1.42.0)\n",
      "Requirement already satisfied: absl-py>=0.4.0 in /usr/local/lib/python3.7/dist-packages (from tensorflow) (0.12.0)\n",
      "Requirement already satisfied: keras-preprocessing>=1.1.1 in /usr/local/lib/python3.7/dist-packages (from tensorflow) (1.1.2)\n",
      "Requirement already satisfied: gast<0.5.0,>=0.2.1 in /usr/local/lib/python3.7/dist-packages (from tensorflow) (0.4.0)\n",
      "Requirement already satisfied: h5py>=2.9.0 in /usr/local/lib/python3.7/dist-packages (from tensorflow) (3.1.0)\n",
      "Requirement already satisfied: termcolor>=1.1.0 in /usr/local/lib/python3.7/dist-packages (from tensorflow) (1.1.0)\n",
      "Requirement already satisfied: tensorboard~=2.6 in /usr/local/lib/python3.7/dist-packages (from tensorflow) (2.7.0)\n",
      "Requirement already satisfied: wrapt>=1.11.0 in /usr/local/lib/python3.7/dist-packages (from tensorflow) (1.13.3)\n",
      "Requirement already satisfied: keras<2.8,>=2.7.0rc0 in /usr/local/lib/python3.7/dist-packages (from tensorflow) (2.7.0)\n",
      "Requirement already satisfied: tensorflow-io-gcs-filesystem>=0.21.0 in /usr/local/lib/python3.7/dist-packages (from tensorflow) (0.22.0)\n",
      "Requirement already satisfied: libclang>=9.0.1 in /usr/local/lib/python3.7/dist-packages (from tensorflow) (12.0.0)\n",
      "Requirement already satisfied: typing-extensions>=3.6.6 in /usr/local/lib/python3.7/dist-packages (from tensorflow) (3.10.0.2)\n",
      "Requirement already satisfied: wheel<1.0,>=0.32.0 in /usr/local/lib/python3.7/dist-packages (from tensorflow) (0.37.0)\n",
      "Requirement already satisfied: flatbuffers<3.0,>=1.12 in /usr/local/lib/python3.7/dist-packages (from tensorflow) (2.0)\n",
      "Requirement already satisfied: numpy>=1.14.5 in /usr/local/lib/python3.7/dist-packages (from tensorflow) (1.19.5)\n",
      "Requirement already satisfied: cached-property in /usr/local/lib/python3.7/dist-packages (from h5py>=2.9.0->tensorflow) (1.5.2)\n",
      "Requirement already satisfied: setuptools>=41.0.0 in /usr/local/lib/python3.7/dist-packages (from tensorboard~=2.6->tensorflow) (57.4.0)\n",
      "Requirement already satisfied: google-auth-oauthlib<0.5,>=0.4.1 in /usr/local/lib/python3.7/dist-packages (from tensorboard~=2.6->tensorflow) (0.4.6)\n",
      "Requirement already satisfied: werkzeug>=0.11.15 in /usr/local/lib/python3.7/dist-packages (from tensorboard~=2.6->tensorflow) (1.0.1)\n",
      "Requirement already satisfied: tensorboard-data-server<0.7.0,>=0.6.0 in /usr/local/lib/python3.7/dist-packages (from tensorboard~=2.6->tensorflow) (0.6.1)\n",
      "Requirement already satisfied: google-auth<3,>=1.6.3 in /usr/local/lib/python3.7/dist-packages (from tensorboard~=2.6->tensorflow) (1.35.0)\n",
      "Requirement already satisfied: markdown>=2.6.8 in /usr/local/lib/python3.7/dist-packages (from tensorboard~=2.6->tensorflow) (3.3.6)\n",
      "Requirement already satisfied: tensorboard-plugin-wit>=1.6.0 in /usr/local/lib/python3.7/dist-packages (from tensorboard~=2.6->tensorflow) (1.8.0)\n",
      "Requirement already satisfied: requests<3,>=2.21.0 in /usr/local/lib/python3.7/dist-packages (from tensorboard~=2.6->tensorflow) (2.23.0)\n",
      "Requirement already satisfied: cachetools<5.0,>=2.0.0 in /usr/local/lib/python3.7/dist-packages (from google-auth<3,>=1.6.3->tensorboard~=2.6->tensorflow) (4.2.4)\n",
      "Requirement already satisfied: pyasn1-modules>=0.2.1 in /usr/local/lib/python3.7/dist-packages (from google-auth<3,>=1.6.3->tensorboard~=2.6->tensorflow) (0.2.8)\n",
      "Requirement already satisfied: rsa<5,>=3.1.4 in /usr/local/lib/python3.7/dist-packages (from google-auth<3,>=1.6.3->tensorboard~=2.6->tensorflow) (4.7.2)\n",
      "Requirement already satisfied: requests-oauthlib>=0.7.0 in /usr/local/lib/python3.7/dist-packages (from google-auth-oauthlib<0.5,>=0.4.1->tensorboard~=2.6->tensorflow) (1.3.0)\n",
      "Requirement already satisfied: importlib-metadata>=4.4 in /usr/local/lib/python3.7/dist-packages (from markdown>=2.6.8->tensorboard~=2.6->tensorflow) (4.8.2)\n",
      "Requirement already satisfied: zipp>=0.5 in /usr/local/lib/python3.7/dist-packages (from importlib-metadata>=4.4->markdown>=2.6.8->tensorboard~=2.6->tensorflow) (3.6.0)\n",
      "Requirement already satisfied: pyasn1<0.5.0,>=0.4.6 in /usr/local/lib/python3.7/dist-packages (from pyasn1-modules>=0.2.1->google-auth<3,>=1.6.3->tensorboard~=2.6->tensorflow) (0.4.8)\n",
      "Requirement already satisfied: certifi>=2017.4.17 in /usr/local/lib/python3.7/dist-packages (from requests<3,>=2.21.0->tensorboard~=2.6->tensorflow) (2021.10.8)\n",
      "Requirement already satisfied: chardet<4,>=3.0.2 in /usr/local/lib/python3.7/dist-packages (from requests<3,>=2.21.0->tensorboard~=2.6->tensorflow) (3.0.4)\n",
      "Requirement already satisfied: idna<3,>=2.5 in /usr/local/lib/python3.7/dist-packages (from requests<3,>=2.21.0->tensorboard~=2.6->tensorflow) (2.10)\n",
      "Requirement already satisfied: urllib3!=1.25.0,!=1.25.1,<1.26,>=1.21.1 in /usr/local/lib/python3.7/dist-packages (from requests<3,>=2.21.0->tensorboard~=2.6->tensorflow) (1.24.3)\n",
      "Requirement already satisfied: oauthlib>=3.0.0 in /usr/local/lib/python3.7/dist-packages (from requests-oauthlib>=0.7.0->google-auth-oauthlib<0.5,>=0.4.1->tensorboard~=2.6->tensorflow) (3.1.1)\n"
     ]
    }
   ],
   "source": [
    "!pip install tensorflow"
   ]
  },
  {
   "cell_type": "code",
   "execution_count": 47,
   "id": "TiECWOGIdx4Z",
   "metadata": {
    "id": "TiECWOGIdx4Z"
   },
   "outputs": [],
   "source": [
    "from tensorflow.keras.optimizers import Adam"
   ]
  },
  {
   "cell_type": "code",
   "execution_count": 50,
   "id": "38ab4d1e",
   "metadata": {
    "id": "38ab4d1e"
   },
   "outputs": [],
   "source": [
    "#To improve the accuracy and loss, lets tune the parameters one by one using grid search cv\n",
    "from sklearn.model_selection import GridSearchCV,KFold\n",
    "from keras.wrappers.scikit_learn import KerasClassifier\n"
   ]
  },
  {
   "cell_type": "code",
   "execution_count": 53,
   "id": "d743d5a8",
   "metadata": {
    "id": "d743d5a8"
   },
   "outputs": [],
   "source": [
    "X=forest1.iloc[:,0:28]\n",
    "Y=forest1.iloc[:,28]"
   ]
  },
  {
   "cell_type": "code",
   "execution_count": 54,
   "id": "2bc7483c",
   "metadata": {
    "colab": {
     "base_uri": "https://localhost:8080/"
    },
    "id": "2bc7483c",
    "outputId": "81e636dd-ac96-492b-e5af-669883f5db9a"
   },
   "outputs": [
    {
     "data": {
      "text/plain": [
       "array([[-8.05959472e-01, -1.32332557e+00, -1.83047676e+00, ...,\n",
       "        -4.40225453e-02, -1.72859706e-01, -7.06081245e-01],\n",
       "       [-8.10203395e-03, -1.17954077e+00,  4.88890915e-01, ...,\n",
       "        -4.40225453e-02,  5.78503817e+00, -7.06081245e-01],\n",
       "       [-8.10203395e-03, -1.04982188e+00,  5.60715454e-01, ...,\n",
       "        -4.40225453e-02,  5.78503817e+00, -7.06081245e-01],\n",
       "       ...,\n",
       "       [-1.64008316e+00, -8.46647711e-01,  4.74768113e-01, ...,\n",
       "        -4.40225453e-02, -1.72859706e-01, -7.06081245e-01],\n",
       "       [ 6.80956663e-01,  5.49002541e-01,  2.69382214e-01, ...,\n",
       "        -4.40225453e-02, -1.72859706e-01, -7.06081245e-01],\n",
       "       [-2.02087875e+00, -1.68591332e+00, -1.78044169e+00, ...,\n",
       "         2.27156334e+01, -1.72859706e-01, -7.06081245e-01]])"
      ]
     },
     "execution_count": 54,
     "metadata": {},
     "output_type": "execute_result"
    }
   ],
   "source": [
    "from sklearn.preprocessing import StandardScaler\n",
    "std=StandardScaler()\n",
    "standardized_x=std.fit_transform(X)\n",
    "standardized_x"
   ]
  },
  {
   "cell_type": "code",
   "execution_count": 55,
   "id": "7026f72f",
   "metadata": {
    "id": "7026f72f"
   },
   "outputs": [],
   "source": [
    "#Tuning of batch_size and Epochs\n",
    "def model1():\n",
    "    model = Sequential()\n",
    "    model.add(Dense(12, input_dim=28, kernel_initializer='random_uniform', activation='relu'))\n",
    "    model.add(Dense(8, kernel_initializer='random_uniform', activation='relu'))\n",
    "    model.add(Dense(1,activation='sigmoid'))\n",
    "    adam=Adam(lr=0.01)\n",
    "    model.compile(loss='binary_crossentropy',optimizer=adam,metrics=['accuracy'])\n",
    "    return model"
   ]
  },
  {
   "cell_type": "code",
   "execution_count": 56,
   "id": "19fa8eb5",
   "metadata": {
    "colab": {
     "base_uri": "https://localhost:8080/"
    },
    "id": "19fa8eb5",
    "outputId": "87c8b149-c659-4fa0-bb67-6a1ff6c005f9"
   },
   "outputs": [
    {
     "name": "stderr",
     "output_type": "stream",
     "text": [
      "/usr/local/lib/python3.7/dist-packages/ipykernel_launcher.py:1: DeprecationWarning: KerasClassifier is deprecated, use Sci-Keras (https://github.com/adriangb/scikeras) instead.\n",
      "  \"\"\"Entry point for launching an IPython kernel.\n"
     ]
    }
   ],
   "source": [
    "model=KerasClassifier(build_fn=model1,verbose=0)"
   ]
  },
  {
   "cell_type": "code",
   "execution_count": 57,
   "id": "2f009529",
   "metadata": {
    "id": "2f009529"
   },
   "outputs": [],
   "source": [
    "batch_size=[5,10,20]\n",
    "epochs=[10,50,100,150]"
   ]
  },
  {
   "cell_type": "code",
   "execution_count": 58,
   "id": "787876a6",
   "metadata": {
    "id": "787876a6"
   },
   "outputs": [],
   "source": [
    "param_grid=dict(batch_size=batch_size,epochs=epochs)\n",
    "grid=GridSearchCV(estimator=model,param_grid=param_grid,cv=KFold(),verbose=10)"
   ]
  },
  {
   "cell_type": "code",
   "execution_count": 59,
   "id": "4a85468d",
   "metadata": {
    "colab": {
     "base_uri": "https://localhost:8080/"
    },
    "id": "4a85468d",
    "outputId": "07a83f9a-8e60-44c6-d6db-ae9f861a797e"
   },
   "outputs": [
    {
     "name": "stdout",
     "output_type": "stream",
     "text": [
      "Fitting 5 folds for each of 12 candidates, totalling 60 fits\n",
      "[CV 1/5; 1/12] START batch_size=5, epochs=10....................................\n"
     ]
    },
    {
     "name": "stderr",
     "output_type": "stream",
     "text": [
      "/usr/local/lib/python3.7/dist-packages/keras/optimizer_v2/adam.py:105: UserWarning: The `lr` argument is deprecated, use `learning_rate` instead.\n",
      "  super(Adam, self).__init__(name, **kwargs)\n"
     ]
    },
    {
     "name": "stdout",
     "output_type": "stream",
     "text": [
      "[CV 1/5; 1/12] END .....batch_size=5, epochs=10;, score=0.990 total time=   1.8s\n",
      "[CV 2/5; 1/12] START batch_size=5, epochs=10....................................\n"
     ]
    },
    {
     "name": "stderr",
     "output_type": "stream",
     "text": [
      "/usr/local/lib/python3.7/dist-packages/keras/optimizer_v2/adam.py:105: UserWarning: The `lr` argument is deprecated, use `learning_rate` instead.\n",
      "  super(Adam, self).__init__(name, **kwargs)\n"
     ]
    },
    {
     "name": "stdout",
     "output_type": "stream",
     "text": [
      "[CV 2/5; 1/12] END .....batch_size=5, epochs=10;, score=0.875 total time=   2.0s\n",
      "[CV 3/5; 1/12] START batch_size=5, epochs=10....................................\n"
     ]
    },
    {
     "name": "stderr",
     "output_type": "stream",
     "text": [
      "/usr/local/lib/python3.7/dist-packages/keras/optimizer_v2/adam.py:105: UserWarning: The `lr` argument is deprecated, use `learning_rate` instead.\n",
      "  super(Adam, self).__init__(name, **kwargs)\n"
     ]
    },
    {
     "name": "stdout",
     "output_type": "stream",
     "text": [
      "[CV 3/5; 1/12] END .....batch_size=5, epochs=10;, score=0.854 total time=   1.7s\n",
      "[CV 4/5; 1/12] START batch_size=5, epochs=10....................................\n"
     ]
    },
    {
     "name": "stderr",
     "output_type": "stream",
     "text": [
      "/usr/local/lib/python3.7/dist-packages/keras/optimizer_v2/adam.py:105: UserWarning: The `lr` argument is deprecated, use `learning_rate` instead.\n",
      "  super(Adam, self).__init__(name, **kwargs)\n"
     ]
    },
    {
     "name": "stdout",
     "output_type": "stream",
     "text": [
      "[CV 4/5; 1/12] END .....batch_size=5, epochs=10;, score=0.903 total time=   2.0s\n",
      "[CV 5/5; 1/12] START batch_size=5, epochs=10....................................\n"
     ]
    },
    {
     "name": "stderr",
     "output_type": "stream",
     "text": [
      "/usr/local/lib/python3.7/dist-packages/keras/optimizer_v2/adam.py:105: UserWarning: The `lr` argument is deprecated, use `learning_rate` instead.\n",
      "  super(Adam, self).__init__(name, **kwargs)\n"
     ]
    },
    {
     "name": "stdout",
     "output_type": "stream",
     "text": [
      "[CV 5/5; 1/12] END .....batch_size=5, epochs=10;, score=0.864 total time=   2.0s\n",
      "[CV 1/5; 2/12] START batch_size=5, epochs=50....................................\n"
     ]
    },
    {
     "name": "stderr",
     "output_type": "stream",
     "text": [
      "/usr/local/lib/python3.7/dist-packages/keras/optimizer_v2/adam.py:105: UserWarning: The `lr` argument is deprecated, use `learning_rate` instead.\n",
      "  super(Adam, self).__init__(name, **kwargs)\n"
     ]
    },
    {
     "name": "stdout",
     "output_type": "stream",
     "text": [
      "[CV 1/5; 2/12] END .....batch_size=5, epochs=50;, score=1.000 total time=   5.8s\n",
      "[CV 2/5; 2/12] START batch_size=5, epochs=50....................................\n"
     ]
    },
    {
     "name": "stderr",
     "output_type": "stream",
     "text": [
      "/usr/local/lib/python3.7/dist-packages/keras/optimizer_v2/adam.py:105: UserWarning: The `lr` argument is deprecated, use `learning_rate` instead.\n",
      "  super(Adam, self).__init__(name, **kwargs)\n"
     ]
    },
    {
     "name": "stdout",
     "output_type": "stream",
     "text": [
      "[CV 2/5; 2/12] END .....batch_size=5, epochs=50;, score=0.856 total time=   5.5s\n",
      "[CV 3/5; 2/12] START batch_size=5, epochs=50....................................\n"
     ]
    },
    {
     "name": "stderr",
     "output_type": "stream",
     "text": [
      "/usr/local/lib/python3.7/dist-packages/keras/optimizer_v2/adam.py:105: UserWarning: The `lr` argument is deprecated, use `learning_rate` instead.\n",
      "  super(Adam, self).__init__(name, **kwargs)\n"
     ]
    },
    {
     "name": "stdout",
     "output_type": "stream",
     "text": [
      "[CV 3/5; 2/12] END .....batch_size=5, epochs=50;, score=0.913 total time=   5.6s\n",
      "[CV 4/5; 2/12] START batch_size=5, epochs=50....................................\n"
     ]
    },
    {
     "name": "stderr",
     "output_type": "stream",
     "text": [
      "/usr/local/lib/python3.7/dist-packages/keras/optimizer_v2/adam.py:105: UserWarning: The `lr` argument is deprecated, use `learning_rate` instead.\n",
      "  super(Adam, self).__init__(name, **kwargs)\n"
     ]
    },
    {
     "name": "stdout",
     "output_type": "stream",
     "text": [
      "[CV 4/5; 2/12] END .....batch_size=5, epochs=50;, score=0.942 total time=   5.8s\n",
      "[CV 5/5; 2/12] START batch_size=5, epochs=50....................................\n"
     ]
    },
    {
     "name": "stderr",
     "output_type": "stream",
     "text": [
      "/usr/local/lib/python3.7/dist-packages/keras/optimizer_v2/adam.py:105: UserWarning: The `lr` argument is deprecated, use `learning_rate` instead.\n",
      "  super(Adam, self).__init__(name, **kwargs)\n"
     ]
    },
    {
     "name": "stdout",
     "output_type": "stream",
     "text": [
      "[CV 5/5; 2/12] END .....batch_size=5, epochs=50;, score=0.903 total time=   5.7s\n",
      "[CV 1/5; 3/12] START batch_size=5, epochs=100...................................\n"
     ]
    },
    {
     "name": "stderr",
     "output_type": "stream",
     "text": [
      "/usr/local/lib/python3.7/dist-packages/keras/optimizer_v2/adam.py:105: UserWarning: The `lr` argument is deprecated, use `learning_rate` instead.\n",
      "  super(Adam, self).__init__(name, **kwargs)\n"
     ]
    },
    {
     "name": "stdout",
     "output_type": "stream",
     "text": [
      "[CV 1/5; 3/12] END ....batch_size=5, epochs=100;, score=1.000 total time=  11.3s\n",
      "[CV 2/5; 3/12] START batch_size=5, epochs=100...................................\n"
     ]
    },
    {
     "name": "stderr",
     "output_type": "stream",
     "text": [
      "/usr/local/lib/python3.7/dist-packages/keras/optimizer_v2/adam.py:105: UserWarning: The `lr` argument is deprecated, use `learning_rate` instead.\n",
      "  super(Adam, self).__init__(name, **kwargs)\n"
     ]
    },
    {
     "name": "stdout",
     "output_type": "stream",
     "text": [
      "[CV 2/5; 3/12] END ....batch_size=5, epochs=100;, score=0.875 total time=  10.9s\n",
      "[CV 3/5; 3/12] START batch_size=5, epochs=100...................................\n"
     ]
    },
    {
     "name": "stderr",
     "output_type": "stream",
     "text": [
      "/usr/local/lib/python3.7/dist-packages/keras/optimizer_v2/adam.py:105: UserWarning: The `lr` argument is deprecated, use `learning_rate` instead.\n",
      "  super(Adam, self).__init__(name, **kwargs)\n"
     ]
    },
    {
     "name": "stdout",
     "output_type": "stream",
     "text": [
      "[CV 3/5; 3/12] END ....batch_size=5, epochs=100;, score=0.524 total time=  11.0s\n",
      "[CV 4/5; 3/12] START batch_size=5, epochs=100...................................\n"
     ]
    },
    {
     "name": "stderr",
     "output_type": "stream",
     "text": [
      "/usr/local/lib/python3.7/dist-packages/keras/optimizer_v2/adam.py:105: UserWarning: The `lr` argument is deprecated, use `learning_rate` instead.\n",
      "  super(Adam, self).__init__(name, **kwargs)\n"
     ]
    },
    {
     "name": "stdout",
     "output_type": "stream",
     "text": [
      "[CV 4/5; 3/12] END ....batch_size=5, epochs=100;, score=0.903 total time=  10.6s\n",
      "[CV 5/5; 3/12] START batch_size=5, epochs=100...................................\n"
     ]
    },
    {
     "name": "stderr",
     "output_type": "stream",
     "text": [
      "/usr/local/lib/python3.7/dist-packages/keras/optimizer_v2/adam.py:105: UserWarning: The `lr` argument is deprecated, use `learning_rate` instead.\n",
      "  super(Adam, self).__init__(name, **kwargs)\n"
     ]
    },
    {
     "name": "stdout",
     "output_type": "stream",
     "text": [
      "[CV 5/5; 3/12] END ....batch_size=5, epochs=100;, score=0.874 total time=  11.0s\n",
      "[CV 1/5; 4/12] START batch_size=5, epochs=150...................................\n"
     ]
    },
    {
     "name": "stderr",
     "output_type": "stream",
     "text": [
      "/usr/local/lib/python3.7/dist-packages/keras/optimizer_v2/adam.py:105: UserWarning: The `lr` argument is deprecated, use `learning_rate` instead.\n",
      "  super(Adam, self).__init__(name, **kwargs)\n"
     ]
    },
    {
     "name": "stdout",
     "output_type": "stream",
     "text": [
      "[CV 1/5; 4/12] END ....batch_size=5, epochs=150;, score=1.000 total time=  21.2s\n",
      "[CV 2/5; 4/12] START batch_size=5, epochs=150...................................\n"
     ]
    },
    {
     "name": "stderr",
     "output_type": "stream",
     "text": [
      "/usr/local/lib/python3.7/dist-packages/keras/optimizer_v2/adam.py:105: UserWarning: The `lr` argument is deprecated, use `learning_rate` instead.\n",
      "  super(Adam, self).__init__(name, **kwargs)\n"
     ]
    },
    {
     "name": "stdout",
     "output_type": "stream",
     "text": [
      "[CV 2/5; 4/12] END ....batch_size=5, epochs=150;, score=0.865 total time=  21.2s\n",
      "[CV 3/5; 4/12] START batch_size=5, epochs=150...................................\n"
     ]
    },
    {
     "name": "stderr",
     "output_type": "stream",
     "text": [
      "/usr/local/lib/python3.7/dist-packages/keras/optimizer_v2/adam.py:105: UserWarning: The `lr` argument is deprecated, use `learning_rate` instead.\n",
      "  super(Adam, self).__init__(name, **kwargs)\n"
     ]
    },
    {
     "name": "stdout",
     "output_type": "stream",
     "text": [
      "[CV 3/5; 4/12] END ....batch_size=5, epochs=150;, score=0.883 total time=  16.0s\n",
      "[CV 4/5; 4/12] START batch_size=5, epochs=150...................................\n"
     ]
    },
    {
     "name": "stderr",
     "output_type": "stream",
     "text": [
      "/usr/local/lib/python3.7/dist-packages/keras/optimizer_v2/adam.py:105: UserWarning: The `lr` argument is deprecated, use `learning_rate` instead.\n",
      "  super(Adam, self).__init__(name, **kwargs)\n"
     ]
    },
    {
     "name": "stdout",
     "output_type": "stream",
     "text": [
      "[CV 4/5; 4/12] END ....batch_size=5, epochs=150;, score=0.922 total time=  21.2s\n",
      "[CV 5/5; 4/12] START batch_size=5, epochs=150...................................\n"
     ]
    },
    {
     "name": "stderr",
     "output_type": "stream",
     "text": [
      "/usr/local/lib/python3.7/dist-packages/keras/optimizer_v2/adam.py:105: UserWarning: The `lr` argument is deprecated, use `learning_rate` instead.\n",
      "  super(Adam, self).__init__(name, **kwargs)\n"
     ]
    },
    {
     "name": "stdout",
     "output_type": "stream",
     "text": [
      "[CV 5/5; 4/12] END ....batch_size=5, epochs=150;, score=0.883 total time=  21.2s\n",
      "[CV 1/5; 5/12] START batch_size=10, epochs=10...................................\n"
     ]
    },
    {
     "name": "stderr",
     "output_type": "stream",
     "text": [
      "/usr/local/lib/python3.7/dist-packages/keras/optimizer_v2/adam.py:105: UserWarning: The `lr` argument is deprecated, use `learning_rate` instead.\n",
      "  super(Adam, self).__init__(name, **kwargs)\n"
     ]
    },
    {
     "name": "stdout",
     "output_type": "stream",
     "text": [
      "[CV 1/5; 5/12] END ....batch_size=10, epochs=10;, score=0.990 total time=   1.3s\n",
      "[CV 2/5; 5/12] START batch_size=10, epochs=10...................................\n"
     ]
    },
    {
     "name": "stderr",
     "output_type": "stream",
     "text": [
      "/usr/local/lib/python3.7/dist-packages/keras/optimizer_v2/adam.py:105: UserWarning: The `lr` argument is deprecated, use `learning_rate` instead.\n",
      "  super(Adam, self).__init__(name, **kwargs)\n"
     ]
    },
    {
     "name": "stdout",
     "output_type": "stream",
     "text": [
      "[CV 2/5; 5/12] END ....batch_size=10, epochs=10;, score=0.856 total time=   1.7s\n",
      "[CV 3/5; 5/12] START batch_size=10, epochs=10...................................\n"
     ]
    },
    {
     "name": "stderr",
     "output_type": "stream",
     "text": [
      "/usr/local/lib/python3.7/dist-packages/keras/optimizer_v2/adam.py:105: UserWarning: The `lr` argument is deprecated, use `learning_rate` instead.\n",
      "  super(Adam, self).__init__(name, **kwargs)\n"
     ]
    },
    {
     "name": "stdout",
     "output_type": "stream",
     "text": [
      "[CV 3/5; 5/12] END ....batch_size=10, epochs=10;, score=0.835 total time=   1.3s\n",
      "[CV 4/5; 5/12] START batch_size=10, epochs=10...................................\n"
     ]
    },
    {
     "name": "stderr",
     "output_type": "stream",
     "text": [
      "/usr/local/lib/python3.7/dist-packages/keras/optimizer_v2/adam.py:105: UserWarning: The `lr` argument is deprecated, use `learning_rate` instead.\n",
      "  super(Adam, self).__init__(name, **kwargs)\n"
     ]
    },
    {
     "name": "stdout",
     "output_type": "stream",
     "text": [
      "[CV 4/5; 5/12] END ....batch_size=10, epochs=10;, score=0.845 total time=   1.3s\n",
      "[CV 5/5; 5/12] START batch_size=10, epochs=10...................................\n"
     ]
    },
    {
     "name": "stderr",
     "output_type": "stream",
     "text": [
      "/usr/local/lib/python3.7/dist-packages/keras/optimizer_v2/adam.py:105: UserWarning: The `lr` argument is deprecated, use `learning_rate` instead.\n",
      "  super(Adam, self).__init__(name, **kwargs)\n"
     ]
    },
    {
     "name": "stdout",
     "output_type": "stream",
     "text": [
      "[CV 5/5; 5/12] END ....batch_size=10, epochs=10;, score=0.903 total time=   1.2s\n",
      "[CV 1/5; 6/12] START batch_size=10, epochs=50...................................\n"
     ]
    },
    {
     "name": "stderr",
     "output_type": "stream",
     "text": [
      "/usr/local/lib/python3.7/dist-packages/keras/optimizer_v2/adam.py:105: UserWarning: The `lr` argument is deprecated, use `learning_rate` instead.\n",
      "  super(Adam, self).__init__(name, **kwargs)\n"
     ]
    },
    {
     "name": "stdout",
     "output_type": "stream",
     "text": [
      "[CV 1/5; 6/12] END ....batch_size=10, epochs=50;, score=1.000 total time=   3.2s\n",
      "[CV 2/5; 6/12] START batch_size=10, epochs=50...................................\n"
     ]
    },
    {
     "name": "stderr",
     "output_type": "stream",
     "text": [
      "/usr/local/lib/python3.7/dist-packages/keras/optimizer_v2/adam.py:105: UserWarning: The `lr` argument is deprecated, use `learning_rate` instead.\n",
      "  super(Adam, self).__init__(name, **kwargs)\n"
     ]
    },
    {
     "name": "stdout",
     "output_type": "stream",
     "text": [
      "[CV 2/5; 6/12] END ....batch_size=10, epochs=50;, score=0.846 total time=   3.3s\n",
      "[CV 3/5; 6/12] START batch_size=10, epochs=50...................................\n"
     ]
    },
    {
     "name": "stderr",
     "output_type": "stream",
     "text": [
      "/usr/local/lib/python3.7/dist-packages/keras/optimizer_v2/adam.py:105: UserWarning: The `lr` argument is deprecated, use `learning_rate` instead.\n",
      "  super(Adam, self).__init__(name, **kwargs)\n"
     ]
    },
    {
     "name": "stdout",
     "output_type": "stream",
     "text": [
      "[CV 3/5; 6/12] END ....batch_size=10, epochs=50;, score=0.893 total time=   3.3s\n",
      "[CV 4/5; 6/12] START batch_size=10, epochs=50...................................\n"
     ]
    },
    {
     "name": "stderr",
     "output_type": "stream",
     "text": [
      "/usr/local/lib/python3.7/dist-packages/keras/optimizer_v2/adam.py:105: UserWarning: The `lr` argument is deprecated, use `learning_rate` instead.\n",
      "  super(Adam, self).__init__(name, **kwargs)\n"
     ]
    },
    {
     "name": "stdout",
     "output_type": "stream",
     "text": [
      "[CV 4/5; 6/12] END ....batch_size=10, epochs=50;, score=0.903 total time=   3.2s\n",
      "[CV 5/5; 6/12] START batch_size=10, epochs=50...................................\n"
     ]
    },
    {
     "name": "stderr",
     "output_type": "stream",
     "text": [
      "/usr/local/lib/python3.7/dist-packages/keras/optimizer_v2/adam.py:105: UserWarning: The `lr` argument is deprecated, use `learning_rate` instead.\n",
      "  super(Adam, self).__init__(name, **kwargs)\n"
     ]
    },
    {
     "name": "stdout",
     "output_type": "stream",
     "text": [
      "[CV 5/5; 6/12] END ....batch_size=10, epochs=50;, score=0.922 total time=   5.8s\n",
      "[CV 1/5; 7/12] START batch_size=10, epochs=100..................................\n"
     ]
    },
    {
     "name": "stderr",
     "output_type": "stream",
     "text": [
      "/usr/local/lib/python3.7/dist-packages/keras/optimizer_v2/adam.py:105: UserWarning: The `lr` argument is deprecated, use `learning_rate` instead.\n",
      "  super(Adam, self).__init__(name, **kwargs)\n"
     ]
    },
    {
     "name": "stdout",
     "output_type": "stream",
     "text": [
      "[CV 1/5; 7/12] END ...batch_size=10, epochs=100;, score=1.000 total time=   5.8s\n",
      "[CV 2/5; 7/12] START batch_size=10, epochs=100..................................\n"
     ]
    },
    {
     "name": "stderr",
     "output_type": "stream",
     "text": [
      "/usr/local/lib/python3.7/dist-packages/keras/optimizer_v2/adam.py:105: UserWarning: The `lr` argument is deprecated, use `learning_rate` instead.\n",
      "  super(Adam, self).__init__(name, **kwargs)\n"
     ]
    },
    {
     "name": "stdout",
     "output_type": "stream",
     "text": [
      "[CV 2/5; 7/12] END ...batch_size=10, epochs=100;, score=0.875 total time=  10.9s\n",
      "[CV 3/5; 7/12] START batch_size=10, epochs=100..................................\n"
     ]
    },
    {
     "name": "stderr",
     "output_type": "stream",
     "text": [
      "/usr/local/lib/python3.7/dist-packages/keras/optimizer_v2/adam.py:105: UserWarning: The `lr` argument is deprecated, use `learning_rate` instead.\n",
      "  super(Adam, self).__init__(name, **kwargs)\n"
     ]
    },
    {
     "name": "stdout",
     "output_type": "stream",
     "text": [
      "[CV 3/5; 7/12] END ...batch_size=10, epochs=100;, score=0.854 total time=   5.8s\n",
      "[CV 4/5; 7/12] START batch_size=10, epochs=100..................................\n"
     ]
    },
    {
     "name": "stderr",
     "output_type": "stream",
     "text": [
      "/usr/local/lib/python3.7/dist-packages/keras/optimizer_v2/adam.py:105: UserWarning: The `lr` argument is deprecated, use `learning_rate` instead.\n",
      "  super(Adam, self).__init__(name, **kwargs)\n"
     ]
    },
    {
     "name": "stdout",
     "output_type": "stream",
     "text": [
      "[CV 4/5; 7/12] END ...batch_size=10, epochs=100;, score=0.942 total time=   6.2s\n",
      "[CV 5/5; 7/12] START batch_size=10, epochs=100..................................\n"
     ]
    },
    {
     "name": "stderr",
     "output_type": "stream",
     "text": [
      "/usr/local/lib/python3.7/dist-packages/keras/optimizer_v2/adam.py:105: UserWarning: The `lr` argument is deprecated, use `learning_rate` instead.\n",
      "  super(Adam, self).__init__(name, **kwargs)\n"
     ]
    },
    {
     "name": "stdout",
     "output_type": "stream",
     "text": [
      "[CV 5/5; 7/12] END ...batch_size=10, epochs=100;, score=0.883 total time=  10.9s\n",
      "[CV 1/5; 8/12] START batch_size=10, epochs=150..................................\n"
     ]
    },
    {
     "name": "stderr",
     "output_type": "stream",
     "text": [
      "/usr/local/lib/python3.7/dist-packages/keras/optimizer_v2/adam.py:105: UserWarning: The `lr` argument is deprecated, use `learning_rate` instead.\n",
      "  super(Adam, self).__init__(name, **kwargs)\n"
     ]
    },
    {
     "name": "stdout",
     "output_type": "stream",
     "text": [
      "[CV 1/5; 8/12] END ...batch_size=10, epochs=150;, score=0.990 total time=   8.4s\n",
      "[CV 2/5; 8/12] START batch_size=10, epochs=150..................................\n"
     ]
    },
    {
     "name": "stderr",
     "output_type": "stream",
     "text": [
      "/usr/local/lib/python3.7/dist-packages/keras/optimizer_v2/adam.py:105: UserWarning: The `lr` argument is deprecated, use `learning_rate` instead.\n",
      "  super(Adam, self).__init__(name, **kwargs)\n"
     ]
    },
    {
     "name": "stdout",
     "output_type": "stream",
     "text": [
      "[CV 2/5; 8/12] END ...batch_size=10, epochs=150;, score=0.875 total time=   8.3s\n",
      "[CV 3/5; 8/12] START batch_size=10, epochs=150..................................\n"
     ]
    },
    {
     "name": "stderr",
     "output_type": "stream",
     "text": [
      "/usr/local/lib/python3.7/dist-packages/keras/optimizer_v2/adam.py:105: UserWarning: The `lr` argument is deprecated, use `learning_rate` instead.\n",
      "  super(Adam, self).__init__(name, **kwargs)\n"
     ]
    },
    {
     "name": "stdout",
     "output_type": "stream",
     "text": [
      "[CV 3/5; 8/12] END ...batch_size=10, epochs=150;, score=0.883 total time=  10.9s\n",
      "[CV 4/5; 8/12] START batch_size=10, epochs=150..................................\n"
     ]
    },
    {
     "name": "stderr",
     "output_type": "stream",
     "text": [
      "/usr/local/lib/python3.7/dist-packages/keras/optimizer_v2/adam.py:105: UserWarning: The `lr` argument is deprecated, use `learning_rate` instead.\n",
      "  super(Adam, self).__init__(name, **kwargs)\n"
     ]
    },
    {
     "name": "stdout",
     "output_type": "stream",
     "text": [
      "[CV 4/5; 8/12] END ...batch_size=10, epochs=150;, score=0.922 total time=  10.9s\n",
      "[CV 5/5; 8/12] START batch_size=10, epochs=150..................................\n"
     ]
    },
    {
     "name": "stderr",
     "output_type": "stream",
     "text": [
      "/usr/local/lib/python3.7/dist-packages/keras/optimizer_v2/adam.py:105: UserWarning: The `lr` argument is deprecated, use `learning_rate` instead.\n",
      "  super(Adam, self).__init__(name, **kwargs)\n"
     ]
    },
    {
     "name": "stdout",
     "output_type": "stream",
     "text": [
      "[CV 5/5; 8/12] END ...batch_size=10, epochs=150;, score=0.903 total time=  10.9s\n",
      "[CV 1/5; 9/12] START batch_size=20, epochs=10...................................\n"
     ]
    },
    {
     "name": "stderr",
     "output_type": "stream",
     "text": [
      "/usr/local/lib/python3.7/dist-packages/keras/optimizer_v2/adam.py:105: UserWarning: The `lr` argument is deprecated, use `learning_rate` instead.\n",
      "  super(Adam, self).__init__(name, **kwargs)\n"
     ]
    },
    {
     "name": "stdout",
     "output_type": "stream",
     "text": [
      "[CV 1/5; 9/12] END ....batch_size=20, epochs=10;, score=1.000 total time=   1.0s\n",
      "[CV 2/5; 9/12] START batch_size=20, epochs=10...................................\n"
     ]
    },
    {
     "name": "stderr",
     "output_type": "stream",
     "text": [
      "/usr/local/lib/python3.7/dist-packages/keras/optimizer_v2/adam.py:105: UserWarning: The `lr` argument is deprecated, use `learning_rate` instead.\n",
      "  super(Adam, self).__init__(name, **kwargs)\n"
     ]
    },
    {
     "name": "stdout",
     "output_type": "stream",
     "text": [
      "[CV 2/5; 9/12] END ....batch_size=20, epochs=10;, score=0.837 total time=   1.0s\n",
      "[CV 3/5; 9/12] START batch_size=20, epochs=10...................................\n"
     ]
    },
    {
     "name": "stderr",
     "output_type": "stream",
     "text": [
      "/usr/local/lib/python3.7/dist-packages/keras/optimizer_v2/adam.py:105: UserWarning: The `lr` argument is deprecated, use `learning_rate` instead.\n",
      "  super(Adam, self).__init__(name, **kwargs)\n"
     ]
    },
    {
     "name": "stdout",
     "output_type": "stream",
     "text": [
      "[CV 3/5; 9/12] END ....batch_size=20, epochs=10;, score=0.864 total time=   1.0s\n",
      "[CV 4/5; 9/12] START batch_size=20, epochs=10...................................\n"
     ]
    },
    {
     "name": "stderr",
     "output_type": "stream",
     "text": [
      "/usr/local/lib/python3.7/dist-packages/keras/optimizer_v2/adam.py:105: UserWarning: The `lr` argument is deprecated, use `learning_rate` instead.\n",
      "  super(Adam, self).__init__(name, **kwargs)\n"
     ]
    },
    {
     "name": "stdout",
     "output_type": "stream",
     "text": [
      "[CV 4/5; 9/12] END ....batch_size=20, epochs=10;, score=0.835 total time=   1.0s\n",
      "[CV 5/5; 9/12] START batch_size=20, epochs=10...................................\n"
     ]
    },
    {
     "name": "stderr",
     "output_type": "stream",
     "text": [
      "/usr/local/lib/python3.7/dist-packages/keras/optimizer_v2/adam.py:105: UserWarning: The `lr` argument is deprecated, use `learning_rate` instead.\n",
      "  super(Adam, self).__init__(name, **kwargs)\n"
     ]
    },
    {
     "name": "stdout",
     "output_type": "stream",
     "text": [
      "[CV 5/5; 9/12] END ....batch_size=20, epochs=10;, score=0.845 total time=   0.9s\n",
      "[CV 1/5; 10/12] START batch_size=20, epochs=50..................................\n"
     ]
    },
    {
     "name": "stderr",
     "output_type": "stream",
     "text": [
      "/usr/local/lib/python3.7/dist-packages/keras/optimizer_v2/adam.py:105: UserWarning: The `lr` argument is deprecated, use `learning_rate` instead.\n",
      "  super(Adam, self).__init__(name, **kwargs)\n"
     ]
    },
    {
     "name": "stdout",
     "output_type": "stream",
     "text": [
      "[CV 1/5; 10/12] END ...batch_size=20, epochs=50;, score=1.000 total time=   2.4s\n",
      "[CV 2/5; 10/12] START batch_size=20, epochs=50..................................\n"
     ]
    },
    {
     "name": "stderr",
     "output_type": "stream",
     "text": [
      "/usr/local/lib/python3.7/dist-packages/keras/optimizer_v2/adam.py:105: UserWarning: The `lr` argument is deprecated, use `learning_rate` instead.\n",
      "  super(Adam, self).__init__(name, **kwargs)\n"
     ]
    },
    {
     "name": "stdout",
     "output_type": "stream",
     "text": [
      "[CV 2/5; 10/12] END ...batch_size=20, epochs=50;, score=0.827 total time=   2.0s\n",
      "[CV 3/5; 10/12] START batch_size=20, epochs=50..................................\n"
     ]
    },
    {
     "name": "stderr",
     "output_type": "stream",
     "text": [
      "/usr/local/lib/python3.7/dist-packages/keras/optimizer_v2/adam.py:105: UserWarning: The `lr` argument is deprecated, use `learning_rate` instead.\n",
      "  super(Adam, self).__init__(name, **kwargs)\n"
     ]
    },
    {
     "name": "stdout",
     "output_type": "stream",
     "text": [
      "[CV 3/5; 10/12] END ...batch_size=20, epochs=50;, score=0.893 total time=   3.2s\n",
      "[CV 4/5; 10/12] START batch_size=20, epochs=50..................................\n"
     ]
    },
    {
     "name": "stderr",
     "output_type": "stream",
     "text": [
      "/usr/local/lib/python3.7/dist-packages/keras/optimizer_v2/adam.py:105: UserWarning: The `lr` argument is deprecated, use `learning_rate` instead.\n",
      "  super(Adam, self).__init__(name, **kwargs)\n"
     ]
    },
    {
     "name": "stdout",
     "output_type": "stream",
     "text": [
      "[CV 4/5; 10/12] END ...batch_size=20, epochs=50;, score=0.922 total time=   3.2s\n",
      "[CV 5/5; 10/12] START batch_size=20, epochs=50..................................\n"
     ]
    },
    {
     "name": "stderr",
     "output_type": "stream",
     "text": [
      "/usr/local/lib/python3.7/dist-packages/keras/optimizer_v2/adam.py:105: UserWarning: The `lr` argument is deprecated, use `learning_rate` instead.\n",
      "  super(Adam, self).__init__(name, **kwargs)\n"
     ]
    },
    {
     "name": "stdout",
     "output_type": "stream",
     "text": [
      "[CV 5/5; 10/12] END ...batch_size=20, epochs=50;, score=0.835 total time=   2.0s\n",
      "[CV 1/5; 11/12] START batch_size=20, epochs=100.................................\n"
     ]
    },
    {
     "name": "stderr",
     "output_type": "stream",
     "text": [
      "/usr/local/lib/python3.7/dist-packages/keras/optimizer_v2/adam.py:105: UserWarning: The `lr` argument is deprecated, use `learning_rate` instead.\n",
      "  super(Adam, self).__init__(name, **kwargs)\n"
     ]
    },
    {
     "name": "stdout",
     "output_type": "stream",
     "text": [
      "[CV 1/5; 11/12] END ..batch_size=20, epochs=100;, score=0.990 total time=   3.4s\n",
      "[CV 2/5; 11/12] START batch_size=20, epochs=100.................................\n"
     ]
    },
    {
     "name": "stderr",
     "output_type": "stream",
     "text": [
      "/usr/local/lib/python3.7/dist-packages/keras/optimizer_v2/adam.py:105: UserWarning: The `lr` argument is deprecated, use `learning_rate` instead.\n",
      "  super(Adam, self).__init__(name, **kwargs)\n"
     ]
    },
    {
     "name": "stdout",
     "output_type": "stream",
     "text": [
      "[CV 2/5; 11/12] END ..batch_size=20, epochs=100;, score=0.865 total time=   5.8s\n",
      "[CV 3/5; 11/12] START batch_size=20, epochs=100.................................\n"
     ]
    },
    {
     "name": "stderr",
     "output_type": "stream",
     "text": [
      "/usr/local/lib/python3.7/dist-packages/keras/optimizer_v2/adam.py:105: UserWarning: The `lr` argument is deprecated, use `learning_rate` instead.\n",
      "  super(Adam, self).__init__(name, **kwargs)\n"
     ]
    },
    {
     "name": "stdout",
     "output_type": "stream",
     "text": [
      "[CV 3/5; 11/12] END ..batch_size=20, epochs=100;, score=0.883 total time=   3.3s\n",
      "[CV 4/5; 11/12] START batch_size=20, epochs=100.................................\n"
     ]
    },
    {
     "name": "stderr",
     "output_type": "stream",
     "text": [
      "/usr/local/lib/python3.7/dist-packages/keras/optimizer_v2/adam.py:105: UserWarning: The `lr` argument is deprecated, use `learning_rate` instead.\n",
      "  super(Adam, self).__init__(name, **kwargs)\n"
     ]
    },
    {
     "name": "stdout",
     "output_type": "stream",
     "text": [
      "[CV 4/5; 11/12] END ..batch_size=20, epochs=100;, score=0.903 total time=   5.8s\n",
      "[CV 5/5; 11/12] START batch_size=20, epochs=100.................................\n"
     ]
    },
    {
     "name": "stderr",
     "output_type": "stream",
     "text": [
      "/usr/local/lib/python3.7/dist-packages/keras/optimizer_v2/adam.py:105: UserWarning: The `lr` argument is deprecated, use `learning_rate` instead.\n",
      "  super(Adam, self).__init__(name, **kwargs)\n"
     ]
    },
    {
     "name": "stdout",
     "output_type": "stream",
     "text": [
      "[CV 5/5; 11/12] END ..batch_size=20, epochs=100;, score=0.893 total time=   5.8s\n",
      "[CV 1/5; 12/12] START batch_size=20, epochs=150.................................\n"
     ]
    },
    {
     "name": "stderr",
     "output_type": "stream",
     "text": [
      "/usr/local/lib/python3.7/dist-packages/keras/optimizer_v2/adam.py:105: UserWarning: The `lr` argument is deprecated, use `learning_rate` instead.\n",
      "  super(Adam, self).__init__(name, **kwargs)\n"
     ]
    },
    {
     "name": "stdout",
     "output_type": "stream",
     "text": [
      "[CV 1/5; 12/12] END ..batch_size=20, epochs=150;, score=1.000 total time=   6.2s\n",
      "[CV 2/5; 12/12] START batch_size=20, epochs=150.................................\n"
     ]
    },
    {
     "name": "stderr",
     "output_type": "stream",
     "text": [
      "/usr/local/lib/python3.7/dist-packages/keras/optimizer_v2/adam.py:105: UserWarning: The `lr` argument is deprecated, use `learning_rate` instead.\n",
      "  super(Adam, self).__init__(name, **kwargs)\n"
     ]
    },
    {
     "name": "stdout",
     "output_type": "stream",
     "text": [
      "[CV 2/5; 12/12] END ..batch_size=20, epochs=150;, score=0.885 total time=   4.7s\n",
      "[CV 3/5; 12/12] START batch_size=20, epochs=150.................................\n"
     ]
    },
    {
     "name": "stderr",
     "output_type": "stream",
     "text": [
      "/usr/local/lib/python3.7/dist-packages/keras/optimizer_v2/adam.py:105: UserWarning: The `lr` argument is deprecated, use `learning_rate` instead.\n",
      "  super(Adam, self).__init__(name, **kwargs)\n"
     ]
    },
    {
     "name": "stdout",
     "output_type": "stream",
     "text": [
      "[CV 3/5; 12/12] END ..batch_size=20, epochs=150;, score=0.874 total time=   4.7s\n",
      "[CV 4/5; 12/12] START batch_size=20, epochs=150.................................\n"
     ]
    },
    {
     "name": "stderr",
     "output_type": "stream",
     "text": [
      "/usr/local/lib/python3.7/dist-packages/keras/optimizer_v2/adam.py:105: UserWarning: The `lr` argument is deprecated, use `learning_rate` instead.\n",
      "  super(Adam, self).__init__(name, **kwargs)\n"
     ]
    },
    {
     "name": "stdout",
     "output_type": "stream",
     "text": [
      "[CV 4/5; 12/12] END ..batch_size=20, epochs=150;, score=0.922 total time=   4.7s\n",
      "[CV 5/5; 12/12] START batch_size=20, epochs=150.................................\n"
     ]
    },
    {
     "name": "stderr",
     "output_type": "stream",
     "text": [
      "/usr/local/lib/python3.7/dist-packages/keras/optimizer_v2/adam.py:105: UserWarning: The `lr` argument is deprecated, use `learning_rate` instead.\n",
      "  super(Adam, self).__init__(name, **kwargs)\n"
     ]
    },
    {
     "name": "stdout",
     "output_type": "stream",
     "text": [
      "[CV 5/5; 12/12] END ..batch_size=20, epochs=150;, score=0.874 total time=   4.6s\n"
     ]
    }
   ],
   "source": [
    "grid_result=grid.fit(standardized_x,Y)"
   ]
  },
  {
   "cell_type": "code",
   "execution_count": 60,
   "id": "57e32e28",
   "metadata": {
    "colab": {
     "base_uri": "https://localhost:8080/"
    },
    "id": "57e32e28",
    "outputId": "435c114c-badc-4efa-b44c-1570b101bb5f"
   },
   "outputs": [
    {
     "name": "stdout",
     "output_type": "stream",
     "text": [
      "Best : 0.9226101517677308, using {'batch_size': 5, 'epochs': 50}\n",
      "0.8973487734794616,0.0492754070862842 with: {'batch_size': 5, 'epochs': 10}\n",
      "0.9226101517677308,0.04756239586822887 with: {'batch_size': 5, 'epochs': 50}\n",
      "0.8351941704750061,0.1621686189357881 with: {'batch_size': 5, 'epochs': 100}\n",
      "0.9109410047531128,0.048255876104978626 with: {'batch_size': 5, 'epochs': 150}\n",
      "0.8857356309890747,0.05728991308279339 with: {'batch_size': 10, 'epochs': 10}\n",
      "0.912920081615448,0.05023558145164511 with: {'batch_size': 10, 'epochs': 50}\n",
      "0.9109223246574402,0.053152566708316015 with: {'batch_size': 10, 'epochs': 100}\n",
      "0.9148244976997375,0.041170572170070474 with: {'batch_size': 10, 'epochs': 150}\n",
      "0.876045560836792,0.0628371078412309 with: {'batch_size': 20, 'epochs': 10}\n",
      "0.8954816937446595,0.06326815081775147 with: {'batch_size': 20, 'epochs': 50}\n",
      "0.9070761799812317,0.04346107552356774 with: {'batch_size': 20, 'epochs': 100}\n",
      "0.9109036445617675,0.04798995525509956 with: {'batch_size': 20, 'epochs': 150}\n"
     ]
    }
   ],
   "source": [
    "# Summarize the results\n",
    "print('Best : {}, using {}'.format(grid_result.best_score_,grid_result.best_params_))\n",
    "means = grid_result.cv_results_['mean_test_score']\n",
    "stds = grid_result.cv_results_['std_test_score']\n",
    "params = grid_result.cv_results_['params']\n",
    "for mean, stdev, param in zip(means, stds, params):\n",
    "  print('{},{} with: {}'.format(mean, stdev, param))"
   ]
  },
  {
   "cell_type": "code",
   "execution_count": 61,
   "id": "c6080dc7",
   "metadata": {
    "id": "c6080dc7"
   },
   "outputs": [],
   "source": [
    "#tuning of learning rate and dropout rate\n",
    "from keras.layers import Dropout\n",
    "def model2(learning_rate,dropout_rate):\n",
    "    model = Sequential()\n",
    "    model.add(Dense(12, input_dim=28, kernel_initializer='random_uniform', activation='relu'))\n",
    "    model.add(Dropout(dropout_rate))\n",
    "    model.add(Dense(8, kernel_initializer='random_uniform', activation='relu'))\n",
    "    model.add(Dropout(dropout_rate))\n",
    "    model.add(Dense(1, activation='sigmoid'))\n",
    "    adam=Adam(learning_rate)\n",
    "    model.compile(loss='binary_crossentropy',optimizer=adam,metrics=['accuracy'])\n",
    "    return model"
   ]
  },
  {
   "cell_type": "code",
   "execution_count": 62,
   "id": "24d025bf",
   "metadata": {
    "colab": {
     "base_uri": "https://localhost:8080/"
    },
    "id": "24d025bf",
    "outputId": "37bc1b26-eaf6-47d3-ae1e-fb8ce8354edc"
   },
   "outputs": [
    {
     "name": "stderr",
     "output_type": "stream",
     "text": [
      "/usr/local/lib/python3.7/dist-packages/ipykernel_launcher.py:1: DeprecationWarning: KerasClassifier is deprecated, use Sci-Keras (https://github.com/adriangb/scikeras) instead.\n",
      "  \"\"\"Entry point for launching an IPython kernel.\n"
     ]
    }
   ],
   "source": [
    "model = KerasClassifier(build_fn = model2,verbose = 0,batch_size = 5,epochs = 150)"
   ]
  },
  {
   "cell_type": "code",
   "execution_count": 63,
   "id": "1a296483",
   "metadata": {
    "id": "1a296483"
   },
   "outputs": [],
   "source": [
    "learning_rate=[0.1,0.001,0.0001]\n",
    "dropout_rate=[0.0,0.01,0.1]"
   ]
  },
  {
   "cell_type": "code",
   "execution_count": 64,
   "id": "d6f49121",
   "metadata": {
    "id": "d6f49121"
   },
   "outputs": [],
   "source": [
    "param_grid=dict(learning_rate=learning_rate,dropout_rate=dropout_rate)\n",
    "grid=GridSearchCV(estimator=model,param_grid=param_grid,cv=KFold(),verbose=10)"
   ]
  },
  {
   "cell_type": "code",
   "execution_count": 65,
   "id": "7da6d878",
   "metadata": {
    "colab": {
     "base_uri": "https://localhost:8080/"
    },
    "id": "7da6d878",
    "outputId": "871cb644-e60a-49a5-a055-ccda7f3255bd"
   },
   "outputs": [
    {
     "name": "stdout",
     "output_type": "stream",
     "text": [
      "Fitting 5 folds for each of 9 candidates, totalling 45 fits\n",
      "[CV 1/5; 1/9] START dropout_rate=0.0, learning_rate=0.1.........................\n",
      "[CV 1/5; 1/9] END dropout_rate=0.0, learning_rate=0.1;, score=1.000 total time=  21.2s\n",
      "[CV 2/5; 1/9] START dropout_rate=0.0, learning_rate=0.1.........................\n",
      "[CV 2/5; 1/9] END dropout_rate=0.0, learning_rate=0.1;, score=0.750 total time=  21.2s\n",
      "[CV 3/5; 1/9] START dropout_rate=0.0, learning_rate=0.1.........................\n",
      "[CV 3/5; 1/9] END dropout_rate=0.0, learning_rate=0.1;, score=0.524 total time=  21.2s\n",
      "[CV 4/5; 1/9] START dropout_rate=0.0, learning_rate=0.1.........................\n",
      "[CV 4/5; 1/9] END dropout_rate=0.0, learning_rate=0.1;, score=0.680 total time=  21.2s\n",
      "[CV 5/5; 1/9] START dropout_rate=0.0, learning_rate=0.1.........................\n",
      "[CV 5/5; 1/9] END dropout_rate=0.0, learning_rate=0.1;, score=0.699 total time=  21.2s\n",
      "[CV 1/5; 2/9] START dropout_rate=0.0, learning_rate=0.001.......................\n",
      "[CV 1/5; 2/9] END dropout_rate=0.0, learning_rate=0.001;, score=1.000 total time=  21.2s\n",
      "[CV 2/5; 2/9] START dropout_rate=0.0, learning_rate=0.001.......................\n",
      "[CV 2/5; 2/9] END dropout_rate=0.0, learning_rate=0.001;, score=0.856 total time=  16.2s\n",
      "[CV 3/5; 2/9] START dropout_rate=0.0, learning_rate=0.001.......................\n",
      "[CV 3/5; 2/9] END dropout_rate=0.0, learning_rate=0.001;, score=0.913 total time=  15.6s\n",
      "[CV 4/5; 2/9] START dropout_rate=0.0, learning_rate=0.001.......................\n",
      "[CV 4/5; 2/9] END dropout_rate=0.0, learning_rate=0.001;, score=0.932 total time=  15.7s\n",
      "[CV 5/5; 2/9] START dropout_rate=0.0, learning_rate=0.001.......................\n",
      "[CV 5/5; 2/9] END dropout_rate=0.0, learning_rate=0.001;, score=0.893 total time=  21.2s\n",
      "[CV 1/5; 3/9] START dropout_rate=0.0, learning_rate=0.0001......................\n",
      "[CV 1/5; 3/9] END dropout_rate=0.0, learning_rate=0.0001;, score=0.990 total time=  21.2s\n",
      "[CV 2/5; 3/9] START dropout_rate=0.0, learning_rate=0.0001......................\n",
      "[CV 2/5; 3/9] END dropout_rate=0.0, learning_rate=0.0001;, score=0.817 total time=  15.6s\n",
      "[CV 3/5; 3/9] START dropout_rate=0.0, learning_rate=0.0001......................\n",
      "[CV 3/5; 3/9] END dropout_rate=0.0, learning_rate=0.0001;, score=0.845 total time=  21.2s\n",
      "[CV 4/5; 3/9] START dropout_rate=0.0, learning_rate=0.0001......................\n",
      "[CV 4/5; 3/9] END dropout_rate=0.0, learning_rate=0.0001;, score=0.864 total time=  15.2s\n",
      "[CV 5/5; 3/9] START dropout_rate=0.0, learning_rate=0.0001......................\n",
      "[CV 5/5; 3/9] END dropout_rate=0.0, learning_rate=0.0001;, score=0.854 total time=  15.7s\n",
      "[CV 1/5; 4/9] START dropout_rate=0.01, learning_rate=0.1........................\n",
      "[CV 1/5; 4/9] END dropout_rate=0.01, learning_rate=0.1;, score=1.000 total time=  16.1s\n",
      "[CV 2/5; 4/9] START dropout_rate=0.01, learning_rate=0.1........................\n",
      "[CV 2/5; 4/9] END dropout_rate=0.01, learning_rate=0.1;, score=0.750 total time=  15.9s\n",
      "[CV 3/5; 4/9] START dropout_rate=0.01, learning_rate=0.1........................\n",
      "[CV 3/5; 4/9] END dropout_rate=0.01, learning_rate=0.1;, score=0.524 total time=  21.7s\n",
      "[CV 4/5; 4/9] START dropout_rate=0.01, learning_rate=0.1........................\n",
      "[CV 4/5; 4/9] END dropout_rate=0.01, learning_rate=0.1;, score=0.680 total time=  21.2s\n",
      "[CV 5/5; 4/9] START dropout_rate=0.01, learning_rate=0.1........................\n",
      "[CV 5/5; 4/9] END dropout_rate=0.01, learning_rate=0.1;, score=0.699 total time=  21.2s\n",
      "[CV 1/5; 5/9] START dropout_rate=0.01, learning_rate=0.001......................\n",
      "[CV 1/5; 5/9] END dropout_rate=0.01, learning_rate=0.001;, score=0.990 total time=  21.2s\n",
      "[CV 2/5; 5/9] START dropout_rate=0.01, learning_rate=0.001......................\n",
      "[CV 2/5; 5/9] END dropout_rate=0.01, learning_rate=0.001;, score=0.875 total time=  21.2s\n",
      "[CV 3/5; 5/9] START dropout_rate=0.01, learning_rate=0.001......................\n",
      "[CV 3/5; 5/9] END dropout_rate=0.01, learning_rate=0.001;, score=0.903 total time=  16.1s\n",
      "[CV 4/5; 5/9] START dropout_rate=0.01, learning_rate=0.001......................\n",
      "[CV 4/5; 5/9] END dropout_rate=0.01, learning_rate=0.001;, score=0.922 total time=  21.2s\n",
      "[CV 5/5; 5/9] START dropout_rate=0.01, learning_rate=0.001......................\n",
      "[CV 5/5; 5/9] END dropout_rate=0.01, learning_rate=0.001;, score=0.922 total time=  15.9s\n",
      "[CV 1/5; 6/9] START dropout_rate=0.01, learning_rate=0.0001.....................\n",
      "[CV 1/5; 6/9] END dropout_rate=0.01, learning_rate=0.0001;, score=0.990 total time=  21.2s\n",
      "[CV 2/5; 6/9] START dropout_rate=0.01, learning_rate=0.0001.....................\n",
      "[CV 2/5; 6/9] END dropout_rate=0.01, learning_rate=0.0001;, score=0.808 total time=  21.2s\n",
      "[CV 3/5; 6/9] START dropout_rate=0.01, learning_rate=0.0001.....................\n",
      "[CV 3/5; 6/9] END dropout_rate=0.01, learning_rate=0.0001;, score=0.883 total time=  15.9s\n",
      "[CV 4/5; 6/9] START dropout_rate=0.01, learning_rate=0.0001.....................\n",
      "[CV 4/5; 6/9] END dropout_rate=0.01, learning_rate=0.0001;, score=0.835 total time=  21.7s\n",
      "[CV 5/5; 6/9] START dropout_rate=0.01, learning_rate=0.0001.....................\n",
      "[CV 5/5; 6/9] END dropout_rate=0.01, learning_rate=0.0001;, score=0.854 total time=  16.1s\n",
      "[CV 1/5; 7/9] START dropout_rate=0.1, learning_rate=0.1.........................\n",
      "[CV 1/5; 7/9] END dropout_rate=0.1, learning_rate=0.1;, score=1.000 total time=  21.2s\n",
      "[CV 2/5; 7/9] START dropout_rate=0.1, learning_rate=0.1.........................\n",
      "[CV 2/5; 7/9] END dropout_rate=0.1, learning_rate=0.1;, score=0.750 total time=  21.3s\n",
      "[CV 3/5; 7/9] START dropout_rate=0.1, learning_rate=0.1.........................\n",
      "[CV 3/5; 7/9] END dropout_rate=0.1, learning_rate=0.1;, score=0.524 total time=  16.0s\n",
      "[CV 4/5; 7/9] START dropout_rate=0.1, learning_rate=0.1.........................\n",
      "[CV 4/5; 7/9] END dropout_rate=0.1, learning_rate=0.1;, score=0.680 total time=  16.4s\n",
      "[CV 5/5; 7/9] START dropout_rate=0.1, learning_rate=0.1.........................\n",
      "[CV 5/5; 7/9] END dropout_rate=0.1, learning_rate=0.1;, score=0.699 total time=  21.3s\n",
      "[CV 1/5; 8/9] START dropout_rate=0.1, learning_rate=0.001.......................\n",
      "[CV 1/5; 8/9] END dropout_rate=0.1, learning_rate=0.001;, score=1.000 total time=  21.3s\n",
      "[CV 2/5; 8/9] START dropout_rate=0.1, learning_rate=0.001.......................\n",
      "[CV 2/5; 8/9] END dropout_rate=0.1, learning_rate=0.001;, score=0.875 total time=  16.2s\n",
      "[CV 3/5; 8/9] START dropout_rate=0.1, learning_rate=0.001.......................\n",
      "[CV 3/5; 8/9] END dropout_rate=0.1, learning_rate=0.001;, score=0.922 total time=  21.3s\n",
      "[CV 4/5; 8/9] START dropout_rate=0.1, learning_rate=0.001.......................\n",
      "[CV 4/5; 8/9] END dropout_rate=0.1, learning_rate=0.001;, score=0.932 total time=  21.7s\n",
      "[CV 5/5; 8/9] START dropout_rate=0.1, learning_rate=0.001.......................\n",
      "[CV 5/5; 8/9] END dropout_rate=0.1, learning_rate=0.001;, score=0.913 total time=  21.2s\n",
      "[CV 1/5; 9/9] START dropout_rate=0.1, learning_rate=0.0001......................\n",
      "[CV 1/5; 9/9] END dropout_rate=0.1, learning_rate=0.0001;, score=1.000 total time=  21.3s\n",
      "[CV 2/5; 9/9] START dropout_rate=0.1, learning_rate=0.0001......................\n",
      "[CV 2/5; 9/9] END dropout_rate=0.1, learning_rate=0.0001;, score=0.798 total time=  21.3s\n",
      "[CV 3/5; 9/9] START dropout_rate=0.1, learning_rate=0.0001......................\n",
      "[CV 3/5; 9/9] END dropout_rate=0.1, learning_rate=0.0001;, score=0.854 total time=  16.0s\n",
      "[CV 4/5; 9/9] START dropout_rate=0.1, learning_rate=0.0001......................\n",
      "[CV 4/5; 9/9] END dropout_rate=0.1, learning_rate=0.0001;, score=0.825 total time=  21.3s\n",
      "[CV 5/5; 9/9] START dropout_rate=0.1, learning_rate=0.0001......................\n",
      "[CV 5/5; 9/9] END dropout_rate=0.1, learning_rate=0.0001;, score=0.845 total time=  16.2s\n"
     ]
    }
   ],
   "source": [
    "grid_result=grid.fit(standardized_x,Y)"
   ]
  },
  {
   "cell_type": "code",
   "execution_count": 67,
   "id": "7abc9b45",
   "metadata": {
    "colab": {
     "base_uri": "https://localhost:8080/"
    },
    "id": "7abc9b45",
    "outputId": "f165ac8f-7462-48fd-c13e-025f3c8d1316"
   },
   "outputs": [
    {
     "name": "stdout",
     "output_type": "stream",
     "text": [
      "Best : 0.9283980607986451, using {'dropout_rate': 0.1, 'learning_rate': 0.001}\n",
      "0.7305825233459473,0.15435061319000673 with: {'dropout_rate': 0.0, 'learning_rate': 0.1}\n",
      "0.9187266588211059,0.047822374909467634 with: {'dropout_rate': 0.0, 'learning_rate': 0.001}\n",
      "0.874159836769104,0.06017296054114781 with: {'dropout_rate': 0.0, 'learning_rate': 0.0001}\n",
      "0.7305825233459473,0.15435061319000673 with: {'dropout_rate': 0.01, 'learning_rate': 0.1}\n",
      "0.922591483592987,0.038074284235332795 with: {'dropout_rate': 0.01, 'learning_rate': 0.001}\n",
      "0.8741784930229187,0.06315419651652084 with: {'dropout_rate': 0.01, 'learning_rate': 0.0001}\n",
      "0.7305825233459473,0.15435061319000673 with: {'dropout_rate': 0.1, 'learning_rate': 0.1}\n",
      "0.9283980607986451,0.040687024858257176 with: {'dropout_rate': 0.1, 'learning_rate': 0.001}\n",
      "0.8644697546958924,0.07044098403475332 with: {'dropout_rate': 0.1, 'learning_rate': 0.0001}\n"
     ]
    }
   ],
   "source": [
    "# Summarize the results\n",
    "print('Best : {}, using {}'.format(grid_result.best_score_,grid_result.best_params_))\n",
    "means = grid_result.cv_results_['mean_test_score']\n",
    "stds = grid_result.cv_results_['std_test_score']\n",
    "params = grid_result.cv_results_['params']\n",
    "for mean, stdev, param in zip(means, stds, params):\n",
    "  print('{},{} with: {}'.format(mean, stdev, param)) "
   ]
  },
  {
   "cell_type": "code",
   "execution_count": 68,
   "id": "37db4d43",
   "metadata": {
    "id": "37db4d43"
   },
   "outputs": [],
   "source": [
    "#tuning of Kernel_initializer and activation parameter\n",
    "def model3(activation,kernel_initializer):\n",
    "    model = Sequential()\n",
    "    model.add(Dense(12, input_dim=28, kernel_initializer=kernel_initializer, activation=activation))\n",
    "    model.add(Dropout(0.1))\n",
    "    model.add(Dense(8,kernel_initializer=kernel_initializer, activation=activation))\n",
    "    model.add(Dropout(0.1))\n",
    "    model.add(Dense(1, activation='sigmoid'))\n",
    "    adam=Adam(0.001)\n",
    "    model.compile(loss='binary_crossentropy',optimizer=adam,metrics=['accuracy'])\n",
    "    return model"
   ]
  },
  {
   "cell_type": "code",
   "execution_count": 69,
   "id": "d2148448",
   "metadata": {
    "colab": {
     "base_uri": "https://localhost:8080/"
    },
    "id": "d2148448",
    "outputId": "7f679791-fd69-4176-864f-1563ae568296"
   },
   "outputs": [
    {
     "name": "stderr",
     "output_type": "stream",
     "text": [
      "/usr/local/lib/python3.7/dist-packages/ipykernel_launcher.py:1: DeprecationWarning: KerasClassifier is deprecated, use Sci-Keras (https://github.com/adriangb/scikeras) instead.\n",
      "  \"\"\"Entry point for launching an IPython kernel.\n"
     ]
    }
   ],
   "source": [
    "model = KerasClassifier(build_fn = model3,verbose = 0,batch_size = 20,epochs = 100)"
   ]
  },
  {
   "cell_type": "code",
   "execution_count": 70,
   "id": "fc4886cd",
   "metadata": {
    "id": "fc4886cd"
   },
   "outputs": [],
   "source": [
    "kernel_initializer=['uniform','normal','zero']\n",
    "activation=['softmax','relu','tanh','linear']"
   ]
  },
  {
   "cell_type": "code",
   "execution_count": 71,
   "id": "5eafe593",
   "metadata": {
    "id": "5eafe593"
   },
   "outputs": [],
   "source": [
    "param_grid=dict( kernel_initializer=kernel_initializer, activation=activation)\n",
    "grid=GridSearchCV(estimator=model,cv=KFold(),param_grid=param_grid,verbose=10)"
   ]
  },
  {
   "cell_type": "code",
   "execution_count": 72,
   "id": "75f0daf8",
   "metadata": {
    "colab": {
     "base_uri": "https://localhost:8080/"
    },
    "id": "75f0daf8",
    "outputId": "410fb860-989b-4841-ba2d-2b9aeeac6eb6"
   },
   "outputs": [
    {
     "name": "stdout",
     "output_type": "stream",
     "text": [
      "Fitting 5 folds for each of 12 candidates, totalling 60 fits\n",
      "[CV 1/5; 1/12] START activation=softmax, kernel_initializer=uniform.............\n",
      "[CV 1/5; 1/12] END activation=softmax, kernel_initializer=uniform;, score=0.981 total time=   3.6s\n",
      "[CV 2/5; 1/12] START activation=softmax, kernel_initializer=uniform.............\n",
      "[CV 2/5; 1/12] END activation=softmax, kernel_initializer=uniform;, score=0.750 total time=   3.5s\n",
      "[CV 3/5; 1/12] START activation=softmax, kernel_initializer=uniform.............\n",
      "[CV 3/5; 1/12] END activation=softmax, kernel_initializer=uniform;, score=0.524 total time=   5.9s\n",
      "[CV 4/5; 1/12] START activation=softmax, kernel_initializer=uniform.............\n",
      "[CV 4/5; 1/12] END activation=softmax, kernel_initializer=uniform;, score=0.728 total time=   6.3s\n",
      "[CV 5/5; 1/12] START activation=softmax, kernel_initializer=uniform.............\n",
      "[CV 5/5; 1/12] END activation=softmax, kernel_initializer=uniform;, score=0.767 total time=   5.9s\n",
      "[CV 1/5; 2/12] START activation=softmax, kernel_initializer=normal..............\n",
      "[CV 1/5; 2/12] END activation=softmax, kernel_initializer=normal;, score=0.952 total time=   3.6s\n",
      "[CV 2/5; 2/12] START activation=softmax, kernel_initializer=normal..............\n",
      "[CV 2/5; 2/12] END activation=softmax, kernel_initializer=normal;, score=0.750 total time=   3.6s\n",
      "[CV 3/5; 2/12] START activation=softmax, kernel_initializer=normal..............\n",
      "[CV 3/5; 2/12] END activation=softmax, kernel_initializer=normal;, score=0.524 total time=   5.9s\n",
      "[CV 4/5; 2/12] START activation=softmax, kernel_initializer=normal..............\n",
      "[CV 4/5; 2/12] END activation=softmax, kernel_initializer=normal;, score=0.738 total time=   5.9s\n",
      "[CV 5/5; 2/12] START activation=softmax, kernel_initializer=normal..............\n",
      "[CV 5/5; 2/12] END activation=softmax, kernel_initializer=normal;, score=0.748 total time=   5.9s\n",
      "[CV 1/5; 3/12] START activation=softmax, kernel_initializer=zero................\n",
      "[CV 1/5; 3/12] END activation=softmax, kernel_initializer=zero;, score=0.971 total time=   5.9s\n",
      "[CV 2/5; 3/12] START activation=softmax, kernel_initializer=zero................\n",
      "[CV 2/5; 3/12] END activation=softmax, kernel_initializer=zero;, score=0.750 total time=   5.9s\n",
      "[CV 3/5; 3/12] START activation=softmax, kernel_initializer=zero................\n",
      "[CV 3/5; 3/12] END activation=softmax, kernel_initializer=zero;, score=0.524 total time=   3.5s\n",
      "[CV 4/5; 3/12] START activation=softmax, kernel_initializer=zero................\n",
      "[CV 4/5; 3/12] END activation=softmax, kernel_initializer=zero;, score=0.718 total time=   3.5s\n",
      "[CV 5/5; 3/12] START activation=softmax, kernel_initializer=zero................\n",
      "[CV 5/5; 3/12] END activation=softmax, kernel_initializer=zero;, score=0.738 total time=   4.0s\n",
      "[CV 1/5; 4/12] START activation=relu, kernel_initializer=uniform................\n",
      "[CV 1/5; 4/12] END activation=relu, kernel_initializer=uniform;, score=0.990 total time=   5.8s\n",
      "[CV 2/5; 4/12] START activation=relu, kernel_initializer=uniform................\n",
      "[CV 2/5; 4/12] END activation=relu, kernel_initializer=uniform;, score=0.904 total time=   3.5s\n",
      "[CV 3/5; 4/12] START activation=relu, kernel_initializer=uniform................\n",
      "[CV 3/5; 4/12] END activation=relu, kernel_initializer=uniform;, score=0.903 total time=   5.9s\n",
      "[CV 4/5; 4/12] START activation=relu, kernel_initializer=uniform................\n",
      "[CV 4/5; 4/12] END activation=relu, kernel_initializer=uniform;, score=0.903 total time=   5.9s\n",
      "[CV 5/5; 4/12] START activation=relu, kernel_initializer=uniform................\n",
      "[CV 5/5; 4/12] END activation=relu, kernel_initializer=uniform;, score=0.893 total time=   3.4s\n",
      "[CV 1/5; 5/12] START activation=relu, kernel_initializer=normal.................\n",
      "[CV 1/5; 5/12] END activation=relu, kernel_initializer=normal;, score=1.000 total time=   3.5s\n",
      "[CV 2/5; 5/12] START activation=relu, kernel_initializer=normal.................\n",
      "[CV 2/5; 5/12] END activation=relu, kernel_initializer=normal;, score=0.885 total time=   3.5s\n",
      "[CV 3/5; 5/12] START activation=relu, kernel_initializer=normal.................\n",
      "[CV 3/5; 5/12] END activation=relu, kernel_initializer=normal;, score=0.883 total time=   5.8s\n",
      "[CV 4/5; 5/12] START activation=relu, kernel_initializer=normal.................\n",
      "[CV 4/5; 5/12] END activation=relu, kernel_initializer=normal;, score=0.913 total time=   5.8s\n",
      "[CV 5/5; 5/12] START activation=relu, kernel_initializer=normal.................\n",
      "[CV 5/5; 5/12] END activation=relu, kernel_initializer=normal;, score=0.893 total time=   3.8s\n",
      "[CV 1/5; 6/12] START activation=relu, kernel_initializer=zero...................\n",
      "[CV 1/5; 6/12] END activation=relu, kernel_initializer=zero;, score=1.000 total time=   3.5s\n",
      "[CV 2/5; 6/12] START activation=relu, kernel_initializer=zero...................\n",
      "[CV 2/5; 6/12] END activation=relu, kernel_initializer=zero;, score=0.750 total time=   5.8s\n",
      "[CV 3/5; 6/12] START activation=relu, kernel_initializer=zero...................\n",
      "[CV 3/5; 6/12] END activation=relu, kernel_initializer=zero;, score=0.524 total time=   3.5s\n",
      "[CV 4/5; 6/12] START activation=relu, kernel_initializer=zero...................\n",
      "[CV 4/5; 6/12] END activation=relu, kernel_initializer=zero;, score=0.680 total time=   3.5s\n",
      "[CV 5/5; 6/12] START activation=relu, kernel_initializer=zero...................\n",
      "[CV 5/5; 6/12] END activation=relu, kernel_initializer=zero;, score=0.699 total time=   5.8s\n",
      "[CV 1/5; 7/12] START activation=tanh, kernel_initializer=uniform................\n",
      "[CV 1/5; 7/12] END activation=tanh, kernel_initializer=uniform;, score=1.000 total time=   5.9s\n",
      "[CV 2/5; 7/12] START activation=tanh, kernel_initializer=uniform................\n",
      "[CV 2/5; 7/12] END activation=tanh, kernel_initializer=uniform;, score=0.942 total time=   5.9s\n",
      "[CV 3/5; 7/12] START activation=tanh, kernel_initializer=uniform................\n",
      "[CV 3/5; 7/12] END activation=tanh, kernel_initializer=uniform;, score=0.913 total time=   3.4s\n",
      "[CV 4/5; 7/12] START activation=tanh, kernel_initializer=uniform................\n",
      "[CV 4/5; 7/12] END activation=tanh, kernel_initializer=uniform;, score=0.942 total time=   3.5s\n",
      "[CV 5/5; 7/12] START activation=tanh, kernel_initializer=uniform................\n",
      "[CV 5/5; 7/12] END activation=tanh, kernel_initializer=uniform;, score=0.932 total time=   5.9s\n",
      "[CV 1/5; 8/12] START activation=tanh, kernel_initializer=normal.................\n",
      "[CV 1/5; 8/12] END activation=tanh, kernel_initializer=normal;, score=1.000 total time=   6.2s\n",
      "[CV 2/5; 8/12] START activation=tanh, kernel_initializer=normal.................\n",
      "[CV 2/5; 8/12] END activation=tanh, kernel_initializer=normal;, score=0.962 total time=   5.9s\n",
      "[CV 3/5; 8/12] START activation=tanh, kernel_initializer=normal.................\n",
      "[CV 3/5; 8/12] END activation=tanh, kernel_initializer=normal;, score=0.922 total time=   5.8s\n",
      "[CV 4/5; 8/12] START activation=tanh, kernel_initializer=normal.................\n",
      "[CV 4/5; 8/12] END activation=tanh, kernel_initializer=normal;, score=0.951 total time=   3.5s\n",
      "[CV 5/5; 8/12] START activation=tanh, kernel_initializer=normal.................\n",
      "[CV 5/5; 8/12] END activation=tanh, kernel_initializer=normal;, score=0.961 total time=   5.8s\n",
      "[CV 1/5; 9/12] START activation=tanh, kernel_initializer=zero...................\n",
      "[CV 1/5; 9/12] END activation=tanh, kernel_initializer=zero;, score=1.000 total time=   5.9s\n",
      "[CV 2/5; 9/12] START activation=tanh, kernel_initializer=zero...................\n",
      "[CV 2/5; 9/12] END activation=tanh, kernel_initializer=zero;, score=0.750 total time=   3.4s\n",
      "[CV 3/5; 9/12] START activation=tanh, kernel_initializer=zero...................\n",
      "[CV 3/5; 9/12] END activation=tanh, kernel_initializer=zero;, score=0.524 total time=   5.9s\n",
      "[CV 4/5; 9/12] START activation=tanh, kernel_initializer=zero...................\n",
      "[CV 4/5; 9/12] END activation=tanh, kernel_initializer=zero;, score=0.680 total time=   3.5s\n",
      "[CV 5/5; 9/12] START activation=tanh, kernel_initializer=zero...................\n",
      "[CV 5/5; 9/12] END activation=tanh, kernel_initializer=zero;, score=0.699 total time=   5.9s\n",
      "[CV 1/5; 10/12] START activation=linear, kernel_initializer=uniform.............\n",
      "[CV 1/5; 10/12] END activation=linear, kernel_initializer=uniform;, score=1.000 total time=   3.5s\n",
      "[CV 2/5; 10/12] START activation=linear, kernel_initializer=uniform.............\n",
      "[CV 2/5; 10/12] END activation=linear, kernel_initializer=uniform;, score=0.942 total time=   6.3s\n",
      "[CV 3/5; 10/12] START activation=linear, kernel_initializer=uniform.............\n",
      "[CV 3/5; 10/12] END activation=linear, kernel_initializer=uniform;, score=0.922 total time=   5.9s\n",
      "[CV 4/5; 10/12] START activation=linear, kernel_initializer=uniform.............\n",
      "[CV 4/5; 10/12] END activation=linear, kernel_initializer=uniform;, score=0.961 total time=   3.4s\n",
      "[CV 5/5; 10/12] START activation=linear, kernel_initializer=uniform.............\n",
      "[CV 5/5; 10/12] END activation=linear, kernel_initializer=uniform;, score=0.961 total time=   3.4s\n",
      "[CV 1/5; 11/12] START activation=linear, kernel_initializer=normal..............\n",
      "[CV 1/5; 11/12] END activation=linear, kernel_initializer=normal;, score=1.000 total time=   3.5s\n",
      "[CV 2/5; 11/12] START activation=linear, kernel_initializer=normal..............\n",
      "[CV 2/5; 11/12] END activation=linear, kernel_initializer=normal;, score=0.952 total time=   5.8s\n",
      "[CV 3/5; 11/12] START activation=linear, kernel_initializer=normal..............\n",
      "[CV 3/5; 11/12] END activation=linear, kernel_initializer=normal;, score=0.922 total time=   3.4s\n",
      "[CV 4/5; 11/12] START activation=linear, kernel_initializer=normal..............\n",
      "[CV 4/5; 11/12] END activation=linear, kernel_initializer=normal;, score=0.951 total time=   3.4s\n",
      "[CV 5/5; 11/12] START activation=linear, kernel_initializer=normal..............\n",
      "[CV 5/5; 11/12] END activation=linear, kernel_initializer=normal;, score=0.961 total time=   5.8s\n",
      "[CV 1/5; 12/12] START activation=linear, kernel_initializer=zero................\n",
      "[CV 1/5; 12/12] END activation=linear, kernel_initializer=zero;, score=1.000 total time=   5.8s\n",
      "[CV 2/5; 12/12] START activation=linear, kernel_initializer=zero................\n",
      "[CV 2/5; 12/12] END activation=linear, kernel_initializer=zero;, score=0.750 total time=   3.9s\n",
      "[CV 3/5; 12/12] START activation=linear, kernel_initializer=zero................\n",
      "[CV 3/5; 12/12] END activation=linear, kernel_initializer=zero;, score=0.524 total time=   3.5s\n",
      "[CV 4/5; 12/12] START activation=linear, kernel_initializer=zero................\n",
      "[CV 4/5; 12/12] END activation=linear, kernel_initializer=zero;, score=0.680 total time=   5.8s\n",
      "[CV 5/5; 12/12] START activation=linear, kernel_initializer=zero................\n",
      "[CV 5/5; 12/12] END activation=linear, kernel_initializer=zero;, score=0.699 total time=   3.5s\n"
     ]
    }
   ],
   "source": [
    "grid_results=grid.fit(standardized_x,Y)"
   ]
  },
  {
   "cell_type": "code",
   "execution_count": 73,
   "id": "db6ce933",
   "metadata": {
    "colab": {
     "base_uri": "https://localhost:8080/"
    },
    "id": "db6ce933",
    "outputId": "a2ca27ec-7c71-4ba2-dd75-597df6d7f2a9"
   },
   "outputs": [
    {
     "name": "stdout",
     "output_type": "stream",
     "text": [
      "Best : 0.9592979788780213, using {'activation': 'tanh', 'kernel_initializer': 'normal'}\n",
      "0.7305825233459473,0.15435061319000673 with: {'dropout_rate': 0.0, 'learning_rate': 0.1}\n",
      "0.9187266588211059,0.047822374909467634 with: {'dropout_rate': 0.0, 'learning_rate': 0.001}\n",
      "0.874159836769104,0.06017296054114781 with: {'dropout_rate': 0.0, 'learning_rate': 0.0001}\n",
      "0.7305825233459473,0.15435061319000673 with: {'dropout_rate': 0.01, 'learning_rate': 0.1}\n",
      "0.922591483592987,0.038074284235332795 with: {'dropout_rate': 0.01, 'learning_rate': 0.001}\n",
      "0.8741784930229187,0.06315419651652084 with: {'dropout_rate': 0.01, 'learning_rate': 0.0001}\n",
      "0.7305825233459473,0.15435061319000673 with: {'dropout_rate': 0.1, 'learning_rate': 0.1}\n",
      "0.9283980607986451,0.040687024858257176 with: {'dropout_rate': 0.1, 'learning_rate': 0.001}\n",
      "0.8644697546958924,0.07044098403475332 with: {'dropout_rate': 0.1, 'learning_rate': 0.0001}\n"
     ]
    }
   ],
   "source": [
    "# Summarize the results\n",
    "print('Best : {}, using {}'.format(grid_results.best_score_,grid_results.best_params_))\n",
    "means = grid_result.cv_results_['mean_test_score']\n",
    "stds = grid_result.cv_results_['std_test_score']\n",
    "params = grid_result.cv_results_['params']\n",
    "for mean, stdev, param in zip(means, stds, params):\n",
    "  print('{},{} with: {}'.format(mean, stdev, param)) "
   ]
  },
  {
   "cell_type": "code",
   "execution_count": 74,
   "id": "2ce98996",
   "metadata": {
    "id": "2ce98996"
   },
   "outputs": [],
   "source": [
    "#tuning of No. of neurons \n",
    "def model4(neuron1,neuron2):\n",
    "    model = Sequential()\n",
    "    model.add(Dense(neuron1, input_dim=28, kernel_initializer='uniform', activation='tanh'))\n",
    "    model.add(Dropout(0.1))\n",
    "    model.add(Dense(neuron2,input_dim=neuron1,kernel_initializer='uniform', activation='tanh'))\n",
    "    model.add(Dropout(0.1))\n",
    "    model.add(Dense(1, activation='sigmoid'))\n",
    "    adam=Adam(0.001)\n",
    "    model.compile(loss='binary_crossentropy',optimizer=adam,metrics=['accuracy'])\n",
    "    return model"
   ]
  },
  {
   "cell_type": "code",
   "execution_count": 75,
   "id": "f6d5f6e4",
   "metadata": {
    "colab": {
     "base_uri": "https://localhost:8080/"
    },
    "id": "f6d5f6e4",
    "outputId": "dd312220-c2ea-4be6-c35d-94f8b473ec83"
   },
   "outputs": [
    {
     "name": "stderr",
     "output_type": "stream",
     "text": [
      "/usr/local/lib/python3.7/dist-packages/ipykernel_launcher.py:1: DeprecationWarning: KerasClassifier is deprecated, use Sci-Keras (https://github.com/adriangb/scikeras) instead.\n",
      "  \"\"\"Entry point for launching an IPython kernel.\n"
     ]
    }
   ],
   "source": [
    "model=KerasClassifier(build_fn=model4,verbose=0,batch_size=5,epochs=150)"
   ]
  },
  {
   "cell_type": "code",
   "execution_count": 76,
   "id": "e95dcc3b",
   "metadata": {
    "id": "e95dcc3b"
   },
   "outputs": [],
   "source": [
    "neuron1=[4,8,16]\n",
    "neuron2=[2,4,8]"
   ]
  },
  {
   "cell_type": "code",
   "execution_count": 77,
   "id": "e3f44097",
   "metadata": {
    "id": "e3f44097"
   },
   "outputs": [],
   "source": [
    "param_grid=dict(neuron1=neuron1,neuron2=neuron2)\n",
    "grid=GridSearchCV(estimator=model,param_grid=param_grid,cv=KFold(),verbose=10)"
   ]
  },
  {
   "cell_type": "code",
   "execution_count": 78,
   "id": "aa06de0c",
   "metadata": {
    "colab": {
     "base_uri": "https://localhost:8080/"
    },
    "id": "aa06de0c",
    "outputId": "e079222b-ed36-4187-a8ce-b2353ff35efb"
   },
   "outputs": [
    {
     "name": "stdout",
     "output_type": "stream",
     "text": [
      "Fitting 5 folds for each of 9 candidates, totalling 45 fits\n",
      "[CV 1/5; 1/9] START neuron1=4, neuron2=2........................................\n",
      "[CV 1/5; 1/9] END .........neuron1=4, neuron2=2;, score=1.000 total time=  21.3s\n",
      "[CV 2/5; 1/9] START neuron1=4, neuron2=2........................................\n",
      "[CV 2/5; 1/9] END .........neuron1=4, neuron2=2;, score=0.904 total time=  15.0s\n",
      "[CV 3/5; 1/9] START neuron1=4, neuron2=2........................................\n",
      "[CV 3/5; 1/9] END .........neuron1=4, neuron2=2;, score=0.913 total time=  15.1s\n",
      "[CV 4/5; 1/9] START neuron1=4, neuron2=2........................................\n",
      "[CV 4/5; 1/9] END .........neuron1=4, neuron2=2;, score=0.942 total time=  21.2s\n",
      "[CV 5/5; 1/9] START neuron1=4, neuron2=2........................................\n",
      "[CV 5/5; 1/9] END .........neuron1=4, neuron2=2;, score=0.951 total time=  21.3s\n",
      "[CV 1/5; 2/9] START neuron1=4, neuron2=4........................................\n",
      "[CV 1/5; 2/9] END .........neuron1=4, neuron2=4;, score=1.000 total time=  21.2s\n",
      "[CV 2/5; 2/9] START neuron1=4, neuron2=4........................................\n",
      "[CV 2/5; 2/9] END .........neuron1=4, neuron2=4;, score=0.952 total time=  21.6s\n",
      "[CV 3/5; 2/9] START neuron1=4, neuron2=4........................................\n",
      "[CV 3/5; 2/9] END .........neuron1=4, neuron2=4;, score=0.913 total time=  21.2s\n",
      "[CV 4/5; 2/9] START neuron1=4, neuron2=4........................................\n",
      "[CV 4/5; 2/9] END .........neuron1=4, neuron2=4;, score=0.942 total time=  15.2s\n",
      "[CV 5/5; 2/9] START neuron1=4, neuron2=4........................................\n",
      "[CV 5/5; 2/9] END .........neuron1=4, neuron2=4;, score=0.942 total time=  21.3s\n",
      "[CV 1/5; 3/9] START neuron1=4, neuron2=8........................................\n",
      "[CV 1/5; 3/9] END .........neuron1=4, neuron2=8;, score=1.000 total time=  21.3s\n",
      "[CV 2/5; 3/9] START neuron1=4, neuron2=8........................................\n",
      "[CV 2/5; 3/9] END .........neuron1=4, neuron2=8;, score=0.952 total time=  21.2s\n",
      "[CV 3/5; 3/9] START neuron1=4, neuron2=8........................................\n",
      "[CV 3/5; 3/9] END .........neuron1=4, neuron2=8;, score=0.922 total time=  15.2s\n",
      "[CV 4/5; 3/9] START neuron1=4, neuron2=8........................................\n",
      "[CV 4/5; 3/9] END .........neuron1=4, neuron2=8;, score=0.942 total time=  21.2s\n",
      "[CV 5/5; 3/9] START neuron1=4, neuron2=8........................................\n",
      "[CV 5/5; 3/9] END .........neuron1=4, neuron2=8;, score=0.961 total time=  21.3s\n",
      "[CV 1/5; 4/9] START neuron1=8, neuron2=2........................................\n",
      "[CV 1/5; 4/9] END .........neuron1=8, neuron2=2;, score=1.000 total time=  21.2s\n",
      "[CV 2/5; 4/9] START neuron1=8, neuron2=2........................................\n",
      "[CV 2/5; 4/9] END .........neuron1=8, neuron2=2;, score=0.942 total time=  21.2s\n",
      "[CV 3/5; 4/9] START neuron1=8, neuron2=2........................................\n",
      "[CV 3/5; 4/9] END .........neuron1=8, neuron2=2;, score=0.922 total time=  15.6s\n",
      "[CV 4/5; 4/9] START neuron1=8, neuron2=2........................................\n",
      "[CV 4/5; 4/9] END .........neuron1=8, neuron2=2;, score=0.951 total time=  21.7s\n",
      "[CV 5/5; 4/9] START neuron1=8, neuron2=2........................................\n",
      "[CV 5/5; 4/9] END .........neuron1=8, neuron2=2;, score=0.913 total time=  15.5s\n",
      "[CV 1/5; 5/9] START neuron1=8, neuron2=4........................................\n",
      "[CV 1/5; 5/9] END .........neuron1=8, neuron2=4;, score=1.000 total time=  21.2s\n",
      "[CV 2/5; 5/9] START neuron1=8, neuron2=4........................................\n",
      "[CV 2/5; 5/9] END .........neuron1=8, neuron2=4;, score=0.942 total time=  21.2s\n",
      "[CV 3/5; 5/9] START neuron1=8, neuron2=4........................................\n",
      "[CV 3/5; 5/9] END .........neuron1=8, neuron2=4;, score=0.913 total time=  15.6s\n",
      "[CV 4/5; 5/9] START neuron1=8, neuron2=4........................................\n",
      "[CV 4/5; 5/9] END .........neuron1=8, neuron2=4;, score=0.942 total time=  15.7s\n",
      "[CV 5/5; 5/9] START neuron1=8, neuron2=4........................................\n",
      "[CV 5/5; 5/9] END .........neuron1=8, neuron2=4;, score=0.942 total time=  21.2s\n",
      "[CV 1/5; 6/9] START neuron1=8, neuron2=8........................................\n",
      "[CV 1/5; 6/9] END .........neuron1=8, neuron2=8;, score=1.000 total time=  21.2s\n",
      "[CV 2/5; 6/9] START neuron1=8, neuron2=8........................................\n",
      "[CV 2/5; 6/9] END .........neuron1=8, neuron2=8;, score=0.942 total time=  21.2s\n",
      "[CV 3/5; 6/9] START neuron1=8, neuron2=8........................................\n",
      "[CV 3/5; 6/9] END .........neuron1=8, neuron2=8;, score=0.922 total time=  21.2s\n",
      "[CV 4/5; 6/9] START neuron1=8, neuron2=8........................................\n",
      "[CV 4/5; 6/9] END .........neuron1=8, neuron2=8;, score=0.951 total time=  16.5s\n",
      "[CV 5/5; 6/9] START neuron1=8, neuron2=8........................................\n",
      "[CV 5/5; 6/9] END .........neuron1=8, neuron2=8;, score=0.951 total time=  21.3s\n",
      "[CV 1/5; 7/9] START neuron1=16, neuron2=2.......................................\n",
      "[CV 1/5; 7/9] END ........neuron1=16, neuron2=2;, score=1.000 total time=  21.3s\n",
      "[CV 2/5; 7/9] START neuron1=16, neuron2=2.......................................\n",
      "[CV 2/5; 7/9] END ........neuron1=16, neuron2=2;, score=0.875 total time=  18.1s\n",
      "[CV 3/5; 7/9] START neuron1=16, neuron2=2.......................................\n",
      "[CV 3/5; 7/9] END ........neuron1=16, neuron2=2;, score=0.893 total time=  21.3s\n",
      "[CV 4/5; 7/9] START neuron1=16, neuron2=2.......................................\n",
      "[CV 4/5; 7/9] END ........neuron1=16, neuron2=2;, score=0.951 total time=  18.1s\n",
      "[CV 5/5; 7/9] START neuron1=16, neuron2=2.......................................\n",
      "[CV 5/5; 7/9] END ........neuron1=16, neuron2=2;, score=0.942 total time=  18.2s\n",
      "[CV 1/5; 8/9] START neuron1=16, neuron2=4.......................................\n",
      "[CV 1/5; 8/9] END ........neuron1=16, neuron2=4;, score=1.000 total time=  21.3s\n",
      "[CV 2/5; 8/9] START neuron1=16, neuron2=4.......................................\n",
      "[CV 2/5; 8/9] END ........neuron1=16, neuron2=4;, score=0.933 total time=  18.2s\n",
      "[CV 3/5; 8/9] START neuron1=16, neuron2=4.......................................\n",
      "[CV 3/5; 8/9] END ........neuron1=16, neuron2=4;, score=0.913 total time=  17.9s\n",
      "[CV 4/5; 8/9] START neuron1=16, neuron2=4.......................................\n",
      "[CV 4/5; 8/9] END ........neuron1=16, neuron2=4;, score=0.951 total time=  18.0s\n",
      "[CV 5/5; 8/9] START neuron1=16, neuron2=4.......................................\n",
      "[CV 5/5; 8/9] END ........neuron1=16, neuron2=4;, score=0.951 total time=  18.4s\n",
      "[CV 1/5; 9/9] START neuron1=16, neuron2=8.......................................\n",
      "[CV 1/5; 9/9] END ........neuron1=16, neuron2=8;, score=1.000 total time=  21.2s\n",
      "[CV 2/5; 9/9] START neuron1=16, neuron2=8.......................................\n",
      "[CV 2/5; 9/9] END ........neuron1=16, neuron2=8;, score=0.933 total time=  21.2s\n",
      "[CV 3/5; 9/9] START neuron1=16, neuron2=8.......................................\n",
      "[CV 3/5; 9/9] END ........neuron1=16, neuron2=8;, score=0.913 total time=  18.0s\n",
      "[CV 4/5; 9/9] START neuron1=16, neuron2=8.......................................\n",
      "[CV 4/5; 9/9] END ........neuron1=16, neuron2=8;, score=0.961 total time=  18.0s\n",
      "[CV 5/5; 9/9] START neuron1=16, neuron2=8.......................................\n",
      "[CV 5/5; 9/9] END ........neuron1=16, neuron2=8;, score=0.942 total time=  21.3s\n"
     ]
    }
   ],
   "source": [
    "grid_result=grid.fit(standardized_x,Y)"
   ]
  },
  {
   "cell_type": "code",
   "execution_count": 79,
   "id": "4a47d8f4",
   "metadata": {
    "colab": {
     "base_uri": "https://localhost:8080/"
    },
    "id": "4a47d8f4",
    "outputId": "2ed9a7cf-50ee-4a97-f033-a346f9e1041e"
   },
   "outputs": [
    {
     "name": "stdout",
     "output_type": "stream",
     "text": [
      "Best : 0.9554331541061402, using {'neuron1': 4, 'neuron2': 8}\n",
      "0.9419342756271363,0.033977298174622195 with: {'neuron1': 4, 'neuron2': 2}\n",
      "0.9496079087257385,0.028412310122185234 with: {'neuron1': 4, 'neuron2': 4}\n",
      "0.9554331541061402,0.02574680009311949 with: {'neuron1': 4, 'neuron2': 8}\n",
      "0.9457430958747863,0.030441654663211172 with: {'neuron1': 8, 'neuron2': 2}\n",
      "0.9476848363876342,0.028515745495205004 with: {'neuron1': 8, 'neuron2': 4}\n",
      "0.9535100817680359,0.025563387902815017 with: {'neuron1': 8, 'neuron2': 8}\n",
      "0.9322815418243409,0.04438762702369419 with: {'neuron1': 16, 'neuron2': 2}\n",
      "0.9496452569961548,0.028983894211835056 with: {'neuron1': 16, 'neuron2': 4}\n",
      "0.9496452569961548,0.029627185975445405 with: {'neuron1': 16, 'neuron2': 8}\n"
     ]
    }
   ],
   "source": [
    "# Summarize the results\n",
    "print('Best : {}, using {}'.format(grid_result.best_score_,grid_result.best_params_))\n",
    "means = grid_result.cv_results_['mean_test_score']\n",
    "stds = grid_result.cv_results_['std_test_score']\n",
    "params = grid_result.cv_results_['params']\n",
    "for mean, stdev, param in zip(means, stds, params):\n",
    "  print('{},{} with: {}'.format(mean, stdev, param)) "
   ]
  },
  {
   "cell_type": "code",
   "execution_count": 80,
   "id": "292a527c",
   "metadata": {
    "id": "292a527c"
   },
   "outputs": [],
   "source": [
    "#Building Final model using all these parameters\n",
    "from sklearn.metrics import classification_report, accuracy_score\n",
    "\n",
    "def model_final():\n",
    "    model=Sequential()\n",
    "    model.add(Dense(4,input_dim=28,kernel_initializer='uniform', activation='tanh'))\n",
    "    model.add(Dropout(0.01))\n",
    "    model.add(Dense(8,input_dim=4,kernel_initializer='uniform', activation='tanh'))\n",
    "    model.add(Dropout(0.01))\n",
    "    model.add(Dense(1,activation='sigmoid'))\n",
    "    adam=Adam(lr=0.001)\n",
    "    model.compile(loss='binary_crossentropy',optimizer=adam,metrics=['accuracy'])\n",
    "   \n",
    "    return model"
   ]
  },
  {
   "cell_type": "code",
   "execution_count": 81,
   "id": "9170466b",
   "metadata": {
    "colab": {
     "base_uri": "https://localhost:8080/"
    },
    "id": "9170466b",
    "outputId": "d7319d74-cd7e-4840-a61a-968cb1f6303a"
   },
   "outputs": [
    {
     "name": "stderr",
     "output_type": "stream",
     "text": [
      "/usr/local/lib/python3.7/dist-packages/ipykernel_launcher.py:1: DeprecationWarning: KerasClassifier is deprecated, use Sci-Keras (https://github.com/adriangb/scikeras) instead.\n",
      "  \"\"\"Entry point for launching an IPython kernel.\n"
     ]
    }
   ],
   "source": [
    "model=KerasClassifier(build_fn=model_final,batch_size=20,epochs=100,verbose=0)"
   ]
  },
  {
   "cell_type": "code",
   "execution_count": 82,
   "id": "ccbc045d",
   "metadata": {
    "colab": {
     "base_uri": "https://localhost:8080/"
    },
    "id": "ccbc045d",
    "outputId": "a0cf51dc-c7bf-494b-8517-e12738e303f9"
   },
   "outputs": [
    {
     "name": "stderr",
     "output_type": "stream",
     "text": [
      "/usr/local/lib/python3.7/dist-packages/keras/optimizer_v2/adam.py:105: UserWarning: The `lr` argument is deprecated, use `learning_rate` instead.\n",
      "  super(Adam, self).__init__(name, **kwargs)\n"
     ]
    },
    {
     "data": {
      "text/plain": [
       "<keras.callbacks.History at 0x7fc2d1cc15d0>"
      ]
     },
     "execution_count": 82,
     "metadata": {},
     "output_type": "execute_result"
    }
   ],
   "source": [
    "model.fit(standardized_x,Y)"
   ]
  },
  {
   "cell_type": "code",
   "execution_count": 83,
   "id": "d7ffa9ed",
   "metadata": {
    "id": "d7ffa9ed"
   },
   "outputs": [],
   "source": [
    "y_predict=model.predict(standardized_x)"
   ]
  },
  {
   "cell_type": "code",
   "execution_count": 84,
   "id": "29acb212",
   "metadata": {
    "colab": {
     "base_uri": "https://localhost:8080/"
    },
    "id": "29acb212",
    "outputId": "0740bd58-7aa2-4971-e8e8-e3ee9288ec95"
   },
   "outputs": [
    {
     "name": "stdout",
     "output_type": "stream",
     "text": [
      "0.9941972920696325\n"
     ]
    }
   ],
   "source": [
    "print(accuracy_score(Y,y_predict))"
   ]
  },
  {
   "cell_type": "code",
   "execution_count": 85,
   "id": "a862d130",
   "metadata": {
    "id": "a862d130"
   },
   "outputs": [],
   "source": [
    "#final model is having 98.64% accuracy by using the grid search parameters"
   ]
  },
  {
   "cell_type": "code",
   "execution_count": 86,
   "id": "9c34433c",
   "metadata": {
    "id": "9c34433c"
   },
   "outputs": [],
   "source": []
  },
  {
   "cell_type": "code",
   "execution_count": null,
   "id": "ad835758",
   "metadata": {
    "id": "ad835758"
   },
   "outputs": [],
   "source": []
  },
  {
   "cell_type": "code",
   "execution_count": null,
   "id": "85a98ce8",
   "metadata": {
    "id": "85a98ce8"
   },
   "outputs": [],
   "source": []
  },
  {
   "cell_type": "code",
   "execution_count": null,
   "id": "8bd7fb71",
   "metadata": {
    "id": "8bd7fb71"
   },
   "outputs": [],
   "source": []
  },
  {
   "cell_type": "code",
   "execution_count": null,
   "id": "8c7563dd",
   "metadata": {
    "id": "8c7563dd"
   },
   "outputs": [],
   "source": []
  },
  {
   "cell_type": "code",
   "execution_count": null,
   "id": "9035492c",
   "metadata": {
    "id": "9035492c"
   },
   "outputs": [],
   "source": []
  },
  {
   "cell_type": "code",
   "execution_count": null,
   "id": "d21f1201",
   "metadata": {
    "id": "d21f1201"
   },
   "outputs": [],
   "source": []
  }
 ],
 "metadata": {
  "colab": {
   "name": "neuralnetwork(forestfire)",
   "provenance": []
  },
  "kernelspec": {
   "display_name": "Python 3",
   "language": "python",
   "name": "python3"
  },
  "language_info": {
   "codemirror_mode": {
    "name": "ipython",
    "version": 3
   },
   "file_extension": ".py",
   "mimetype": "text/x-python",
   "name": "python",
   "nbconvert_exporter": "python",
   "pygments_lexer": "ipython3",
   "version": "3.8.8"
  }
 },
 "nbformat": 4,
 "nbformat_minor": 5
}
