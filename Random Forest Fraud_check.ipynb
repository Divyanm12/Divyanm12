{
  "nbformat": 4,
  "nbformat_minor": 0,
  "metadata": {
    "colab": {
      "name": "Untitled11.ipynb",
      "provenance": []
    },
    "kernelspec": {
      "name": "python3",
      "display_name": "Python 3"
    },
    "language_info": {
      "name": "python"
    }
  },
  "cells": [
    {
      "cell_type": "code",
      "metadata": {
        "id": "bINjo9s21rfz"
      },
      "source": [
        "import pandas as pd\n",
        "import numpy as np\n",
        "import matplotlib.pyplot"
      ],
      "execution_count": null,
      "outputs": []
    },
    {
      "cell_type": "code",
      "metadata": {
        "id": "JRfBGC9m181U"
      },
      "source": [
        "fraud=pd.read_csv('Fraud_check.csv')"
      ],
      "execution_count": null,
      "outputs": []
    },
    {
      "cell_type": "code",
      "metadata": {
        "id": "0dCpMSY82F8L"
      },
      "source": [
        "fraud[\"income\"]=\"<=30000\"\n",
        "fraud.loc[fraud[\"Taxable.Income\"]>=30000,\"income\"]=\"Good\"\n",
        "fraud.loc[fraud[\"Taxable.Income\"]<=30000,\"income\"]=\"Risky\""
      ],
      "execution_count": null,
      "outputs": []
    },
    {
      "cell_type": "code",
      "metadata": {
        "id": "yy9J45yL2Kw-"
      },
      "source": [
        "fraud.drop([\"Taxable.Income\"],axis=1,inplace=True)\n"
      ],
      "execution_count": null,
      "outputs": []
    },
    {
      "cell_type": "code",
      "metadata": {
        "id": "n7OzFblw2VCy"
      },
      "source": [
        "fraud.rename(columns={\"Undergrad\":\"undergrad\",\"Marital.Status\":\"marital\",\"City.Population\":\"population\",\"Work.Experience\":\"experience\",\"Urban\":\"urban\"},inplace=True)"
      ],
      "execution_count": null,
      "outputs": []
    },
    {
      "cell_type": "code",
      "metadata": {
        "id": "ferzWR8I2XMW"
      },
      "source": [
        "from sklearn import preprocessing\n",
        "le=preprocessing.LabelEncoder()\n",
        "for column_name in fraud.columns:\n",
        "    if fraud[column_name].dtype == object:\n",
        "        fraud[column_name] = le.fit_transform(fraud[column_name])\n",
        "    else:\n",
        "        pass\n",
        "  "
      ],
      "execution_count": null,
      "outputs": []
    },
    {
      "cell_type": "code",
      "metadata": {
        "id": "m55Lah8x2j8Z"
      },
      "source": [
        "features = fraud.iloc[:,0:5]\n",
        "labels = fraud.iloc[:,5]"
      ],
      "execution_count": null,
      "outputs": []
    },
    {
      "cell_type": "code",
      "metadata": {
        "id": "PW3asNEL2o9M"
      },
      "source": [
        "colnames = list(fraud.columns)\n",
        "predictors = colnames[0:5]\n",
        "target = colnames[5]\n",
        "##Splitting the data into train and test"
      ],
      "execution_count": null,
      "outputs": []
    },
    {
      "cell_type": "code",
      "metadata": {
        "id": "yFc9FfGh2tIf"
      },
      "source": [
        "from sklearn.model_selection import train_test_split\n",
        "x_train,x_test,y_train,y_test = train_test_split(features,labels,test_size = 0.2,stratify = labels)\n"
      ],
      "execution_count": null,
      "outputs": []
    },
    {
      "cell_type": "code",
      "metadata": {
        "colab": {
          "base_uri": "https://localhost:8080/"
        },
        "id": "LYWE1cKk2yWL",
        "outputId": "c86c4c94-59a9-49eb-e69c-19c6ced77268"
      },
      "source": [
        "from sklearn.ensemble import RandomForestClassifier as RF\n",
        "model = RF(n_jobs = 3,n_estimators = 15, oob_score = True, criterion = \"entropy\")\n",
        "model.fit(x_train,y_train)"
      ],
      "execution_count": null,
      "outputs": [
        {
          "output_type": "stream",
          "name": "stderr",
          "text": [
            "/usr/local/lib/python3.7/dist-packages/sklearn/base.py:446: UserWarning: X does not have valid feature names, but RandomForestClassifier was fitted with feature names\n",
            "  \"X does not have valid feature names, but\"\n"
          ]
        },
        {
          "output_type": "execute_result",
          "data": {
            "text/plain": [
              "RandomForestClassifier(criterion='entropy', n_estimators=15, n_jobs=3,\n",
              "                       oob_score=True)"
            ]
          },
          "metadata": {},
          "execution_count": 10
        }
      ]
    },
    {
      "cell_type": "code",
      "metadata": {
        "colab": {
          "base_uri": "https://localhost:8080/"
        },
        "id": "vD5yQ-OZ22bX",
        "outputId": "207b0c67-2255-4094-db4d-7bcbe96b569f"
      },
      "source": [
        "model.estimators_\n",
        "model.classes_\n",
        "model.n_features_\n",
        "model.n_classes_"
      ],
      "execution_count": null,
      "outputs": [
        {
          "output_type": "stream",
          "name": "stderr",
          "text": [
            "/usr/local/lib/python3.7/dist-packages/sklearn/utils/deprecation.py:103: FutureWarning: Attribute `n_features_` was deprecated in version 1.0 and will be removed in 1.2. Use `n_features_in_` instead.\n",
            "  warnings.warn(msg, category=FutureWarning)\n"
          ]
        },
        {
          "output_type": "execute_result",
          "data": {
            "text/plain": [
              "2"
            ]
          },
          "metadata": {},
          "execution_count": 11
        }
      ]
    },
    {
      "cell_type": "code",
      "metadata": {
        "colab": {
          "base_uri": "https://localhost:8080/"
        },
        "id": "tMDOUijV2_Ee",
        "outputId": "5771b173-8df6-4d1a-83a7-7c4730e0321c"
      },
      "source": [
        "model.n_outputs_"
      ],
      "execution_count": null,
      "outputs": [
        {
          "output_type": "execute_result",
          "data": {
            "text/plain": [
              "1"
            ]
          },
          "metadata": {},
          "execution_count": 12
        }
      ]
    },
    {
      "cell_type": "code",
      "metadata": {
        "colab": {
          "base_uri": "https://localhost:8080/"
        },
        "id": "9TqFKLPk3JEW",
        "outputId": "bfac776a-9634-4723-c917-7e8073b89b25"
      },
      "source": [
        "model.oob_score_"
      ],
      "execution_count": null,
      "outputs": [
        {
          "output_type": "execute_result",
          "data": {
            "text/plain": [
              "0.725"
            ]
          },
          "metadata": {},
          "execution_count": 13
        }
      ]
    },
    {
      "cell_type": "code",
      "metadata": {
        "id": "OYb_FOGY3Sln"
      },
      "source": [
        "prediction = model.predict(x_train)"
      ],
      "execution_count": null,
      "outputs": []
    },
    {
      "cell_type": "code",
      "metadata": {
        "id": "GuX5Q7hp3X-W"
      },
      "source": [
        "from sklearn.metrics import accuracy_score\n",
        "accuracy = accuracy_score(y_train,prediction)"
      ],
      "execution_count": null,
      "outputs": []
    },
    {
      "cell_type": "code",
      "metadata": {
        "colab": {
          "base_uri": "https://localhost:8080/"
        },
        "id": "TA6nxZIU3Z4v",
        "outputId": "49ccc32c-8f19-41df-cd84-b707e4316025"
      },
      "source": [
        "np.mean(prediction == y_train)"
      ],
      "execution_count": null,
      "outputs": [
        {
          "output_type": "execute_result",
          "data": {
            "text/plain": [
              "0.9833333333333333"
            ]
          },
          "metadata": {},
          "execution_count": 16
        }
      ]
    },
    {
      "cell_type": "code",
      "metadata": {
        "id": "UPlcW9WU3hgJ"
      },
      "source": [
        "from sklearn.metrics import confusion_matrix\n",
        "confusion = confusion_matrix(y_train,prediction)"
      ],
      "execution_count": null,
      "outputs": []
    },
    {
      "cell_type": "code",
      "metadata": {
        "id": "VN5k2dNx3omv"
      },
      "source": [
        "pred_test = model.predict(x_test)"
      ],
      "execution_count": null,
      "outputs": []
    },
    {
      "cell_type": "code",
      "metadata": {
        "id": "iC79-pM73tsf"
      },
      "source": [
        "acc_test =accuracy_score(y_test,pred_test)"
      ],
      "execution_count": null,
      "outputs": []
    },
    {
      "cell_type": "code",
      "metadata": {
        "colab": {
          "base_uri": "https://localhost:8080/"
        },
        "id": "Ru6gLdUs382C",
        "outputId": "45c8a2ee-abd6-4041-c013-c7afeb85cbdf"
      },
      "source": [
        "!pip install Six"
      ],
      "execution_count": null,
      "outputs": [
        {
          "output_type": "stream",
          "name": "stdout",
          "text": [
            "Requirement already satisfied: Six in /usr/local/lib/python3.7/dist-packages (1.15.0)\n"
          ]
        }
      ]
    },
    {
      "cell_type": "code",
      "metadata": {
        "colab": {
          "base_uri": "https://localhost:8080/",
          "height": 349
        },
        "id": "Lyc_VAFN4Vfc",
        "outputId": "3f4a3fd7-fa00-4ea7-d1e3-f50c8059c84d"
      },
      "source": [
        "!pip install --upgrade scikit-learn==0.20.3"
      ],
      "execution_count": null,
      "outputs": [
        {
          "output_type": "stream",
          "name": "stdout",
          "text": [
            "Collecting scikit-learn==0.20.3\n",
            "  Downloading scikit_learn-0.20.3-cp37-cp37m-manylinux1_x86_64.whl (5.4 MB)\n",
            "\u001b[K     |████████████████████████████████| 5.4 MB 29.6 MB/s \n",
            "\u001b[?25hRequirement already satisfied: scipy>=0.13.3 in /usr/local/lib/python3.7/dist-packages (from scikit-learn==0.20.3) (1.4.1)\n",
            "Requirement already satisfied: numpy>=1.8.2 in /usr/local/lib/python3.7/dist-packages (from scikit-learn==0.20.3) (1.19.5)\n",
            "Installing collected packages: scikit-learn\n",
            "  Attempting uninstall: scikit-learn\n",
            "    Found existing installation: scikit-learn 1.0.1\n",
            "    Uninstalling scikit-learn-1.0.1:\n",
            "      Successfully uninstalled scikit-learn-1.0.1\n",
            "\u001b[31mERROR: pip's dependency resolver does not currently take into account all the packages that are installed. This behaviour is the source of the following dependency conflicts.\n",
            "imbalanced-learn 0.8.1 requires scikit-learn>=0.24, but you have scikit-learn 0.20.3 which is incompatible.\u001b[0m\n",
            "Successfully installed scikit-learn-0.20.3\n"
          ]
        },
        {
          "output_type": "display_data",
          "data": {
            "application/vnd.colab-display-data+json": {
              "pip_warning": {
                "packages": [
                  "sklearn"
                ]
              }
            }
          },
          "metadata": {}
        }
      ]
    },
    {
      "cell_type": "code",
      "metadata": {
        "id": "lTZsUeoh31Gw"
      },
      "source": [
        "from sklearn.tree import export_graphviz\n",
        "import pydotplus\n",
        "from six import StringIO\n",
        "from sklearn.externals.six import StringIO"
      ],
      "execution_count": null,
      "outputs": []
    },
    {
      "cell_type": "code",
      "metadata": {
        "id": "fE7Qs0Gl4oSm"
      },
      "source": [
        "tree = model.estimators_[5]"
      ],
      "execution_count": null,
      "outputs": []
    },
    {
      "cell_type": "code",
      "metadata": {
        "id": "kdKbZSK443La"
      },
      "source": [
        "dot_data = StringIO()\n",
        "export_graphviz(tree,out_file = dot_data, filled = True,rounded = True, feature_names = predictors ,class_names = target,impurity =False)\n"
      ],
      "execution_count": null,
      "outputs": []
    },
    {
      "cell_type": "code",
      "metadata": {
        "id": "obGneLZQ48VH"
      },
      "source": [
        "graph = pydotplus.graph_from_dot_data(dot_data.getvalue())\n"
      ],
      "execution_count": null,
      "outputs": []
    },
    {
      "cell_type": "code",
      "metadata": {
        "colab": {
          "base_uri": "https://localhost:8080/"
        },
        "id": "HcxtE5qQ5B7r",
        "outputId": "9f286036-649d-4d2c-fe2f-34cbb2b1149c"
      },
      "source": [
        "graph.write_pdf('fraudrf.pdf')\n",
        "graph.write_png('fraudrf.png')"
      ],
      "execution_count": null,
      "outputs": [
        {
          "output_type": "execute_result",
          "data": {
            "text/plain": [
              "True"
            ]
          },
          "metadata": {},
          "execution_count": 28
        }
      ]
    }
  ]
}